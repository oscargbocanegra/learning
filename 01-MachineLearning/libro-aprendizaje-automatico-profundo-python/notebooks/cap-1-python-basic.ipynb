{
 "cells": [
  {
   "cell_type": "markdown",
   "metadata": {
    "toc": true
   },
   "source": [
    "<h1>Tabla de contenido<span class=\"tocSkip\"></span></h1>\n",
    "<div class=\"toc\"><ul class=\"toc-item\"><li><span><a href=\"#Conceptos-básicos-de-programación-en-python\" data-toc-modified-id=\"Conceptos-básicos-de-programación-en-python-1\"><span class=\"toc-item-num\">1&nbsp;&nbsp;</span>Conceptos básicos de programación en python</a></span><ul class=\"toc-item\"><li><span><a href=\"#Hola-Mundo\" data-toc-modified-id=\"Hola-Mundo-1.1\"><span class=\"toc-item-num\">1.1&nbsp;&nbsp;</span>Hola Mundo</a></span></li><li><span><a href=\"#Ejemplo-Indentación\" data-toc-modified-id=\"Ejemplo-Indentación-1.2\"><span class=\"toc-item-num\">1.2&nbsp;&nbsp;</span>Ejemplo Indentación</a></span></li><li><span><a href=\"#Variables,-tipos-de-datos-y-operadores\" data-toc-modified-id=\"Variables,-tipos-de-datos-y-operadores-1.3\"><span class=\"toc-item-num\">1.3&nbsp;&nbsp;</span>Variables, tipos de datos y operadores</a></span></li><li><span><a href=\"#Estructuras-de-datos:-tuplas,-listas-y-diccionarios\" data-toc-modified-id=\"Estructuras-de-datos:-tuplas,-listas-y-diccionarios-1.4\"><span class=\"toc-item-num\">1.4&nbsp;&nbsp;</span>Estructuras de datos: tuplas, listas y diccionarios</a></span><ul class=\"toc-item\"><li><span><a href=\"#Tuplas\" data-toc-modified-id=\"Tuplas-1.4.1\"><span class=\"toc-item-num\">1.4.1&nbsp;&nbsp;</span>Tuplas</a></span></li><li><span><a href=\"#Listas\" data-toc-modified-id=\"Listas-1.4.2\"><span class=\"toc-item-num\">1.4.2&nbsp;&nbsp;</span>Listas</a></span></li><li><span><a href=\"#Diccionarios\" data-toc-modified-id=\"Diccionarios-1.4.3\"><span class=\"toc-item-num\">1.4.3&nbsp;&nbsp;</span>Diccionarios</a></span></li></ul></li><li><span><a href=\"#Estructuras-selectivas\" data-toc-modified-id=\"Estructuras-selectivas-1.5\"><span class=\"toc-item-num\">1.5&nbsp;&nbsp;</span>Estructuras selectivas</a></span><ul class=\"toc-item\"><li><span><a href=\"#Simples\" data-toc-modified-id=\"Simples-1.5.1\"><span class=\"toc-item-num\">1.5.1&nbsp;&nbsp;</span>Simples</a></span></li><li><span><a href=\"#Dobles\" data-toc-modified-id=\"Dobles-1.5.2\"><span class=\"toc-item-num\">1.5.2&nbsp;&nbsp;</span>Dobles</a></span></li><li><span><a href=\"#Múltiple\" data-toc-modified-id=\"Múltiple-1.5.3\"><span class=\"toc-item-num\">1.5.3&nbsp;&nbsp;</span>Múltiple</a></span></li></ul></li><li><span><a href=\"#Estructuras-repetitivas\" data-toc-modified-id=\"Estructuras-repetitivas-1.6\"><span class=\"toc-item-num\">1.6&nbsp;&nbsp;</span>Estructuras repetitivas</a></span><ul class=\"toc-item\"><li><span><a href=\"#for\" data-toc-modified-id=\"for-1.6.1\"><span class=\"toc-item-num\">1.6.1&nbsp;&nbsp;</span>for</a></span></li><li><span><a href=\"#while\" data-toc-modified-id=\"while-1.6.2\"><span class=\"toc-item-num\">1.6.2&nbsp;&nbsp;</span>while</a></span></li></ul></li><li><span><a href=\"#Funciones\" data-toc-modified-id=\"Funciones-1.7\"><span class=\"toc-item-num\">1.7&nbsp;&nbsp;</span>Funciones</a></span></li><li><span><a href=\"#Clases-y-objetos\" data-toc-modified-id=\"Clases-y-objetos-1.8\"><span class=\"toc-item-num\">1.8&nbsp;&nbsp;</span>Clases y objetos</a></span></li></ul></li></ul></div>"
   ]
  },
  {
   "cell_type": "markdown",
   "metadata": {},
   "source": [
    "# Conceptos básicos de programación en python"
   ]
  },
  {
   "cell_type": "markdown",
   "metadata": {},
   "source": [
    "## Hola Mundo"
   ]
  },
  {
   "cell_type": "code",
   "execution_count": 1,
   "metadata": {},
   "outputs": [
    {
     "name": "stdout",
     "output_type": "stream",
     "text": [
      "Hola mundo\n"
     ]
    }
   ],
   "source": [
    "print(\"Hola mundo\")"
   ]
  },
  {
   "cell_type": "markdown",
   "metadata": {},
   "source": [
    "## Ejemplo Indentación"
   ]
  },
  {
   "cell_type": "code",
   "execution_count": 3,
   "metadata": {},
   "outputs": [
    {
     "name": "stdout",
     "output_type": "stream",
     "text": [
      "El número es positivo\n",
      "Se trata del número  2\n"
     ]
    }
   ],
   "source": [
    "a = 2\n",
    "if a > 0:\n",
    "    print(\"El número es positivo\")\n",
    "    print(\"Se trata del número \" , a)"
   ]
  },
  {
   "cell_type": "markdown",
   "metadata": {},
   "source": [
    "## Variables, tipos de datos y operadores"
   ]
  },
  {
   "cell_type": "code",
   "execution_count": 4,
   "metadata": {},
   "outputs": [],
   "source": [
    "n1 = -5\n",
    "n2 = 0\n",
    "n3 = 10\n",
    "n4 = -5\n",
    "n5 = 3.5\n",
    "n6 = 0.9\n",
    "n1 = 0.5"
   ]
  },
  {
   "cell_type": "code",
   "execution_count": 5,
   "metadata": {},
   "outputs": [
    {
     "name": "stdout",
     "output_type": "stream",
     "text": [
      "<class 'float'>\n"
     ]
    }
   ],
   "source": [
    "print(type(n1))"
   ]
  },
  {
   "cell_type": "code",
   "execution_count": 6,
   "metadata": {},
   "outputs": [],
   "source": [
    "es_adulto = False\n",
    "esta_trabajando = True"
   ]
  },
  {
   "cell_type": "code",
   "execution_count": 7,
   "metadata": {},
   "outputs": [],
   "source": [
    "direccion = \"cll 27a # 9i 10\""
   ]
  },
  {
   "cell_type": "code",
   "execution_count": 8,
   "metadata": {},
   "outputs": [
    {
     "name": "stdout",
     "output_type": "stream",
     "text": [
      "Hola Mundo\n"
     ]
    }
   ],
   "source": [
    "cad1 = \"Hola\"\n",
    "cad2 = \"Mundo\"\n",
    "cad3 = cad1 + \" \" + cad2\n",
    "print(cad3)"
   ]
  },
  {
   "cell_type": "code",
   "execution_count": 9,
   "metadata": {},
   "outputs": [
    {
     "data": {
      "text/plain": [
       "' Esto es un comentario de \\n    varias líneas\\n'"
      ]
     },
     "execution_count": 9,
     "metadata": {},
     "output_type": "execute_result"
    }
   ],
   "source": [
    "#Esto es un comentario de una linea\n",
    "\n",
    "\"\"\" Esto es un comentario de \n",
    "    varias líneas\n",
    "\"\"\""
   ]
  },
  {
   "cell_type": "markdown",
   "metadata": {},
   "source": [
    "## Estructuras de datos: tuplas, listas y diccionarios"
   ]
  },
  {
   "cell_type": "markdown",
   "metadata": {},
   "source": [
    "### Tuplas"
   ]
  },
  {
   "cell_type": "code",
   "execution_count": 11,
   "metadata": {},
   "outputs": [
    {
     "name": "stdout",
     "output_type": "stream",
     "text": [
      "(1, 'hola', 3.5)\n",
      "1\n"
     ]
    },
    {
     "ename": "TypeError",
     "evalue": "'tuple' object does not support item assignment",
     "output_type": "error",
     "traceback": [
      "\u001b[1;31m---------------------------------------------------------------------------\u001b[0m",
      "\u001b[1;31mTypeError\u001b[0m                                 Traceback (most recent call last)",
      "Cell \u001b[1;32mIn[11], line 7\u001b[0m\n\u001b[0;32m      5\u001b[0m \u001b[38;5;28mprint\u001b[39m(tupla[\u001b[38;5;241m0\u001b[39m])\n\u001b[0;32m      6\u001b[0m \u001b[38;5;66;03m# Esta operación no está permitida\u001b[39;00m\n\u001b[1;32m----> 7\u001b[0m \u001b[43mtupla\u001b[49m\u001b[43m[\u001b[49m\u001b[38;5;241;43m0\u001b[39;49m\u001b[43m]\u001b[49m \u001b[38;5;241m=\u001b[39m \u001b[38;5;241m2\u001b[39m\n",
      "\u001b[1;31mTypeError\u001b[0m: 'tuple' object does not support item assignment"
     ]
    }
   ],
   "source": [
    "tupla = (1, \"hola\", 3.5)\n",
    "# mostramos todos los datos de la tupla\n",
    "print(tupla)\n",
    "# mostramos el primer elemento\n",
    "print(tupla[0])\n",
    "# Esta operación no está permitida\n",
    "upla[0] = 2"
   ]
  },
  {
   "cell_type": "markdown",
   "metadata": {},
   "source": [
    "### Listas"
   ]
  },
  {
   "cell_type": "code",
   "execution_count": 12,
   "metadata": {},
   "outputs": [
    {
     "name": "stdout",
     "output_type": "stream",
     "text": [
      "['Aprendizaje automático']\n",
      "Python\n"
     ]
    }
   ],
   "source": [
    "# creamos un lista vacia\n",
    "lista1 = []\n",
    "# adicionamos un elemento tipo String\n",
    "lista1.append(\"Aprendizaje automático\")\n",
    "print(lista1)\n",
    "# Creamos otra lista con algunos elementos\n",
    "lista2 = [\"Python\",\"Java\",\"C++\"]\n",
    "# mostramos el primer elemento (Python)\n",
    "print(lista2[0])"
   ]
  },
  {
   "cell_type": "code",
   "execution_count": 13,
   "metadata": {},
   "outputs": [
    {
     "name": "stdout",
     "output_type": "stream",
     "text": [
      "Todas:  [18, 22, 33, 15, 25, 26, 35, 40, 13, 20]\n",
      "1-ultimo:  [22, 33, 15, 25, 26, 35, 40, 13, 20]\n",
      "1-3:  [22, 33]\n",
      "0-penultimo:  [18, 22, 33, 15, 25, 26, 35, 40, 13]\n"
     ]
    }
   ],
   "source": [
    "edades = [18, 22, 33, 15, 25, 26, 35, 40, 13, 20]\n",
    "# muestra todas las edades\n",
    "print(\"Todas: \" , edades[:])\n",
    "# Muestra de la 1 hasta el último\n",
    "print(\"1-ultimo: \" , edades[1:])\n",
    "# Muestra de la 1 a la 3 sin incluir la 3\n",
    "print(\"1-3: \" , edades[1:3])\n",
    "# Muestra del 0 hasta el penultimo\n",
    "print(\"0-penultimo: \" , edades[0:-1])"
   ]
  },
  {
   "cell_type": "code",
   "execution_count": 14,
   "metadata": {},
   "outputs": [
    {
     "name": "stdout",
     "output_type": "stream",
     "text": [
      "Longitud: 3\n",
      "['Python', 'Java', 'C++', 'PHP']\n",
      "['Python', 'Java']\n",
      "['Java', 'Python']\n"
     ]
    }
   ],
   "source": [
    "# mostramos la longitud de lista2\n",
    "print(\"Longitud:\" , len(lista2))\n",
    "# Adicionamos un elemento en la posición 3\n",
    "lista2.insert(3, \"PHP\")\n",
    "print(lista2)\n",
    "# Elimamos el elemento C++\n",
    "del(lista2[2])\n",
    "# Eliminamos e elemento PHP\n",
    "lista2.remove(\"PHP\")\n",
    "print(lista2)\n",
    "# Ordenamos la lista en orden ascendente\n",
    "lista2.sort()\n",
    "print(lista2)"
   ]
  },
  {
   "cell_type": "markdown",
   "metadata": {},
   "source": [
    "### Diccionarios"
   ]
  },
  {
   "cell_type": "code",
   "execution_count": 15,
   "metadata": {},
   "outputs": [
    {
     "name": "stdout",
     "output_type": "stream",
     "text": [
      "{'ID': 12345, 'Nombre': 'Carlos', 'Apellido': 'Pineda'}\n",
      "Carlos\n",
      "{'ID': 12345, 'Nombre': 'Carlos', 'Apellido': 'Pineda', 'Profesion': 'Profesor'}\n"
     ]
    }
   ],
   "source": [
    "registro = {\"ID\": 12345 , \"Nombre\": \"Carlos\" , \"Apellido\": \"Pineda\"}\n",
    "# Imprimimos el diccionario\n",
    "print(registro)\n",
    "# Accedemos al valor \"Carlos\" a través de la clave \"Nombre\"\n",
    "print(registro[\"Nombre\"])\n",
    "# Agregamos un nuevo elemento\n",
    "registro[\"Profesion\"] = \"Profesor\"\n",
    "print(registro)"
   ]
  },
  {
   "cell_type": "markdown",
   "metadata": {},
   "source": [
    "## Estructuras selectivas"
   ]
  },
  {
   "cell_type": "markdown",
   "metadata": {},
   "source": [
    "### Simples"
   ]
  },
  {
   "cell_type": "code",
   "execution_count": 16,
   "metadata": {},
   "outputs": [
    {
     "name": "stdout",
     "output_type": "stream",
     "text": [
      "El número  5 Es positivo\n"
     ]
    }
   ],
   "source": [
    "num = 5\n",
    "if(num > 0):\n",
    "    print(\"El número \" , num ,  \"Es positivo\")\n"
   ]
  },
  {
   "cell_type": "markdown",
   "metadata": {},
   "source": [
    "### Dobles"
   ]
  },
  {
   "cell_type": "code",
   "execution_count": 17,
   "metadata": {},
   "outputs": [
    {
     "name": "stdout",
     "output_type": "stream",
     "text": [
      "El número  5 Es positivo\n"
     ]
    }
   ],
   "source": [
    "num = 5\n",
    "if(num > 0):\n",
    "    print(\"El número \" , num ,  \"Es positivo\")\n",
    "else:\n",
    "    print(\"El número \" , num ,  \"Es negativo\")"
   ]
  },
  {
   "cell_type": "markdown",
   "metadata": {},
   "source": [
    "### Múltiple"
   ]
  },
  {
   "cell_type": "code",
   "execution_count": 18,
   "metadata": {},
   "outputs": [
    {
     "name": "stdout",
     "output_type": "stream",
     "text": [
      "Nota Buena\n"
     ]
    }
   ],
   "source": [
    "nota = 3\n",
    "if (nota > 0 and nota <= 1):\n",
    "    print(\"Nota Insuficiente\")\n",
    "elif (nota > 1 and nota <= 2):\n",
    "    print(\"Nota Regular\")\n",
    "elif (nota > 2 and nota <= 3):\n",
    "    print(\"Nota Buena\")\n",
    "elif (nota > 3 and nota <= 4):\n",
    "    print(\"Nota Sobresaliente\")\n",
    "elif (nota > 4 and nota <=5 ):\n",
    "    print(\"Nota Excelente\")\n",
    "else:\n",
    "    print(\"Nota no valida\")"
   ]
  },
  {
   "cell_type": "markdown",
   "metadata": {},
   "source": [
    "## Estructuras repetitivas"
   ]
  },
  {
   "cell_type": "markdown",
   "metadata": {},
   "source": [
    "###    for"
   ]
  },
  {
   "cell_type": "code",
   "execution_count": 19,
   "metadata": {},
   "outputs": [
    {
     "name": "stdout",
     "output_type": "stream",
     "text": [
      "1\n",
      "2\n",
      "3\n",
      "4\n",
      "5\n"
     ]
    }
   ],
   "source": [
    "lista = [1,2,3,4,5]\n",
    "for i in lista:\n",
    "    print(i)"
   ]
  },
  {
   "cell_type": "markdown",
   "metadata": {},
   "source": [
    "### while"
   ]
  },
  {
   "cell_type": "code",
   "execution_count": 20,
   "metadata": {},
   "outputs": [
    {
     "name": "stdout",
     "output_type": "stream",
     "text": [
      "1\n",
      "2\n",
      "3\n",
      "4\n",
      "5\n",
      "6\n",
      "7\n",
      "8\n",
      "9\n",
      "10\n"
     ]
    }
   ],
   "source": [
    "a = 1\n",
    "while(a<=10):\n",
    "    print(a)\n",
    "    a=a+1"
   ]
  },
  {
   "cell_type": "markdown",
   "metadata": {},
   "source": [
    "## Funciones"
   ]
  },
  {
   "cell_type": "code",
   "execution_count": 21,
   "metadata": {},
   "outputs": [
    {
     "name": "stdout",
     "output_type": "stream",
     "text": [
      "La suma es:  11\n"
     ]
    }
   ],
   "source": [
    "# definimos el método con dos parámetros\n",
    "def sumar(a , b):\n",
    "    suma = a + b\n",
    "    return suma\n",
    "\n",
    "# invocamos el método\n",
    "s = sumar(5, 6)\n",
    "print(\"La suma es: \" , s)"
   ]
  },
  {
   "cell_type": "code",
   "execution_count": 22,
   "metadata": {},
   "outputs": [
    {
     "name": "stdout",
     "output_type": "stream",
     "text": [
      "Hola  Mario\n",
      "Hola  Carlos\n"
     ]
    }
   ],
   "source": [
    "def saludar(nombre = \"Carlos\"):\n",
    "    print(\"Hola \" , nombre)\n",
    "    \n",
    "#invocamos el metodo saludar pasandole un parametro\n",
    "saludar(\"Mario\")\n",
    "#invocamos el metodo sin pasarle parametro alguno\n",
    "saludar()"
   ]
  },
  {
   "cell_type": "markdown",
   "metadata": {},
   "source": [
    "## Clases y objetos"
   ]
  },
  {
   "cell_type": "code",
   "execution_count": 23,
   "metadata": {},
   "outputs": [],
   "source": [
    "# se define la clase\n",
    "class Estudiante():\n",
    "     # constructor\n",
    "     def __init__(self, nombres, semestre):\n",
    "         self.nombres = nombres\n",
    "         self.semestre = semestre     \n",
    "    \n",
    "     def saludar(self):\n",
    "         print(\"Soy el estudiante: \" , self.nombres , \"y curso el semestre: \" , self.semestre)\n",
    "         \n",
    "     def cambiarSemestre(self, semestre):\n",
    "         self.semestre = semestre"
   ]
  },
  {
   "cell_type": "code",
   "execution_count": 24,
   "metadata": {},
   "outputs": [
    {
     "name": "stdout",
     "output_type": "stream",
     "text": [
      "Soy el estudiante:  María y curso el semestre:  I\n",
      "Soy el estudiante:  Juan y curso el semestre:  II\n",
      "Soy el estudiante:  Juan y curso el semestre:  IV\n"
     ]
    }
   ],
   "source": [
    "# se crea un objeto\n",
    "maria = Estudiante(\"María\", \"I\")       \n",
    "maria.saludar()\n",
    "juan = Estudiante(\"Juan\", \"II\")\n",
    "juan.saludar()\n",
    "# Juan cambia de semestre\n",
    "juan.cambiarSemestre(\"IV\")\n",
    "juan.saludar()     "
   ]
  }
 ],
 "metadata": {
  "kernelspec": {
   "display_name": "Python 3",
   "language": "python",
   "name": "python3"
  },
  "language_info": {
   "codemirror_mode": {
    "name": "ipython",
    "version": 3
   },
   "file_extension": ".py",
   "mimetype": "text/x-python",
   "name": "python",
   "nbconvert_exporter": "python",
   "pygments_lexer": "ipython3",
   "version": "3.9.19"
  },
  "toc": {
   "base_numbering": 1,
   "nav_menu": {},
   "number_sections": true,
   "sideBar": true,
   "skip_h1_title": false,
   "title_cell": "Tabla de contenido",
   "title_sidebar": "Contents",
   "toc_cell": true,
   "toc_position": {},
   "toc_section_display": true,
   "toc_window_display": true
  },
  "varInspector": {
   "cols": {
    "lenName": 16,
    "lenType": 16,
    "lenVar": 40
   },
   "kernels_config": {
    "python": {
     "delete_cmd_postfix": "",
     "delete_cmd_prefix": "del ",
     "library": "var_list.py",
     "varRefreshCmd": "print(var_dic_list())"
    },
    "r": {
     "delete_cmd_postfix": ") ",
     "delete_cmd_prefix": "rm(",
     "library": "var_list.r",
     "varRefreshCmd": "cat(var_dic_list()) "
    }
   },
   "types_to_exclude": [
    "module",
    "function",
    "builtin_function_or_method",
    "instance",
    "_Feature"
   ],
   "window_display": false
  }
 },
 "nbformat": 4,
 "nbformat_minor": 4
}
