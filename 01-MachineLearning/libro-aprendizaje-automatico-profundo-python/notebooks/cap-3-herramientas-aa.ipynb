{
 "cells": [
  {
   "cell_type": "markdown",
   "metadata": {},
   "source": [
    "## Manejo Basico de datos con PANDAS."
   ]
  },
  {
   "cell_type": "code",
   "execution_count": 4,
   "metadata": {},
   "outputs": [],
   "source": [
    "#%pip install pandas\n",
    "#%pip install numpy\n",
    "#%pip install matplotlib\n"
   ]
  },
  {
   "cell_type": "code",
   "execution_count": 1,
   "metadata": {},
   "outputs": [],
   "source": [
    "# Importando librerias..\n",
    "import pandas as pd\n",
    "import os\n",
    "import numpy as np\n",
    "import matplotlib.pyplot as plt"
   ]
  },
  {
   "cell_type": "code",
   "execution_count": 8,
   "metadata": {},
   "outputs": [],
   "source": [
    "# Importando datasets from datafiles..\n",
    "mainpath = \"/proyectos/Learning/01-MachineLearning/libro-aprendizaje-automatico-profundo-python/datasets/\"\n",
    "outputs = \"/proyectos/learning/01-MachineLearning/libro-aprendizaje-automatico-profundo-python/outputs/\"\n",
    "filename = \"data.csv\"\n",
    "urldata = \"https://www.kaggle.com/datasets/shree1992/housedata\"\n",
    "fullpath = os.path.join(mainpath, filename)\n",
    "df = pd.read_csv(fullpath)"
   ]
  },
  {
   "cell_type": "code",
   "execution_count": 9,
   "metadata": {},
   "outputs": [
    {
     "name": "stdout",
     "output_type": "stream",
     "text": [
      "                     date         price  bedrooms  bathrooms  sqft_living  \\\n",
      "0     2014-05-02 00:00:00  3.130000e+05       3.0       1.50         1340   \n",
      "1     2014-05-02 00:00:00  2.384000e+06       5.0       2.50         3650   \n",
      "2     2014-05-02 00:00:00  3.420000e+05       3.0       2.00         1930   \n",
      "3     2014-05-02 00:00:00  4.200000e+05       3.0       2.25         2000   \n",
      "4     2014-05-02 00:00:00  5.500000e+05       4.0       2.50         1940   \n",
      "...                   ...           ...       ...        ...          ...   \n",
      "4595  2014-07-09 00:00:00  3.081667e+05       3.0       1.75         1510   \n",
      "4596  2014-07-09 00:00:00  5.343333e+05       3.0       2.50         1460   \n",
      "4597  2014-07-09 00:00:00  4.169042e+05       3.0       2.50         3010   \n",
      "4598  2014-07-10 00:00:00  2.034000e+05       4.0       2.00         2090   \n",
      "4599  2014-07-10 00:00:00  2.206000e+05       3.0       2.50         1490   \n",
      "\n",
      "      sqft_lot  floors  waterfront  view  condition  sqft_above  \\\n",
      "0         7912     1.5           0     0          3        1340   \n",
      "1         9050     2.0           0     4          5        3370   \n",
      "2        11947     1.0           0     0          4        1930   \n",
      "3         8030     1.0           0     0          4        1000   \n",
      "4        10500     1.0           0     0          4        1140   \n",
      "...        ...     ...         ...   ...        ...         ...   \n",
      "4595      6360     1.0           0     0          4        1510   \n",
      "4596      7573     2.0           0     0          3        1460   \n",
      "4597      7014     2.0           0     0          3        3010   \n",
      "4598      6630     1.0           0     0          3        1070   \n",
      "4599      8102     2.0           0     0          4        1490   \n",
      "\n",
      "      sqft_basement  yr_built  yr_renovated                    street  \\\n",
      "0                 0      1955          2005      18810 Densmore Ave N   \n",
      "1               280      1921             0           709 W Blaine St   \n",
      "2                 0      1966             0  26206-26214 143rd Ave SE   \n",
      "3              1000      1963             0           857 170th Pl NE   \n",
      "4               800      1976          1992         9105 170th Ave NE   \n",
      "...             ...       ...           ...                       ...   \n",
      "4595              0      1954          1979            501 N 143rd St   \n",
      "4596              0      1983          2009          14855 SE 10th Pl   \n",
      "4597              0      2009             0          759 Ilwaco Pl NE   \n",
      "4598           1020      1974             0         5148 S Creston St   \n",
      "4599              0      1990             0         18717 SE 258th St   \n",
      "\n",
      "           city  statezip country  \n",
      "0     Shoreline  WA 98133     USA  \n",
      "1       Seattle  WA 98119     USA  \n",
      "2          Kent  WA 98042     USA  \n",
      "3      Bellevue  WA 98008     USA  \n",
      "4       Redmond  WA 98052     USA  \n",
      "...         ...       ...     ...  \n",
      "4595    Seattle  WA 98133     USA  \n",
      "4596   Bellevue  WA 98007     USA  \n",
      "4597     Renton  WA 98059     USA  \n",
      "4598    Seattle  WA 98178     USA  \n",
      "4599  Covington  WA 98042     USA  \n",
      "\n",
      "[4600 rows x 18 columns]\n"
     ]
    }
   ],
   "source": [
    "print(df)"
   ]
  },
  {
   "cell_type": "code",
   "execution_count": null,
   "metadata": {},
   "outputs": [],
   "source": [
    "# Imprimiendo las 5 primeras filas del dataframe.\n",
    "df.head()"
   ]
  },
  {
   "cell_type": "code",
   "execution_count": null,
   "metadata": {},
   "outputs": [],
   "source": [
    "# Obteniendo indice de las columns del dataframe.\n",
    "df.columns"
   ]
  },
  {
   "cell_type": "code",
   "execution_count": null,
   "metadata": {},
   "outputs": [],
   "source": [
    "# Obteniendo cantidad de filas y columnas.\n",
    "df.shape"
   ]
  },
  {
   "cell_type": "code",
   "execution_count": null,
   "metadata": {},
   "outputs": [],
   "source": [
    "# Obteniendo la fila en la posicion 10.\n",
    "df.iloc[9]"
   ]
  },
  {
   "cell_type": "code",
   "execution_count": null,
   "metadata": {},
   "outputs": [],
   "source": [
    "# Obteniendo las primeras 10 filas.\n",
    "df.iloc[:10]"
   ]
  },
  {
   "cell_type": "code",
   "execution_count": null,
   "metadata": {},
   "outputs": [],
   "source": [
    "# Obteniendo la celda (0,1) interceptando fila 0 y columna 1\n",
    "df.iloc[0,1]"
   ]
  },
  {
   "cell_type": "code",
   "execution_count": null,
   "metadata": {},
   "outputs": [],
   "source": [
    "# Obteniendo las 5 primeras columnas de las filas 0,1 y 2\n",
    "df.iloc[[0,1,2], :5]"
   ]
  },
  {
   "cell_type": "code",
   "execution_count": null,
   "metadata": {},
   "outputs": [],
   "source": [
    "# Obtener el valor de la columna precio de la primera fila.\n",
    "df.loc[0, 'price']"
   ]
  },
  {
   "cell_type": "code",
   "execution_count": null,
   "metadata": {},
   "outputs": [],
   "source": [
    "# Obtener las primeras filas ddesde la 0 hasta la 3 con las columnas desde price a bathrooms.\n",
    "df.loc[:3, 'price': 'bathrooms']"
   ]
  },
  {
   "cell_type": "code",
   "execution_count": null,
   "metadata": {},
   "outputs": [],
   "source": [
    "# Generar una descripcion ddetallada de los datos.\n",
    "df.describe()"
   ]
  },
  {
   "cell_type": "code",
   "execution_count": null,
   "metadata": {},
   "outputs": [],
   "source": [
    "# Generar una descripcion ddetallada de todos los datos incluyendos los NO numericos.\n",
    "df.describe(include='all')"
   ]
  },
  {
   "cell_type": "code",
   "execution_count": null,
   "metadata": {},
   "outputs": [],
   "source": [
    "# Eliminando columnas del dataframe.\n",
    "df.drop(columns=['view'])"
   ]
  },
  {
   "cell_type": "code",
   "execution_count": null,
   "metadata": {},
   "outputs": [],
   "source": [
    "# Exportando dataset a csv en disco local.\n",
    "df.to_csv(outputs+'precios_casas2.csv',index=False)"
   ]
  },
  {
   "cell_type": "markdown",
   "metadata": {},
   "source": [
    "## Manejo de Arreglos con Numpy."
   ]
  },
  {
   "cell_type": "code",
   "execution_count": null,
   "metadata": {},
   "outputs": [],
   "source": [
    "# Creacion de un vector con cinco (5) elementos.\n",
    "vec1 = np.array([1,2,3,4,5])"
   ]
  },
  {
   "cell_type": "code",
   "execution_count": null,
   "metadata": {},
   "outputs": [],
   "source": [
    "# visualizando los elementos del vector.\n",
    "print(vec1)"
   ]
  },
  {
   "cell_type": "code",
   "execution_count": null,
   "metadata": {},
   "outputs": [],
   "source": [
    "# Visualizando las dimenciones del vector.\n",
    "vec1.shape"
   ]
  },
  {
   "cell_type": "code",
   "execution_count": null,
   "metadata": {},
   "outputs": [],
   "source": [
    "# Creacion de Matriz 3 X 3.\n",
    "matriz = np.array([[1, 2, 3], [4, 5, 6], [7, 8, 9]])"
   ]
  },
  {
   "cell_type": "code",
   "execution_count": null,
   "metadata": {},
   "outputs": [],
   "source": [
    "# Visualizando los elementos de la matriz.\n",
    "matriz"
   ]
  },
  {
   "cell_type": "code",
   "execution_count": null,
   "metadata": {},
   "outputs": [],
   "source": [
    "# Visualizando las dimenciones de la Matriz.\n",
    "matriz.shape"
   ]
  },
  {
   "cell_type": "code",
   "execution_count": null,
   "metadata": {},
   "outputs": [],
   "source": [
    "# Creando un vector de ceros, con la funcion zeros().\n",
    "vec2 = np.zeros(4)"
   ]
  },
  {
   "cell_type": "code",
   "execution_count": null,
   "metadata": {},
   "outputs": [],
   "source": [
    "# Imprimiendo el vector.\n",
    "vec2"
   ]
  },
  {
   "cell_type": "code",
   "execution_count": null,
   "metadata": {},
   "outputs": [],
   "source": [
    "# Creando una matriz de 2 X 3  de ceros, con la funcion zeros().\n",
    "matriz2 = np.zeros((2,3))"
   ]
  },
  {
   "cell_type": "code",
   "execution_count": null,
   "metadata": {},
   "outputs": [],
   "source": [
    "# Imprimiendo la matriz de ceros\n",
    "matriz2"
   ]
  },
  {
   "cell_type": "code",
   "execution_count": null,
   "metadata": {},
   "outputs": [],
   "source": [
    "# Matriz de numeros aleatorios con la funcion Random.\n",
    "matriz3 = np.random.random((2,4))"
   ]
  },
  {
   "cell_type": "code",
   "execution_count": null,
   "metadata": {},
   "outputs": [],
   "source": [
    "# Imprimiendo matriz de numeros aleatorios.\n",
    "matriz3"
   ]
  },
  {
   "cell_type": "code",
   "execution_count": null,
   "metadata": {},
   "outputs": [],
   "source": [
    "# Definir un Arreglo a partir de una lista con python.\n",
    "listax = [1,2,3,4,5,6,7,8,9]\n",
    "listay = [10,11,12,13,14,15,16,17,18]\n",
    "vec3 = np.array((listax,listay))"
   ]
  },
  {
   "cell_type": "code",
   "execution_count": null,
   "metadata": {},
   "outputs": [],
   "source": [
    "# Imprimiendo el arreglo generado.\n",
    "vec3"
   ]
  },
  {
   "cell_type": "code",
   "execution_count": null,
   "metadata": {},
   "outputs": [],
   "source": [
    "# Creando un arreglo de numeros secuenciales con la funcion arange()\n",
    "nums = np.arange(10)\n",
    "nums"
   ]
  },
  {
   "cell_type": "code",
   "execution_count": null,
   "metadata": {},
   "outputs": [],
   "source": [
    "# Funcion arange con numeros de 1 a 10 y parametros para incrementar valores de 0.5 en 0.5\n",
    "a = np.arange(1,10,0.5)\n",
    "a"
   ]
  },
  {
   "cell_type": "code",
   "execution_count": null,
   "metadata": {},
   "outputs": [],
   "source": [
    "# Accediendo a los elementos de un vector.\n",
    "print(vec1[0])\n",
    "print(vec1[2])"
   ]
  },
  {
   "cell_type": "code",
   "execution_count": null,
   "metadata": {},
   "outputs": [],
   "source": [
    "# Accediendo a un elemento de la matriz, pasando los valores de fila y columna.\n",
    "print(matriz[0][0])\n",
    "print(matriz[1][2])"
   ]
  },
  {
   "cell_type": "code",
   "execution_count": null,
   "metadata": {},
   "outputs": [],
   "source": [
    "# Accediendo a un elemento de matriz, usando expresion condicional en vez de indice.\n",
    "nums = np.arange(10)\n",
    "print(nums)\n",
    "datos = nums[nums % 2 == 0]\n",
    "print(datos)"
   ]
  },
  {
   "cell_type": "markdown",
   "metadata": {},
   "source": [
    "### Accediendo a porciones de la matriz mediante slicing.\n",
    "- Sintaxis = [inicio:fin, inicio:fin] la primera pareja es la fila, la segunda pareja la columna."
   ]
  },
  {
   "cell_type": "code",
   "execution_count": null,
   "metadata": {},
   "outputs": [],
   "source": [
    "matriz4 = np.array([[3,4,5],[6,7,8],[0,1,2]])\n",
    "print(matriz4)"
   ]
  },
  {
   "cell_type": "code",
   "execution_count": null,
   "metadata": {},
   "outputs": [],
   "source": [
    "# Accediendo a los elementos de la matriz, fila 1 hasta fila 3, columna 1 hasta columna 2.\n",
    "matriz_n = matriz4[1:3, :2]\n",
    "print(matriz_n)"
   ]
  },
  {
   "cell_type": "code",
   "execution_count": null,
   "metadata": {},
   "outputs": [],
   "source": [
    "# Accediendo a todas las filas apuntando a la primera columna.\n",
    "matriz_n = matriz4[:,1]\n",
    "print(matriz_n)\n",
    "print(matriz_n.shape)"
   ]
  },
  {
   "cell_type": "markdown",
   "metadata": {},
   "source": [
    "### 3.2.3 Redimencionamiento\n",
    "- Con la función reshape() usada para redimensionar un arreglo"
   ]
  },
  {
   "cell_type": "code",
   "execution_count": null,
   "metadata": {},
   "outputs": [],
   "source": [
    "# Redimencionando matriz de 3x3 a matriz de 1x9.\n",
    "matriz_n = matriz4.reshape(1,-1)\n",
    "print(matriz_n)\n",
    "print(matriz_n.shape)"
   ]
  },
  {
   "cell_type": "code",
   "execution_count": null,
   "metadata": {},
   "outputs": [],
   "source": [
    "# Redimensionando un vector de  4 elementos a una matriz de 2 x 2.\n",
    "vec3 = np.array([1,2,3,4])\n",
    "matriz5 = vec3.reshape(2,2)\n",
    "print(matriz5)\n",
    "print(matriz5.shape)"
   ]
  },
  {
   "cell_type": "markdown",
   "metadata": {},
   "source": [
    "### 3.2.4 Operaciones Matematcias."
   ]
  },
  {
   "cell_type": "code",
   "execution_count": null,
   "metadata": {},
   "outputs": [],
   "source": [
    "# Suma. Con el operador (+) o con la funcion add().\n",
    "A = np.array([[1, 2], [3,4]])\n",
    "B = np.array([[5,6],[7,8]])\n",
    "C = A + B\n",
    "print(C)"
   ]
  },
  {
   "cell_type": "code",
   "execution_count": null,
   "metadata": {},
   "outputs": [],
   "source": [
    "# Opcion con funcion add()\n",
    "D = np.add(A,B)\n",
    "print(D)"
   ]
  },
  {
   "cell_type": "code",
   "execution_count": null,
   "metadata": {},
   "outputs": [],
   "source": [
    "# Resta. Con el operador (-) o con la función subtract()\n",
    "C = A - B\n",
    "print(C)"
   ]
  },
  {
   "cell_type": "code",
   "execution_count": null,
   "metadata": {},
   "outputs": [],
   "source": [
    "# Opcion con funcion substract().\n",
    "D = np.subtract(A,B)\n",
    "print(D)"
   ]
  },
  {
   "cell_type": "code",
   "execution_count": null,
   "metadata": {},
   "outputs": [],
   "source": [
    "# Multiplicacion: siempre y cuando las columnas de A sean igual a las filas de B.D\n",
    "# Se realiza con el operador ( * ) o con la funcion multiply().\n",
    "C = A*B\n",
    "print(C)"
   ]
  },
  {
   "cell_type": "code",
   "execution_count": null,
   "metadata": {},
   "outputs": [],
   "source": [
    "# Opcion con la funcion multiply().\n",
    "D = np.multiply(A,B)\n",
    "print(D)"
   ]
  },
  {
   "cell_type": "code",
   "execution_count": null,
   "metadata": {},
   "outputs": [],
   "source": [
    "# Division: Se usa el operador (/) o la funcion divide().\n",
    "C = A/B\n",
    "print(C)"
   ]
  },
  {
   "cell_type": "code",
   "execution_count": null,
   "metadata": {},
   "outputs": [],
   "source": [
    "# Opcion con la funcion divide()\n",
    "D = np.divide(A,B)\n",
    "print(D)"
   ]
  },
  {
   "cell_type": "code",
   "execution_count": null,
   "metadata": {},
   "outputs": [],
   "source": [
    "# Producto punto (dot).\n",
    "# toma dos arreglos de igual tamaño y retorna un escalar.\n",
    "x = np.array([1, 2])\n",
    "y = np.array([3,4])\n",
    "r = np.dot(x, y)\n",
    "r"
   ]
  },
  {
   "cell_type": "markdown",
   "metadata": {},
   "source": [
    "### 3.3 Creando Graficos con Matplotlib."
   ]
  },
  {
   "cell_type": "markdown",
   "metadata": {},
   "source": [
    "#### 3.3.1 Graficos de lineas.\n",
    "- con la funcion plot(lista_x, lista_y,label) se puede crear una linea recta a partir de l2 listas."
   ]
  },
  {
   "cell_type": "code",
   "execution_count": null,
   "metadata": {},
   "outputs": [],
   "source": [
    "from matplotlib import style\n",
    "style.use(\"ggplot\")\n",
    "plt.plot([1,2,3,4,5,6,7,8,9,10],\n",
    "         [2,4,6,8,10,12,14,16,18,20],\n",
    "         label = \"y = 2x\")\n",
    "plt.title(\"Ejemplo con matplotlib\")\n",
    "plt.xlabel(\"X\")\n",
    "plt.ylabel(\"Y\")\n",
    "plt.legend()"
   ]
  },
  {
   "cell_type": "code",
   "execution_count": null,
   "metadata": {},
   "outputs": [],
   "source": [
    "# Dibujando una ecuacion cuadaratica.\n",
    "plt.plot([1,2,3,4,5,6,7,8,9,10],\n",
    "         [2,4,6,8,10,12,14,16,18,20],\n",
    "         label = \"y = 2x\")\n",
    "plt.legend()\n",
    "\n",
    "plt.plot([1,2,3,4,5,6,7,8,9,10],\n",
    "         [1,4,9,16,25,36,49,64,81,100],\n",
    "         label = \"y = x^2\")\n",
    "plt.title(\"Ejemplo de una ecuacion cuadaratica\")\n",
    "plt.xlabel(\"X\")\n",
    "plt.ylabel(\"Y\")\n",
    "plt.legend()\n",
    "\n",
    "# Guardando el grafico en una ruta.\n",
    "plt.savefig(outputs+\"ej_gr_ecuacion_cuadratica.png\")"
   ]
  },
  {
   "cell_type": "markdown",
   "metadata": {},
   "source": [
    "#### 3.3.2 Graficos de Barras.\n"
   ]
  },
  {
   "cell_type": "code",
   "execution_count": null,
   "metadata": {},
   "outputs": [],
   "source": [
    "# Usados comunmente para las comparaciones de datos. Con la funcion bar().\n",
    "plt.bar([1,2,3,4,5,6,7,8,9,10],\n",
    "        [20,40,19,24,35,22,15,27,32,22],\n",
    "        label=\"Datos\",\n",
    "        color=\"orange\",\n",
    "        align=\"center\"\n",
    "        )\n",
    "plt.title(\"Resultados.\")\n",
    "plt.xlabel(\"Cursos\")\n",
    "plt.ylabel(\"Estudiantes\")\n",
    "plt.legend()\n",
    "plt.grid(True, color=\"y\")\n",
    "plt.savefig(outputs+\"ej_gr_barras.png\")"
   ]
  },
  {
   "cell_type": "markdown",
   "metadata": {},
   "source": [
    "#### 3.3.3 Diagramas de dispersion.\n"
   ]
  },
  {
   "cell_type": "code",
   "execution_count": null,
   "metadata": {},
   "outputs": [],
   "source": [
    "# Usan puntos para representar valores de 2 variables para analizar.\n",
    "import numpy as np\n",
    "plt.plot(np.arange(0,10),\n",
    "         np.arange(0,10)**3,\n",
    "         'bo',)\n",
    "plt.axis([0,10,0,1000])\n",
    "plt.show()"
   ]
  },
  {
   "cell_type": "code",
   "execution_count": null,
   "metadata": {},
   "outputs": [],
   "source": [
    "# Creando multiples lineas en el mismo grfico.\n",
    "import numpy as np\n",
    "a = np.arange(-10,10,0.3)\n",
    "plt.plot(a,a**2,'y^',\n",
    "         a,a**3,'bo',\n",
    "         a,a**4 ,'r--',)\n",
    "plt.axis([-10,10,0,70])\n",
    "plt.show()"
   ]
  },
  {
   "cell_type": "code",
   "execution_count": null,
   "metadata": {},
   "outputs": [],
   "source": [
    "# Comparando graficos mediante la funcion subplot().\n",
    "import numpy as np\n",
    "a = np.arange(1,10,1)\n",
    "plt.subplot(1,2,1)\n",
    "plt.plot([1,2,3,4,5],\n",
    "         [1,8,27,64,125],\n",
    "         'y^'\n",
    "         )\n",
    "plt.subplot(1,2,2)\n",
    "plt.plot(a,a**3,'bo',\n",
    "         a,a**4 ,'r--',)"
   ]
  },
  {
   "cell_type": "markdown",
   "metadata": {},
   "source": [
    "#### 3.3.4 Histogramas.\n",
    "- Se usa para hacer resumen de la distribución de conjuntos de datos.\n",
    "- Creado con la función hist()."
   ]
  },
  {
   "cell_type": "code",
   "execution_count": null,
   "metadata": {},
   "outputs": [],
   "source": [
    "# Creando un histograma de Distribucion Normal.\n",
    "import numpy as np\n",
    "datos = np.random.normal(0,1,1000)\n",
    "plt.hist(datos, color='blue', bins=10)\n",
    "plt.title(\"Distribucion Normal\")\n",
    "plt.show()"
   ]
  },
  {
   "cell_type": "markdown",
   "metadata": {},
   "source": [
    "#### 3.3.5 Diagrama de caja de bigotes.\n",
    "- Usado para distribucion de muestras de datos.\n",
    "- Permite conocer, cuartiles, percentiles, valores atipicos, etc."
   ]
  },
  {
   "cell_type": "code",
   "execution_count": null,
   "metadata": {},
   "outputs": [],
   "source": [
    "edades = [18,14,12,10,22,19,25,20,16,45]\n",
    "plt.boxplot(edades)\n",
    "plt.ylim(10,60)\n",
    "plt.xlabel(\"Edades\")\n",
    "plt.show()"
   ]
  },
  {
   "cell_type": "markdown",
   "metadata": {},
   "source": [
    "#### 3.4 Introduccion a Scikit-Learn\n",
    "- Entrenando un sencillo algoritmo de clasificacion, usando regresion logistica sobre un dataset de cancer de pecho."
   ]
  },
  {
   "cell_type": "code",
   "execution_count": null,
   "metadata": {},
   "outputs": [],
   "source": [
    "import pandas as pd\n",
    "# Importando dataset.\n",
    "from sklearn.datasets import load_breast_cancer\n",
    "dataset = load_breast_cancer()\n",
    "# Convirtiendo un dataframe de pandas.\n",
    "df = pd.DataFrame(dataset.data, columns = dataset.feature_names)\n",
    "df['tipo'] = dataset.target[df.index]\n",
    "# Obteniendo los valores de las variables x e y.\n",
    "X = df.iloc[:,:-1]\n",
    "y = df['tipo'].values\n",
    "\n",
    "# Separando los datos en conjuntos de prueba y entrenamiento.\n",
    "from sklearn.model_selection import train_test_split\n",
    "X_train, X_test, y_train, y_test = train_test_split(X, y, test_size=0.3)\n",
    "\n",
    "# Se crea una instancia de la clase Logistic Regression.\n",
    "from sklearn.linear_model import LogisticRegression\n",
    "reg = LogisticRegression(max_iter=10000)\n",
    "\n",
    "#Se entrena el modelo con los datos de entrenamiento.\n",
    "reg.fit(X_train,y_train)\n",
    "\n",
    "from sklearn.metrics import accuracy_score\n",
    "print('Exactitud {:2f}'.format(accuracy_score(y_test, reg.predict(X_test))))\n"
   ]
  }
 ],
 "metadata": {
  "kernelspec": {
   "display_name": "pyspark-env",
   "language": "python",
   "name": "python3"
  },
  "language_info": {
   "codemirror_mode": {
    "name": "ipython",
    "version": 3
   },
   "file_extension": ".py",
   "mimetype": "text/x-python",
   "name": "python",
   "nbconvert_exporter": "python",
   "pygments_lexer": "ipython3",
   "version": "3.9.19"
  },
  "orig_nbformat": 4
 },
 "nbformat": 4,
 "nbformat_minor": 2
}
