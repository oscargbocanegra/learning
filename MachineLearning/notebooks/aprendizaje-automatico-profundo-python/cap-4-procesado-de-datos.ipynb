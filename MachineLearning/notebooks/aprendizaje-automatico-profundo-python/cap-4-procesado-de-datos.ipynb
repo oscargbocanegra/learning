{
 "cells": [
  {
   "cell_type": "markdown",
   "metadata": {},
   "source": [
    "# 4. Procesado de datos.\n",
    "\n",
    "## 4.2 Creación de conjunto de entrenamiento y pruebas. "
   ]
  },
  {
   "cell_type": "code",
   "execution_count": 1,
   "metadata": {},
   "outputs": [],
   "source": [
    "# Importando librerias.\n",
    "import os\n",
    "import numpy as np\n",
    "import matplotlib.pyplot as plt"
   ]
  },
  {
   "cell_type": "code",
   "execution_count": 2,
   "metadata": {},
   "outputs": [],
   "source": [
    "# Importando datasets from datafiles.\n",
    "mainpath = \"/proyectos/learning/MachineLearning/datasets/aprendizaje-autom-profundo/\"\n",
    "outputs = \"/proyectos/learning/MachineLearning/datasets/aprendizaje-autom-profundo/outputs/\"\n",
    "filename = \"precios_casas.csv\"\n",
    "fullpath = os.path.join(mainpath, filename)"
   ]
  },
  {
   "cell_type": "code",
   "execution_count": 14,
   "metadata": {},
   "outputs": [
    {
     "name": "stdout",
     "output_type": "stream",
     "text": [
      "[[3.0 1.5 1340 ... 'Shoreline' 'WA 98133' 'USA']\n",
      " [5.0 2.5 3650 ... 'Seattle' 'WA 98119' 'USA']\n",
      " [3.0 2.0 1930 ... 'Kent' 'WA 98042' 'USA']\n",
      " ...\n",
      " [3.0 2.5 3010 ... 'Renton' 'WA 98059' 'USA']\n",
      " [4.0 2.0 2090 ... 'Seattle' 'WA 98178' 'USA']\n",
      " [3.0 2.5 1490 ... 'Covington' 'WA 98042' 'USA']]\n"
     ]
    }
   ],
   "source": [
    "# Creando conjunto con biblioteca Scikit-learn funcion train_test_split().\n",
    "\n",
    "\"\"\"\n",
    "X = atributos descriptivos.\n",
    "y = valores de la etiqueta.\n",
    "entX = conjunto entrenamiento atributos descriptivos (3.680 x 16)\n",
    "pruX = conjunto entrenamiento atributo etiqueta (3.680)\n",
    "enty = conjunto de prueba atributos descriptivos (920 x 16)\n",
    "pruy = conjunto de prueba atributo etiqueta (920)\n",
    "test_size=0.2 = 20%\n",
    "random_state=100 = Se usa como semilla para inicializar un objeto generador de numeros aleatorios.\n",
    "\"\"\"\n",
    "\n",
    "import pandas as pd\n",
    "from sklearn.model_selection import train_test_split\n",
    "df = pd.read_csv(fullpath)\n",
    "X = df.iloc[:,1:].values\n",
    "y = df.iloc[:,0].values\n",
    "print(X)\n",
    "entX, pruX, enty, pruy = train_test_split(X, y, test_size=0.2, random_state=100)"
   ]
  }
 ],
 "metadata": {
  "kernelspec": {
   "display_name": "pyspark-env",
   "language": "python",
   "name": "python3"
  },
  "language_info": {
   "codemirror_mode": {
    "name": "ipython",
    "version": 3
   },
   "file_extension": ".py",
   "mimetype": "text/x-python",
   "name": "python",
   "nbconvert_exporter": "python",
   "pygments_lexer": "ipython3",
   "version": "3.11.3"
  },
  "orig_nbformat": 4
 },
 "nbformat": 4,
 "nbformat_minor": 2
}
