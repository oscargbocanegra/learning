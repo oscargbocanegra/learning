{
 "cells": [
  {
   "cell_type": "markdown",
   "metadata": {},
   "source": [
    "# 4. Procesado de datos.\n",
    "\n",
    "## 4.2 Creación de conjunto de entrenamiento y pruebas. "
   ]
  },
  {
   "cell_type": "code",
   "execution_count": 3,
   "metadata": {},
   "outputs": [],
   "source": [
    "# Importando librerias.\n",
    "import os\n",
    "import numpy as np\n",
    "import matplotlib.pyplot as plt"
   ]
  },
  {
   "cell_type": "code",
   "execution_count": 4,
   "metadata": {},
   "outputs": [],
   "source": [
    "# Importando datasets from datafiles.\n",
    "mainpath = \"/proyectos/learning/MachineLearning/datasets/aprendizaje-autom-profundo/\"\n",
    "outputs = \"/proyectos/learning/MachineLearning/datasets/aprendizaje-autom-profundo/outputs/\"\n",
    "filename = \"precios_casas.csv\"\n",
    "fullpath = os.path.join(mainpath, filename)"
   ]
  },
  {
   "cell_type": "code",
   "execution_count": 5,
   "metadata": {},
   "outputs": [
    {
     "name": "stdout",
     "output_type": "stream",
     "text": [
      "[[3.0 1.5 1340 ... 'Shoreline' 'WA 98133' 'USA']\n",
      " [5.0 2.5 3650 ... 'Seattle' 'WA 98119' 'USA']\n",
      " [3.0 2.0 1930 ... 'Kent' 'WA 98042' 'USA']\n",
      " ...\n",
      " [3.0 2.5 3010 ... 'Renton' 'WA 98059' 'USA']\n",
      " [4.0 2.0 2090 ... 'Seattle' 'WA 98178' 'USA']\n",
      " [3.0 2.5 1490 ... 'Covington' 'WA 98042' 'USA']]\n"
     ]
    }
   ],
   "source": [
    "# Creando conjunto con biblioteca Scikit-learn funcion train_test_split().\n",
    "\n",
    "\"\"\"\n",
    "X = atributos descriptivos.\n",
    "y = valores de la etiqueta.\n",
    "entX = conjunto entrenamiento atributos descriptivos (3.680 x 16)\n",
    "pruX = conjunto entrenamiento atributo etiqueta (3.680)\n",
    "enty = conjunto de prueba atributos descriptivos (920 x 16)\n",
    "pruy = conjunto de prueba atributo etiqueta (920)\n",
    "test_size=0.2 = 20%\n",
    "random_state=100 = Se usa como semilla para inicializar un objeto generador de numeros aleatorios.\n",
    "\"\"\"\n",
    "\n",
    "import pandas as pd\n",
    "from sklearn.model_selection import train_test_split\n",
    "df = pd.read_csv(fullpath)\n",
    "X = df.iloc[:,1:].values\n",
    "y = df.iloc[:,0].values\n",
    "print(X)\n",
    "entX, pruX, enty, pruy = train_test_split(X, y, test_size=0.2, random_state=100)"
   ]
  },
  {
   "cell_type": "code",
   "execution_count": 4,
   "metadata": {},
   "outputs": [
    {
     "data": {
      "text/plain": [
       "price            0\n",
       "bedrooms         0\n",
       "bathrooms        0\n",
       "sqft_living      0\n",
       "sqft_lot         0\n",
       "floors           0\n",
       "waterfront       0\n",
       "view             0\n",
       "condition        0\n",
       "sqft_above       0\n",
       "sqft_basement    0\n",
       "yr_built         0\n",
       "yr_renovated     0\n",
       "street           0\n",
       "city             0\n",
       "statezip         0\n",
       "country          0\n",
       "dtype: int64"
      ]
     },
     "execution_count": 4,
     "metadata": {},
     "output_type": "execute_result"
    }
   ],
   "source": [
    "# Rotorno de valores ausentes por columna.\n",
    "df.isnull().sum()"
   ]
  },
  {
   "cell_type": "code",
   "execution_count": 6,
   "metadata": {},
   "outputs": [
    {
     "data": {
      "text/html": [
       "<div>\n",
       "<style scoped>\n",
       "    .dataframe tbody tr th:only-of-type {\n",
       "        vertical-align: middle;\n",
       "    }\n",
       "\n",
       "    .dataframe tbody tr th {\n",
       "        vertical-align: top;\n",
       "    }\n",
       "\n",
       "    .dataframe thead th {\n",
       "        text-align: right;\n",
       "    }\n",
       "</style>\n",
       "<table border=\"1\" class=\"dataframe\">\n",
       "  <thead>\n",
       "    <tr style=\"text-align: right;\">\n",
       "      <th></th>\n",
       "      <th>codigo</th>\n",
       "      <th>credito</th>\n",
       "      <th>edad</th>\n",
       "    </tr>\n",
       "  </thead>\n",
       "  <tbody>\n",
       "    <tr>\n",
       "      <th>0</th>\n",
       "      <td>1</td>\n",
       "      <td>1</td>\n",
       "      <td>30.0</td>\n",
       "    </tr>\n",
       "    <tr>\n",
       "      <th>1</th>\n",
       "      <td>2</td>\n",
       "      <td>1</td>\n",
       "      <td>32.0</td>\n",
       "    </tr>\n",
       "    <tr>\n",
       "      <th>2</th>\n",
       "      <td>3</td>\n",
       "      <td>0</td>\n",
       "      <td>NaN</td>\n",
       "    </tr>\n",
       "  </tbody>\n",
       "</table>\n",
       "</div>"
      ],
      "text/plain": [
       "  codigo  credito  edad\n",
       "0      1        1  30.0\n",
       "1      2        1  32.0\n",
       "2      3        0   NaN"
      ]
     },
     "execution_count": 6,
     "metadata": {},
     "output_type": "execute_result"
    }
   ],
   "source": [
    "df = pd.DataFrame([\n",
    "    ['1',1,30],\n",
    "    ['2',1,32],\n",
    "    ['3',0]],\n",
    ")\n",
    "df.columns = ['codigo', 'credito', 'edad']\n",
    "df"
   ]
  },
  {
   "cell_type": "code",
   "execution_count": 7,
   "metadata": {},
   "outputs": [
    {
     "data": {
      "text/plain": [
       "codigo     0\n",
       "credito    0\n",
       "edad       1\n",
       "dtype: int64"
      ]
     },
     "execution_count": 7,
     "metadata": {},
     "output_type": "execute_result"
    }
   ],
   "source": [
    "df.isnull().sum()"
   ]
  },
  {
   "cell_type": "code",
   "execution_count": 8,
   "metadata": {},
   "outputs": [],
   "source": [
    "# Remplazando caracteres especiales por NaN.\n",
    "df.replace('?',np.nan, inplace=True)"
   ]
  },
  {
   "cell_type": "code",
   "execution_count": 10,
   "metadata": {},
   "outputs": [
    {
     "data": {
      "text/plain": [
       "array([[ 1.,  1., 30.],\n",
       "       [ 2.,  1., 32.],\n",
       "       [ 3.,  0., 31.]])"
      ]
     },
     "execution_count": 10,
     "metadata": {},
     "output_type": "execute_result"
    }
   ],
   "source": [
    "# Imputando el codigo, posterior al remplazo de caracteres.\n",
    "# se remplaza el valor faltante por 31. Equivalente a la medida aritmetica de la 3ra columna (30+32)/2 = 31\n",
    "from sklearn.impute import SimpleImputer\n",
    "imp = SimpleImputer(missing_values=np.nan, strategy='mean')\n",
    "imp = imp.fit(df.values)\n",
    "imp_datos = imp.transform(df.values)\n",
    "imp_datos"
   ]
  },
  {
   "cell_type": "markdown",
   "metadata": {},
   "source": [
    "## 4.4 Manejo de datos categoricos.\n",
    "- Convertir a datos numericos los datos categoricos"
   ]
  },
  {
   "cell_type": "code",
   "execution_count": 69,
   "metadata": {},
   "outputs": [],
   "source": [
    "df = pd.DataFrame([\n",
    "    ['M',30,'Amarillo', 'Clase 1'],\n",
    "    ['P',28,'Azul','Clase 2'],\n",
    "    ['J',21,'Rojo','Clase 1'],\n",
    "    ['J',21,'Verde','Clase 1']],\n",
    ")\n",
    "df.columns = ['nombre','edad','color','etiqueta']\n",
    "dfAux = df\n",
    "df2 = df\n",
    "df3 = df"
   ]
  },
  {
   "cell_type": "code",
   "execution_count": 70,
   "metadata": {},
   "outputs": [
    {
     "name": "stdout",
     "output_type": "stream",
     "text": [
      "[0 1 0 0]\n"
     ]
    }
   ],
   "source": [
    "# Convirtiendo los valores de la columna etiqueta a su representacion numerica.\n",
    "from sklearn.preprocessing import LabelEncoder\n",
    "le_clase = LabelEncoder()\n",
    "y = le_clase.fit_transform(df.etiqueta)\n",
    "print(y)"
   ]
  },
  {
   "cell_type": "code",
   "execution_count": 71,
   "metadata": {},
   "outputs": [
    {
     "name": "stdout",
     "output_type": "stream",
     "text": [
      "['Clase 1' 'Clase 2' 'Clase 1' 'Clase 1']\n"
     ]
    }
   ],
   "source": [
    "# Implementando el metodo inverso.\n",
    "clase_inv = le_clase.inverse_transform(y)\n",
    "print(clase_inv)"
   ]
  },
  {
   "cell_type": "code",
   "execution_count": 74,
   "metadata": {},
   "outputs": [
    {
     "name": "stdout",
     "output_type": "stream",
     "text": [
      "  nombre  edad     color etiqueta  color_cod\n",
      "0      M    30  Amarillo  Clase 1          0\n",
      "1      P    28      Azul  Clase 2          1\n",
      "2      J    21      Rojo  Clase 1          2\n",
      "3      J    21     Verde  Clase 1          3\n"
     ]
    }
   ],
   "source": [
    "# Usando la tecnica ONE HOT ENCODING.\n",
    "from sklearn.preprocessing import OneHotEncoder\n",
    "le_color = LabelEncoder()\n",
    "ohe_color = OneHotEncoder(categories='auto')\n",
    "df['color_cod'] = le_color.fit_transform(df.color)\n",
    "print(df)\n"
   ]
  },
  {
   "cell_type": "code",
   "execution_count": 75,
   "metadata": {},
   "outputs": [
    {
     "data": {
      "text/html": [
       "<div>\n",
       "<style scoped>\n",
       "    .dataframe tbody tr th:only-of-type {\n",
       "        vertical-align: middle;\n",
       "    }\n",
       "\n",
       "    .dataframe tbody tr th {\n",
       "        vertical-align: top;\n",
       "    }\n",
       "\n",
       "    .dataframe thead th {\n",
       "        text-align: right;\n",
       "    }\n",
       "</style>\n",
       "<table border=\"1\" class=\"dataframe\">\n",
       "  <thead>\n",
       "    <tr style=\"text-align: right;\">\n",
       "      <th></th>\n",
       "      <th>nombre</th>\n",
       "      <th>edad</th>\n",
       "      <th>color</th>\n",
       "      <th>etiqueta</th>\n",
       "      <th>color_cod</th>\n",
       "      <th>Color_0</th>\n",
       "      <th>Color_1</th>\n",
       "      <th>Color_2</th>\n",
       "      <th>Color_3</th>\n",
       "    </tr>\n",
       "  </thead>\n",
       "  <tbody>\n",
       "    <tr>\n",
       "      <th>0</th>\n",
       "      <td>M</td>\n",
       "      <td>30</td>\n",
       "      <td>Amarillo</td>\n",
       "      <td>Clase 1</td>\n",
       "      <td>0</td>\n",
       "      <td>1.0</td>\n",
       "      <td>0.0</td>\n",
       "      <td>0.0</td>\n",
       "      <td>0.0</td>\n",
       "    </tr>\n",
       "    <tr>\n",
       "      <th>1</th>\n",
       "      <td>P</td>\n",
       "      <td>28</td>\n",
       "      <td>Azul</td>\n",
       "      <td>Clase 2</td>\n",
       "      <td>1</td>\n",
       "      <td>0.0</td>\n",
       "      <td>1.0</td>\n",
       "      <td>0.0</td>\n",
       "      <td>0.0</td>\n",
       "    </tr>\n",
       "    <tr>\n",
       "      <th>2</th>\n",
       "      <td>J</td>\n",
       "      <td>21</td>\n",
       "      <td>Rojo</td>\n",
       "      <td>Clase 1</td>\n",
       "      <td>2</td>\n",
       "      <td>0.0</td>\n",
       "      <td>0.0</td>\n",
       "      <td>1.0</td>\n",
       "      <td>0.0</td>\n",
       "    </tr>\n",
       "    <tr>\n",
       "      <th>3</th>\n",
       "      <td>J</td>\n",
       "      <td>21</td>\n",
       "      <td>Verde</td>\n",
       "      <td>Clase 1</td>\n",
       "      <td>3</td>\n",
       "      <td>0.0</td>\n",
       "      <td>0.0</td>\n",
       "      <td>0.0</td>\n",
       "      <td>1.0</td>\n",
       "    </tr>\n",
       "  </tbody>\n",
       "</table>\n",
       "</div>"
      ],
      "text/plain": [
       "  nombre  edad     color etiqueta  color_cod  Color_0  Color_1  Color_2  \\\n",
       "0      M    30  Amarillo  Clase 1          0      1.0      0.0      0.0   \n",
       "1      P    28      Azul  Clase 2          1      0.0      1.0      0.0   \n",
       "2      J    21      Rojo  Clase 1          2      0.0      0.0      1.0   \n",
       "3      J    21     Verde  Clase 1          3      0.0      0.0      0.0   \n",
       "\n",
       "   Color_3  \n",
       "0      0.0  \n",
       "1      0.0  \n",
       "2      0.0  \n",
       "3      1.0  "
      ]
     },
     "execution_count": 75,
     "metadata": {},
     "output_type": "execute_result"
    }
   ],
   "source": [
    "# Concatenando columnas color_cod con el dataframe.\n",
    "datos_ohe = ohe_color.fit_transform(df.color_cod.values.reshape(-1,1)).toarray()\n",
    "dfOneHot = pd.DataFrame(datos_ohe, columns=['Color_'+str(int(i)) for i in range(len(df.color))])\n",
    "df2 = pd.concat([df, dfOneHot], axis=1)\n",
    "df2"
   ]
  },
  {
   "cell_type": "code",
   "execution_count": 76,
   "metadata": {},
   "outputs": [
    {
     "data": {
      "text/html": [
       "<div>\n",
       "<style scoped>\n",
       "    .dataframe tbody tr th:only-of-type {\n",
       "        vertical-align: middle;\n",
       "    }\n",
       "\n",
       "    .dataframe tbody tr th {\n",
       "        vertical-align: top;\n",
       "    }\n",
       "\n",
       "    .dataframe thead th {\n",
       "        text-align: right;\n",
       "    }\n",
       "</style>\n",
       "<table border=\"1\" class=\"dataframe\">\n",
       "  <thead>\n",
       "    <tr style=\"text-align: right;\">\n",
       "      <th></th>\n",
       "      <th>nombre</th>\n",
       "      <th>edad</th>\n",
       "      <th>etiqueta</th>\n",
       "      <th>Color_0</th>\n",
       "      <th>Color_1</th>\n",
       "      <th>Color_2</th>\n",
       "      <th>Color_3</th>\n",
       "    </tr>\n",
       "  </thead>\n",
       "  <tbody>\n",
       "    <tr>\n",
       "      <th>0</th>\n",
       "      <td>M</td>\n",
       "      <td>30</td>\n",
       "      <td>Clase 1</td>\n",
       "      <td>1.0</td>\n",
       "      <td>0.0</td>\n",
       "      <td>0.0</td>\n",
       "      <td>0.0</td>\n",
       "    </tr>\n",
       "    <tr>\n",
       "      <th>1</th>\n",
       "      <td>P</td>\n",
       "      <td>28</td>\n",
       "      <td>Clase 2</td>\n",
       "      <td>0.0</td>\n",
       "      <td>1.0</td>\n",
       "      <td>0.0</td>\n",
       "      <td>0.0</td>\n",
       "    </tr>\n",
       "    <tr>\n",
       "      <th>2</th>\n",
       "      <td>J</td>\n",
       "      <td>21</td>\n",
       "      <td>Clase 1</td>\n",
       "      <td>0.0</td>\n",
       "      <td>0.0</td>\n",
       "      <td>1.0</td>\n",
       "      <td>0.0</td>\n",
       "    </tr>\n",
       "    <tr>\n",
       "      <th>3</th>\n",
       "      <td>J</td>\n",
       "      <td>21</td>\n",
       "      <td>Clase 1</td>\n",
       "      <td>0.0</td>\n",
       "      <td>0.0</td>\n",
       "      <td>0.0</td>\n",
       "      <td>1.0</td>\n",
       "    </tr>\n",
       "  </tbody>\n",
       "</table>\n",
       "</div>"
      ],
      "text/plain": [
       "  nombre  edad etiqueta  Color_0  Color_1  Color_2  Color_3\n",
       "0      M    30  Clase 1      1.0      0.0      0.0      0.0\n",
       "1      P    28  Clase 2      0.0      1.0      0.0      0.0\n",
       "2      J    21  Clase 1      0.0      0.0      1.0      0.0\n",
       "3      J    21  Clase 1      0.0      0.0      0.0      1.0"
      ]
     },
     "execution_count": 76,
     "metadata": {},
     "output_type": "execute_result"
    }
   ],
   "source": [
    "# Eliminando columnas color y color_cod.\n",
    "df2 = df2.drop(['color', 'color_cod'], axis=1)\n",
    "df2"
   ]
  },
  {
   "cell_type": "code",
   "execution_count": 77,
   "metadata": {},
   "outputs": [
    {
     "data": {
      "text/html": [
       "<div>\n",
       "<style scoped>\n",
       "    .dataframe tbody tr th:only-of-type {\n",
       "        vertical-align: middle;\n",
       "    }\n",
       "\n",
       "    .dataframe tbody tr th {\n",
       "        vertical-align: top;\n",
       "    }\n",
       "\n",
       "    .dataframe thead th {\n",
       "        text-align: right;\n",
       "    }\n",
       "</style>\n",
       "<table border=\"1\" class=\"dataframe\">\n",
       "  <thead>\n",
       "    <tr style=\"text-align: right;\">\n",
       "      <th></th>\n",
       "      <th>nombre</th>\n",
       "      <th>edad</th>\n",
       "      <th>color</th>\n",
       "      <th>etiqueta</th>\n",
       "    </tr>\n",
       "  </thead>\n",
       "  <tbody>\n",
       "    <tr>\n",
       "      <th>0</th>\n",
       "      <td>M</td>\n",
       "      <td>30</td>\n",
       "      <td>Amarillo</td>\n",
       "      <td>Clase 1</td>\n",
       "    </tr>\n",
       "    <tr>\n",
       "      <th>1</th>\n",
       "      <td>P</td>\n",
       "      <td>28</td>\n",
       "      <td>Azul</td>\n",
       "      <td>Clase 2</td>\n",
       "    </tr>\n",
       "    <tr>\n",
       "      <th>2</th>\n",
       "      <td>J</td>\n",
       "      <td>21</td>\n",
       "      <td>Rojo</td>\n",
       "      <td>Clase 1</td>\n",
       "    </tr>\n",
       "    <tr>\n",
       "      <th>3</th>\n",
       "      <td>J</td>\n",
       "      <td>21</td>\n",
       "      <td>Verde</td>\n",
       "      <td>Clase 1</td>\n",
       "    </tr>\n",
       "  </tbody>\n",
       "</table>\n",
       "</div>"
      ],
      "text/plain": [
       "  nombre  edad     color etiqueta\n",
       "0      M    30  Amarillo  Clase 1\n",
       "1      P    28      Azul  Clase 2\n",
       "2      J    21      Rojo  Clase 1\n",
       "3      J    21     Verde  Clase 1"
      ]
     },
     "execution_count": 77,
     "metadata": {},
     "output_type": "execute_result"
    }
   ],
   "source": [
    "# Usando funcion get_dummies para convertir variables categoricas a variables indicadoras.\n",
    "pd.get_dummies(data=dfAux, columns=['color'],drop_first=True)\n",
    "df3 = df3.drop(['color_cod'], axis=1)\n",
    "df3"
   ]
  }
 ],
 "metadata": {
  "kernelspec": {
   "display_name": "pyspark-env",
   "language": "python",
   "name": "python3"
  },
  "language_info": {
   "codemirror_mode": {
    "name": "ipython",
    "version": 3
   },
   "file_extension": ".py",
   "mimetype": "text/x-python",
   "name": "python",
   "nbconvert_exporter": "python",
   "pygments_lexer": "ipython3",
   "version": "3.11.3"
  },
  "orig_nbformat": 4
 },
 "nbformat": 4,
 "nbformat_minor": 2
}
