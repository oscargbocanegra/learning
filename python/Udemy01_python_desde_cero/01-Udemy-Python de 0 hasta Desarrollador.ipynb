{
 "cells": [
  {
   "cell_type": "markdown",
   "id": "5f97cb62",
   "metadata": {},
   "source": [
    "# Introduccion a Python\n",
    "\n",
    "## ¿Que es Python?\n",
    "  Lenguaje de programación ultimamente usado para temas de ciencias de datos, Inteligencia Artificial y Back End.\n",
    " \n",
    " ## Guia de Estilos Python PEP8\n",
    "Fuente: https://www.python.org/dev/peps/pep0008/\n",
    "\n",
    "# Ventajas de Python.\n",
    "## Tipado dinamico.\n",
    "Python no necesita que se definan el tipo de variable como se hacen con otros lenguajes de programación, Cuando se inicializa una variable, python le asigna el tipo de Valor.\n",
    "\n",
    "## Lenguaje Multiparadigma.\n",
    "Python permite aplicar diferentes paradigmas como Programación orientada a objetos, Java, Programación Imperativa, Programación Funcional.\n",
    "\n",
    "## Interpretado / Scripts.\n",
    "Python se puede ejecutar de forma interpretada o usando scripts, por medio de consolas ejecutando instrucciones.\n",
    "\n",
    "## Extensible.\n",
    "Python tiene una gran cantidad de modulos y librerias que lo hacen extensible y se pueden ejecutar multiples funcionalidades.\n",
    "\n",
    "# Pagina principal para instalación de python.\n",
    "Fuente: https://www.python.org/downloads/"
   ]
  },
  {
   "cell_type": "markdown",
   "id": "4f181e21",
   "metadata": {},
   "source": [
    "# TEMA 1: Creando Hola mundo .\n",
    "- Se crea un archivo de extensión .py"
   ]
  },
  {
   "cell_type": "code",
   "execution_count": 9,
   "id": "bf6d7550",
   "metadata": {},
   "outputs": [
    {
     "name": "stdout",
     "output_type": "stream",
     "text": [
      "Hola Mundo\n"
     ]
    }
   ],
   "source": [
    "# Identificadores correctos.\n",
    "print('Hola Mundo')"
   ]
  },
  {
   "cell_type": "markdown",
   "id": "eb65e524",
   "metadata": {},
   "source": [
    "## Variables y tipos de datos.\n",
    "- Dato: es la unidad minima en un programa, letra, numeros, etc.\n",
    "- Variable: Un espacio en memoria y el espacio que se le asigna a un dato.\n",
    "\n",
    "## Reglas de las variables.\n",
    "- No pueden iniciar con numero.\n",
    "- No pueden llevar caracteres especiales.\n",
    "- No pueden llevar noombre de palabras especiales.\n",
    "\n",
    "## Algunas Palabras reservadas.\n",
    "and, assert, break, class, continue, def, del, elif, else, except, exec, finally, for, from, global, if, import, \n",
    "in, is, lambda, not, or, pass, print, raise, return, try, while, with, yield.\n",
    "\n",
    "## Tipos de datos.\n",
    "- Entero.\n",
    "- Flotante.\n",
    "- Cadena de texto."
   ]
  },
  {
   "cell_type": "code",
   "execution_count": 10,
   "id": "52f5387f",
   "metadata": {},
   "outputs": [
    {
     "name": "stdout",
     "output_type": "stream",
     "text": [
      "<class 'str'>\n",
      "nombre\n",
      "<class 'int'>\n",
      "8976\n",
      "<class 'float'>\n",
      "3.14\n"
     ]
    }
   ],
   "source": [
    "# Imprimiendo variables.\n",
    "\n",
    "nombre = (\"nombre\")\n",
    "numero = (8976)\n",
    "flotante = 3.14\n",
    "\n",
    "print(type(nombre))\n",
    "print(nombre)\n",
    "\n",
    "print(type(numero))\n",
    "print(numero)\n",
    "\n",
    "print(type(flotante))\n",
    "print(flotante)"
   ]
  },
  {
   "cell_type": "markdown",
   "id": "45d824e9",
   "metadata": {},
   "source": [
    "## Imprimiendo palabras reservadas."
   ]
  },
  {
   "cell_type": "code",
   "execution_count": 11,
   "id": "d1cf424d",
   "metadata": {},
   "outputs": [
    {
     "name": "stdout",
     "output_type": "stream",
     "text": [
      "['False', 'None', 'True', 'and', 'as', 'assert', 'async', 'await', 'break', 'class', 'continue', 'def', 'del', 'elif', 'else', 'except', 'finally', 'for', 'from', 'global', 'if', 'import', 'in', 'is', 'lambda', 'nonlocal', 'not', 'or', 'pass', 'raise', 'return', 'try', 'while', 'with', 'yield']\n"
     ]
    }
   ],
   "source": [
    "import keyword\n",
    "print(keyword.kwlist)"
   ]
  },
  {
   "cell_type": "markdown",
   "id": "5ce76b0e",
   "metadata": {},
   "source": [
    "## Variables y Constantes.\n",
    "- Las variables pueden cambiar y almacenan diversos datos.\n",
    "- Las constantes no cambian.\n",
    "  - Se definen en MAYUSCULAS para"
   ]
  },
  {
   "cell_type": "code",
   "execution_count": 12,
   "id": "867c6e38",
   "metadata": {},
   "outputs": [
    {
     "name": "stdout",
     "output_type": "stream",
     "text": [
      "100\n",
      "120\n",
      "130\n",
      "3.14\n"
     ]
    }
   ],
   "source": [
    "# Imprimiendo Variables.\n",
    "cantidadPersonas = 100\n",
    "print(cantidadPersonas)\n",
    "\n",
    "cantidadPersonas = 120\n",
    "print(cantidadPersonas)\n",
    "\n",
    "cantidadPersonas = 130\n",
    "print(cantidadPersonas)\n",
    "\n",
    "# Imprimiendo CONSTANTES.\n",
    "PI = 3.14\n",
    "print(PI)"
   ]
  },
  {
   "cell_type": "markdown",
   "id": "5fe0c736",
   "metadata": {},
   "source": [
    "## Comentarios en Python.\n",
    "- Un comentario en python es un mensaje que se pone en el codigo y funciona como guia o referencia del codigo.\n",
    "- Para comentar en varias lineas se usar la triple comilla simple'''comentario '''"
   ]
  },
  {
   "cell_type": "code",
   "execution_count": 13,
   "id": "c193f01c",
   "metadata": {},
   "outputs": [
    {
     "name": "stdout",
     "output_type": "stream",
     "text": [
      "Oscar Giovanni\n",
      "Oscar\n",
      "Giovanni\n"
     ]
    }
   ],
   "source": [
    "# Variable que contiene el nombre.\n",
    "nombre = \"Oscar Giovanni\" \n",
    "print(nombre)\n",
    "\n",
    "'''\n",
    "Comentarios de doble linea usando triple comilla sencilla.\n",
    "'''\n",
    "\n",
    "nombre1, nombre2 = 'Oscar', 'Giovanni'\n",
    "print(nombre1)\n",
    "print(nombre2)"
   ]
  },
  {
   "cell_type": "markdown",
   "id": "7e08a183",
   "metadata": {},
   "source": [
    "# Convertir numeros de entero a float y vice versa.\n",
    "- Para convertir numeros de entero a float, se usa la funcion flfoat(int).\n",
    "- Para convertir numeros de float a entero, se usa la funcion int(float)."
   ]
  },
  {
   "cell_type": "code",
   "execution_count": 14,
   "id": "b931371b",
   "metadata": {},
   "outputs": [
    {
     "name": "stdout",
     "output_type": "stream",
     "text": [
      "<class 'int'>\n",
      "40\n",
      "<class 'float'>\n",
      "40.0\n",
      "<class 'float'>\n",
      "99.0\n",
      "<class 'int'>\n",
      "99\n"
     ]
    }
   ],
   "source": [
    "num1 = 40\n",
    "num2 = 99.00\n",
    "# Convirtiendo una variable entera en flotante.\n",
    "print(type(num1))\n",
    "print(num1)\n",
    "float1 = float(num1)\n",
    "print(type(float1))\n",
    "print(float1)\n",
    "\n",
    "# Convirtiendo una variable floatante a entera.\n",
    "print(type(num2))\n",
    "print(num2)\n",
    "int1 = int(num2)\n",
    "print(type(int1))\n",
    "print(int1)\n"
   ]
  },
  {
   "cell_type": "markdown",
   "id": "894dc549",
   "metadata": {},
   "source": [
    "## Operadores aritmeticos.\n",
    "- Suma el simbolo es ( + ).\n",
    "- Resta el simbolo es ( - ).\n",
    "- Multiplicacion el operador es ( * ).\n",
    "- División el operador es ( / ).\n",
    "- División entera el operador es ( // ).\n",
    "- Exponente el operador es ( ** ).\n",
    "- Modulo el operador es ( % ). Obtienen el residuo de la division."
   ]
  },
  {
   "cell_type": "code",
   "execution_count": 15,
   "id": "bf2e40a5",
   "metadata": {},
   "outputs": [
    {
     "name": "stdout",
     "output_type": "stream",
     "text": [
      "Suma 3 + 2 =  5\n",
      "Resta 3 - 2 =  1\n",
      "Multiplicacion 3 * 2 =  6\n",
      "Division 75 * 9 =  8.333333333333334\n",
      "Division Entera 75 * 9 =  8\n",
      "Exponente 2 * 3 =  8\n",
      "Modulo 100 % 75 =  3\n"
     ]
    }
   ],
   "source": [
    "# Suma.\n",
    "print(f'Suma 3 + 2 =  {3 + 2}')\n",
    "# Resta.\n",
    "print(f'Resta 3 - 2 =  {3 - 2}')\n",
    "# Multiplicacion.\n",
    "print(f'Multiplicacion 3 * 2 =  {3 * 2}')\n",
    "# Division.\n",
    "print(f'Division 75 * 9 =  {75 / 9}')\n",
    "# Division Entera.\n",
    "print(f'Division Entera 75 * 9 =  {75 // 9}')\n",
    "# Exponente.\n",
    "print(f'Exponente 2 * 3 =  {2 ** 3}')\n",
    "# Modulo.\n",
    "print(f'Modulo 100 % 75 =  {75 % 9}')"
   ]
  },
  {
   "attachments": {
    "image.png": {
     "image/png": "[encoded data removed]"
    }
   },
   "cell_type": "markdown",
   "id": "b72365c7",
   "metadata": {},
   "source": [
    "### Ejercicio 1:\n",
    "- Escribir un programa que realice la siguiente operación aritmética:\n",
    "<br>\n",
    "<center>\n",
    "\n",
    "![image.png](attachment:image.png)\n",
    "</center>"
   ]
  },
  {
   "cell_type": "code",
   "execution_count": 16,
   "id": "a878c9ac",
   "metadata": {},
   "outputs": [
    {
     "name": "stdout",
     "output_type": "stream",
     "text": [
      "0.25\n",
      "0.25\n"
     ]
    }
   ],
   "source": [
    "result = ((3+2)/(2*5))**2\n",
    "print(result)\n",
    "calculo = pow(((3+2)/(2*5)),2)\n",
    "print(calculo)"
   ]
  },
  {
   "cell_type": "markdown",
   "id": "51c516d7",
   "metadata": {},
   "source": [
    "### Ejericicio 2:\n",
    "Una juguetería tiene mucho éxito en dos de sus productos: payasos y muñecas. Suele hacer venta por correo y la empresa de logística les cobra por peso de cada paquete, así que deben calcular el peso de los payasos y muñecas que saldrán en cada paquete a demanda. Cada payaso pesa 112 g y cada muñeca 75 g. Un cliente frecuente pide la cantidad de 23 payasos y 54 muñecas, realiza un programa que muestre el peso total de toda la venta.\n",
    "\n",
    "Pista: Suponiendo que un cliente pide 5 payasos y 3 muñecas, la juguetería debería hacer la multiplicación de la cantidad de payasos con su peso, al igual que las muñecas; al tener ambos totales de peso, se debe sumar."
   ]
  },
  {
   "cell_type": "code",
   "execution_count": 17,
   "id": "f093e25b",
   "metadata": {},
   "outputs": [
    {
     "name": "stdout",
     "output_type": "stream",
     "text": [
      " El peso total es de = 6626\n"
     ]
    }
   ],
   "source": [
    "peso_payasos = 112\n",
    "peso_munecas = 75\n",
    "\n",
    "cantidad_payasos = 23 * peso_payasos\n",
    "cantidad_munecas = 54 * peso_munecas\n",
    "\n",
    "peso_total_venta = cantidad_payasos + cantidad_munecas\n",
    "\n",
    "print(f' El peso total es de = {peso_total_venta}')"
   ]
  },
  {
   "attachments": {
    "image-2.png": {
     "image/png": "[encoded data removed]"
    },
    "image.png": {
     "image/png": "[encoded data removed]"
    }
   },
   "cell_type": "markdown",
   "id": "f32438df",
   "metadata": {},
   "source": [
    "## Cadenas de Caracteres.\n",
    "- Una cadena es una secuencia de caracteres.\n",
    "    ![image.png](attachment:image.png)\n",
    "- Cada caracter dentro de la cadena ocupa un espacio.\n",
    "\n",
    "## Debanado de cadenas slide.\n",
    "- Consiste en mostrar contenido de un fragmento de la cadena.\n",
    "- ![image-2.png](attachment:image-2.png)\n",
    "  - El primer ejemplo trae las primeras 5 letras de la cadena.\n",
    "  - El segundo ejemplo trae las primeras 3 letras de la cadena.\n",
    "  - El tercer ejemplo trae las ultimas 3 letras de la cadena.\n",
    "\n",
    "## Reglas de la cadena.\n",
    "- Las cadenas se escriben en comilla simple o doble.\n",
    "- Un numero en comillas no equivale a un numero entero.\n",
    "\n"
   ]
  },
  {
   "cell_type": "code",
   "execution_count": 18,
   "id": "ad3f2e72",
   "metadata": {},
   "outputs": [
    {
     "name": "stdout",
     "output_type": "stream",
     "text": [
      "Esto es un ejemplo de cadena de texto\n"
     ]
    }
   ],
   "source": [
    "cadena = \"Esto es un ejemplo de cadena de texto\"\n",
    "print(cadena)"
   ]
  },
  {
   "cell_type": "markdown",
   "id": "a9d30bd5",
   "metadata": {},
   "source": [
    "## Aplicando metodos a las cadenas.\n",
    "- Metodo lower para transformar mayusclas en minusculas.\n",
    "- Metodo upper para transformar minusculas en mayusclas.\n",
    "- Metodo capitalize para transformar la primera letra en mayusclas.\n",
    "- Metodo title para convertir cada inicial del texto en mayuscula.\n",
    "- Metodo swapcase para transformar mayusculas en minusculas y vice versa."
   ]
  },
  {
   "cell_type": "code",
   "execution_count": 19,
   "id": "ad1a94b2",
   "metadata": {},
   "outputs": [
    {
     "name": "stdout",
     "output_type": "stream",
     "text": [
      "estoy utilizando el metodo lower de python\n",
      "Metodo upper = ESTOY UTILIZANDO EL METODO upper de python\n",
      "Metodo capitalize = Estoy utilizando el metodo capitalize de python\n",
      "Metodo title = Estoy Utilizando El Metodo title de python\n",
      "Metodo swapcase = eSTOY UTILIZANDO EL METODO swapcase de python\n"
     ]
    }
   ],
   "source": [
    "cadena1 = \"Estoy utilizando el metodo\"\n",
    "cadena2 = \"Estoy utilizando el metodo\"\n",
    "\n",
    "print(f'{cadena1.lower()} lower de python')\n",
    "print(f'Metodo upper = {cadena2.upper()} upper de python')\n",
    "print(f'Metodo capitalize = {cadena1.capitalize()} capitalize de python')\n",
    "print(f'Metodo title = {cadena1.title()} title de python')\n",
    "print(f'Metodo swapcase = {cadena1.swapcase()} swapcase de python')"
   ]
  },
  {
   "cell_type": "markdown",
   "id": "bf3336b0",
   "metadata": {},
   "source": [
    "### Ejercicio 1\n",
    "\n",
    "Crear un programa, que tenga una variable con la cadena “Te quiero solo como amigo”, y muestre la siguiente información:\n",
    "\n",
    "• Imprima los dos primeros caracteres.<br>\n",
    "• Imprima los tres últimos caracteres.<br>\n",
    "• Imprima dicha cadena cada dos caracteres. Ej.: Si la cadena fuera “recta” debería imprimir rca<br>\n",
    "• Dicha cadena en sentido inverso. Ej.: Si la cadena fuera hola mundo! debe imprimir !odnum aloh<br>\n",
    "• Imprima la cadena en un sentido y en sentido inverso. Ej: Si la cadena es “reflejo” imprime reflejoojelfer.<br>"
   ]
  },
  {
   "cell_type": "code",
   "execution_count": 20,
   "id": "7a0e21b3",
   "metadata": {},
   "outputs": [
    {
     "name": "stdout",
     "output_type": "stream",
     "text": [
      "Te\n",
      "igo\n",
      "T ueosl ooaio\n",
      "ogima omoc olos oreiuq eT\n",
      "Te quiero solo como amigo ogima omoc olos oreiuq eT\n"
     ]
    }
   ],
   "source": [
    "# Ejercicio 1.\n",
    "cadena = \"Te quiero solo como amigo\"\n",
    "#Imprima los dos primeros caracteres.\n",
    "print(cadena[0:2])\n",
    "# Imprima los tres últimos caracteres.\n",
    "print(cadena[-3:])\n",
    "#  Imprima dicha cadena cada dos caracteres. Ej.: Si la cadena fuera “recta” debería imprimir rca\n",
    "print(cadena[::2])\n",
    "# Dicha cadena en sentido inverso. Ej.: Si la cadena fuera hola mundo! debe imprimir !odnum aloh\n",
    "print(cadena[::-1])\n",
    "# Imprima la cadena en un sentido y en sentido inverso. Ej: Si la cadena es “reflejo” imprime reflejoojelfer.\n",
    "print(cadena,cadena[::-1])\n"
   ]
  },
  {
   "cell_type": "markdown",
   "id": "9606f655",
   "metadata": {},
   "source": [
    "### Ejercicio 2\n",
    "\n",
    "Crear un programa que tenga una variable con la cadena “Separado” y un carácter de coma (,); e inserte el carácter entre cada letra de la cadena. Ej: separar y , debería devolver s,e,p,a,r,a,r\n",
    "\n",
    "Pista: Debes utilizar un método de las cadenas llamado “Replace”, recuerda que la posición de los caracteres empieza en 0."
   ]
  },
  {
   "cell_type": "code",
   "execution_count": 21,
   "id": "974b4c74",
   "metadata": {},
   "outputs": [
    {
     "name": "stdout",
     "output_type": "stream",
     "text": [
      "S,e,p,a,r,a,d,o\n"
     ]
    }
   ],
   "source": [
    "cadena = \"Separado\"\n",
    "cadena_remplazada = cadena.replace('', ',')[1:-1]\n",
    "print(cadena_remplazada)"
   ]
  },
  {
   "cell_type": "markdown",
   "id": "fa33611a",
   "metadata": {},
   "source": [
    "## Entrada y Salida de datos.\n",
    "- input() es una función que reconoce la entrada por teclado.\n",
    "- int() es una funcion que define el tipo de dato que almacenara la variable."
   ]
  },
  {
   "cell_type": "code",
   "execution_count": 22,
   "id": "e4a40fd7",
   "metadata": {},
   "outputs": [
    {
     "name": "stdout",
     "output_type": "stream",
     "text": [
      "oj\n",
      "4\n"
     ]
    }
   ],
   "source": [
    "nombre = input('Ingresa tu nombre')\n",
    "edad = int(input('Ingresa tu edad'))\n",
    "print(nombre)\n",
    "print(edad)\n"
   ]
  },
  {
   "attachments": {
    "image.png": {
     "image/png": "[encoded data removed]"
    }
   },
   "cell_type": "markdown",
   "id": "a45e0f44",
   "metadata": {},
   "source": [
    "### Ejercicio 1\n",
    "\n",
    "Realizar un programa que haga el proceso de formula general para la resolución de ecuaciones, sabiendo que la formula general es la que está en la imagen, el usuario debe ingresar los valores de “a”, “b” y “c”, y el programa debe hacer el proceso para que al final muestre el mensaje: “La solución es: <solucion>”\n",
    "<br><center>\n",
    "![image.png](attachment:image.png)\n",
    "</center>"
   ]
  },
  {
   "cell_type": "code",
   "execution_count": 24,
   "id": "e7e27167",
   "metadata": {},
   "outputs": [
    {
     "name": "stdout",
     "output_type": "stream",
     "text": [
      "Para los valores de \n",
      " a: 4.0 \n",
      " b: 5.0 \n",
      " c: 1.0 \n",
      "La solucion es \n",
      " x1 = -0.25 \n",
      " x2 = -1.0\n"
     ]
    }
   ],
   "source": [
    "from math import sqrt\n",
    "\n",
    "a = float(input('Ingrese el valor de a '))\n",
    "b = float(input('Ingrese el valor de b '))\n",
    "c = float(input('Ingrese el valor de c '))\n",
    "\n",
    "bac = ((pow(b,2))-(4*a*c))\n",
    "if (bac < 0):\n",
    "    print('No se puede sacar raiz a un numero negativo')\n",
    "else:\n",
    "    x1 = (-b + sqrt((b**2)-(4*a*c)))/(2*a)\n",
    "    x2 = (-b - sqrt((b**2)-(4*a*c)))/(2*a)\n",
    "    solucion = f'Para los valores de \\n a: {a} \\n b: {b} \\n c: {c} \\nLa solucion es \\n x1 = {x1} \\n x2 = {x2}'\n",
    "    print(solucion)"
   ]
  },
  {
   "cell_type": "markdown",
   "id": "b195e7c2",
   "metadata": {},
   "source": [
    "## Ejercicio 2\n",
    "\n",
    "Se desea tener un algoritmo que permita determinar y mostrar el promedio que ha obtenido un alumno en un determinado curso, conociendo las notas de: tres prácticas, el examen parcial y el examen final.\n",
    "\n",
    "Considere:\n",
    "- PP = ( P1 + P2 +P3 ) / 3 PROM = ( PP + 2*EP + 3*EF ) / 6\n",
    "- Donde: P1, P2, P3 : Practicas\n",
    "- PP: promedio de práctica\n",
    "- PROM: promedio\n",
    "- EP: examen parcial\n",
    "- EF: examen final"
   ]
  },
  {
   "cell_type": "code",
   "execution_count": 25,
   "id": "700c94d1",
   "metadata": {},
   "outputs": [
    {
     "name": "stdout",
     "output_type": "stream",
     "text": [
      "El promedio del alumno es 3.0\n"
     ]
    }
   ],
   "source": [
    "P1 = float(input('Ingrese el valor de Practica 1'))\n",
    "P2 = float(input('Ingrese el valor de Practica 2'))\n",
    "P3 = float(input('Ingrese el valor de Practica 3'))\n",
    "EP = float(input('Ingrese el valor de Examen Parcial'))\n",
    "EF = float(input('Ingrese el valor de Examen Final'))\n",
    "\n",
    "PP = ( P1 + P2 +P3 ) / 3\n",
    "PROM = ( PP + (2*EP) + (3*EF) ) / 6\n",
    "print (f'El promedio del alumno es {PROM}')"
   ]
  },
  {
   "cell_type": "markdown",
   "id": "e6189e24",
   "metadata": {},
   "source": [
    "### Ejercicio 3\n",
    "\n",
    "Escribir un programa que solicite al usuario un vocal en minuscula, y luego una letra en mayúsculas. El programa debe convertir la letra en minúscula y la vocal en mayúscula, y al final, deben ser concatenadas ambas"
   ]
  },
  {
   "cell_type": "code",
   "execution_count": 26,
   "id": "c635db35",
   "metadata": {},
   "outputs": [
    {
     "name": "stdout",
     "output_type": "stream",
     "text": [
      "La vocal es A la letra es v\n"
     ]
    }
   ],
   "source": [
    "vocal = (input('Ingrese una vocal en minuscula: '))\n",
    "consonante = (input('Ingrese una consonante en mayuscula: '))\n",
    "\n",
    "vocal = vocal.upper()\n",
    "consonante = consonante.lower()\n",
    "\n",
    "print (f'La vocal es {vocal} la letra es {consonante}')"
   ]
  },
  {
   "cell_type": "markdown",
   "id": "2b949713",
   "metadata": {},
   "source": [
    "### Ejercicio 4\n",
    "\n",
    "Hacer un programa que pida al usuario su nombre, su edad y su sexo y los muestre de la siguiente forma:\n",
    "\n",
    "Te llamas: <nombre><br>\n",
    "Tu edad es: <edad><br>\n",
    "Eres: <sexo>"
   ]
  },
  {
   "cell_type": "code",
   "execution_count": 27,
   "id": "e09b1570",
   "metadata": {},
   "outputs": [
    {
     "name": "stdout",
     "output_type": "stream",
     "text": [
      "Te llamas : oscar \n",
      " Tu edad es: 21 \n",
      " Eres: m\n"
     ]
    }
   ],
   "source": [
    "nombre = (input('Ingrese su Nombre: '))\n",
    "edad = (input('Ingrese su Edad: '))\n",
    "sexo = (input('Ingrese su Sexo: '))\n",
    "\n",
    "print (f'Te llamas : {nombre} \\n Tu edad es: {edad} \\n Eres: {sexo}')"
   ]
  },
  {
   "cell_type": "markdown",
   "id": "64160984",
   "metadata": {},
   "source": [
    "## Datos Booleanos.\n",
    "- Son datos que unicamente pueden tener 2 valores. True o False.\n",
    "- Se define con la primea letra en mayuscula. {True, False}"
   ]
  },
  {
   "cell_type": "markdown",
   "id": "b98f735d",
   "metadata": {},
   "source": [
    "## Operadores Relacionales y logicos.\n",
    "- Un opeador relacional permite hacer comparaciones entre datos.\n",
    "  - '==' Igual que ..\n",
    "  - '!=' Diferente de ..\n",
    "  - '< ' Menor que ..\n",
    "  - '> ' Mayor que ..\n",
    "  - '<=' Menor igual que ..\n",
    "  - '>=' Mayor igual que ..\n",
    "- Operadores Logicos.\n",
    "  - and = y ..\n",
    "    - True and True = True.\n",
    "    - True and False = False.\n",
    "    - False and True = False.\n",
    "    - False and False = False.\n",
    "  - or = o ..\n",
    "    - True or True = True.\n",
    "    - True or False = True.\n",
    "    - False or True = True.\n",
    "    - False or False = False.\n",
    "  - not = No a .."
   ]
  },
  {
   "cell_type": "code",
   "execution_count": 28,
   "id": "44ec65d0",
   "metadata": {},
   "outputs": [
    {
     "name": "stdout",
     "output_type": "stream",
     "text": [
      "True\n",
      "False\n",
      "True\n",
      "False\n",
      "False\n",
      "True\n",
      "True\n"
     ]
    }
   ],
   "source": [
    "num1 = 1000\n",
    "num2 = 500\n",
    "num3 = 1000\n",
    "cadena1 = \"Comparaciones de strings\"\n",
    "cadena2 = \"Comparacion de strings\"\n",
    "\n",
    "print(num1 > num2)\n",
    "print(num1 < num2)\n",
    "print(num1 >= num3) # num1 es igual a num3\n",
    "print(num1 == num2) # == es de igualacion a num.\n",
    "print(num1 != num3) # es diferente de .\n",
    "print(cadena1 != cadena2) # Comparaciones con cadenas.\n",
    "print(cadena1 > cadena2) # Comparaciones con cadenas."
   ]
  },
  {
   "cell_type": "code",
   "execution_count": 29,
   "id": "b9026e95",
   "metadata": {},
   "outputs": [
    {
     "name": "stdout",
     "output_type": "stream",
     "text": [
      "False\n",
      "True\n",
      "True\n",
      "True\n",
      "True\n",
      "False\n",
      "False\n",
      "False\n"
     ]
    }
   ],
   "source": [
    "# Operadores Logicos.\n",
    "print(10 > 2 and 9 > 100) # and\n",
    "print(10 > 2 and 23 == 23) # and\n",
    "print(88 <= 789 or 60 > 110) # or\n",
    "print (not 90!= 90) # not\n",
    "\n",
    "# Operadores booleanos\n",
    "cadena = \"Estoy mostrando los metodos booleanos para las Strings\"\n",
    "print(cadena.startswith(\"E\"))\n",
    "print(cadena.endswith(\"S\"))\n",
    "print(cadena.isupper())\n",
    "print(cadena.islower())"
   ]
  },
  {
   "cell_type": "markdown",
   "id": "ea5efa1a",
   "metadata": {},
   "source": [
    "## Condicionales.\n",
    "- Son situaciones donde se pueden presentar varios resultados.\n",
    "- IF = significa si de condicion, (si esto o si lo otro)\n",
    "- ELSE = significa sino, en dado caso que no se cumpla el IF.\n",
    "- ELSEIF = Es la combinacion de multiples condiciones"
   ]
  },
  {
   "cell_type": "code",
   "execution_count": 30,
   "id": "b6051a6b",
   "metadata": {},
   "outputs": [
    {
     "name": "stdout",
     "output_type": "stream",
     "text": [
      "No eres mayor de edad:  17\n"
     ]
    }
   ],
   "source": [
    "edad = 17\n",
    "if edad >= 18:\n",
    "    print(\"Eres Mayor de edad: \", edad)\n",
    "else:\n",
    "    print(\"No eres mayor de edad: \", edad)"
   ]
  },
  {
   "cell_type": "code",
   "execution_count": 31,
   "id": "dfb356db",
   "metadata": {},
   "outputs": [
    {
     "name": "stdout",
     "output_type": "stream",
     "text": [
      "Esta vocal es la U -> u\n"
     ]
    }
   ],
   "source": [
    "# Condicional ELIF\n",
    "letra = \"u\"\n",
    "\n",
    "if letra.lower() == \"a\":\n",
    "    print(\"Esta vocal es la A ->\", letra)\n",
    "elif letra.lower() == \"e\":\n",
    "    print(\"Esta vocal es la E ->\", letra)\n",
    "elif letra.lower() == \"i\":\n",
    "    print(\"Esta vocal es la I ->\", letra)\n",
    "elif letra.lower() ==\"o\":\n",
    "    print(\"Esta vocal es la O ->\", letra)\n",
    "else:\n",
    "    print(\"Esta vocal es la U ->\", letra)"
   ]
  },
  {
   "cell_type": "code",
   "execution_count": 32,
   "id": "4de8ebbc",
   "metadata": {},
   "outputs": [
    {
     "name": "stdout",
     "output_type": "stream",
     "text": [
      "Eres Juan Pero NO tienes Mayoria de Edad.\n"
     ]
    }
   ],
   "source": [
    "# Condicionales anidados.\n",
    "nombre = \"Juan\"\n",
    "edad = 17\n",
    "\n",
    "if nombre == \"Juan\":\n",
    "    if edad == 18:\n",
    "        print(\"Eres Juan y tienes Mayoria de Edad.\")\n",
    "    else:\n",
    "        print(\"Eres Juan Pero NO tienes Mayoria de Edad.\")\n",
    "else:\n",
    "    print(\"No Eres Juan.\")"
   ]
  },
  {
   "cell_type": "markdown",
   "id": "d8d0ede1",
   "metadata": {},
   "source": [
    "### Ejercicio \n",
    "Crear un programa que pida al usuario una letra, y si es vocal, muestre el mensaje \"Es vocal\". Sino, decirle al usuario que no es vocal"
   ]
  },
  {
   "cell_type": "code",
   "execution_count": 33,
   "id": "02bb5309",
   "metadata": {},
   "outputs": [
    {
     "name": "stdout",
     "output_type": "stream",
     "text": [
      "No es una vocal\n"
     ]
    }
   ],
   "source": [
    "letra = input('Ingresa una letra : ')\n",
    "if letra.lower() in (\"aeiou\"):\n",
    "    print(\"Es una vocal\")\n",
    "else:\n",
    "    print(\"No es una vocal\")"
   ]
  },
  {
   "cell_type": "markdown",
   "id": "ef3a8c91",
   "metadata": {},
   "source": [
    "### Ejercicio\n",
    "\n",
    "Escribir un programa que, dado un número entero, muestre su valor absoluto. Nota: para los números positivos su valor absoluto es igual al número (el valor absoluto de 52 es 52), mientras que, para los negativos, su valor absoluto es el número multiplicado por -1 (el valor absoluto de -52 es 52)."
   ]
  },
  {
   "cell_type": "code",
   "execution_count": 36,
   "id": "a7184fb9",
   "metadata": {},
   "outputs": [
    {
     "name": "stdout",
     "output_type": "stream",
     "text": [
      "El valor absoluto de 5 es: 5\n"
     ]
    }
   ],
   "source": [
    "numero = int(input('Ingresa un numero : '))\n",
    "print(\"El valor absoluto de {} es: {}\".format(numero, abs(numero)))"
   ]
  },
  {
   "cell_type": "markdown",
   "id": "775421b4",
   "metadata": {},
   "source": [
    "### Ejercicio\n",
    "\n",
    "Escribe un programa que pida dos palabras y diga si riman o no. Si coinciden las tres últimas letras tiene que decir que riman. Si coinciden sólo las dos últimas tiene que decir que riman un poco y si no, que no riman."
   ]
  },
  {
   "cell_type": "code",
   "execution_count": 37,
   "id": "2cbf7e2c",
   "metadata": {},
   "outputs": [
    {
     "name": "stdout",
     "output_type": "stream",
     "text": [
      "Las palabras riman\n"
     ]
    }
   ],
   "source": [
    "palabra_a = input('Ingresa la palabra 1 : ')\n",
    "palabra_b = input('Ingresa la palabra 2 : ')\n",
    "\n",
    "if len(palabra_a) < 3 or len(palabra_b) < 3:\n",
    "    print(\"No riman por que tienen menos de 3 caracteres.\")\n",
    "elif palabra_a[-3 : ] == palabra_b[-3 : ]:\n",
    "    print(\"Las palabras riman\")\n",
    "elif palabra_a[-2 : ] == palabra_b[-2 : ]:\n",
    "    print(\"Las palabras riman un poco\")\n",
    "else:\n",
    "    print(\"Las palabras No Riman.\")\n"
   ]
  },
  {
   "cell_type": "markdown",
   "id": "75ab4b00",
   "metadata": {},
   "source": [
    "### Ejercicio\n",
    "\n",
    "Crear un programa que permita al usuario elegir un candidato por el cual votar. Las posibilidades son: candidato A por el partido rojo, candidato B por el partido verde, candidato C por el partido azul. Según el candidato elegido (A, B ó C) se le debe imprimir el mensaje “Usted ha votado por el partido [color que corresponda al candidato elegido]”. Si el usuario ingresa una opción que no corresponde a ninguno de los candidatos disponibles, indicar “Opción errónea”.\n",
    "\n",
    "Pista: Si la letra ingresada por el usuario es en minúscula, el programa debe convertirla en mayúscula"
   ]
  },
  {
   "cell_type": "code",
   "execution_count": 38,
   "id": "1113686d",
   "metadata": {},
   "outputs": [
    {
     "name": "stdout",
     "output_type": "stream",
     "text": [
      "Usted escogio el candidato Rojo.\n"
     ]
    }
   ],
   "source": [
    "opcion = input('Ingresa la opcion de tu candidato (ABC): ')\n",
    "if opcion.upper() == 'A':\n",
    "    print(\"Usted escogio el candidato Rojo.\")\n",
    "elif opcion.upper() == 'B':\n",
    "    print(\"Usted escogio el candidato Verde.\")\n",
    "elif opcion.upper() == 'C':\n",
    "    print(\"Usted escogio el candidato Azul.\")\n",
    "else:\n",
    "    print(\"Opcion erronea.\")\n"
   ]
  },
  {
   "cell_type": "markdown",
   "id": "cf510e27",
   "metadata": {},
   "source": [
    "## Estructuras de Datos.\n",
    "- Listas tuplas y diccionarios.\n",
    "- Listas: son conjuntos de datos agrupados y ordenados, que se pueden modificar\n",
    "  - Homogeneas: Quiere decir que son del mismo tipo de datos.\n",
    "  - Heterogeneas: Quiere decir que son de diferentes tipos de datos.\n",
    "- tupas: es una lista inmutable, que no se pueden modificar.\n",
    "- Diccionarios: Son colecciones que relacionan clave: valor."
   ]
  },
  {
   "cell_type": "code",
   "execution_count": 39,
   "id": "2ff9c514",
   "metadata": {},
   "outputs": [
    {
     "name": "stdout",
     "output_type": "stream",
     "text": [
      "JavaScript\n"
     ]
    }
   ],
   "source": [
    "## Creando listas.'\n",
    "lista = ['Python', 'Java', '120', 'JavaScript', 120, 4.14]\n",
    "print(lista[3])\n"
   ]
  },
  {
   "cell_type": "code",
   "execution_count": 40,
   "id": "5dbd1c89",
   "metadata": {},
   "outputs": [
    {
     "name": "stdout",
     "output_type": "stream",
     "text": [
      "[10, 20, 30, 40, 50]\n",
      "[10, 20]\n",
      "[40, 50, 60, 'Lunes', 'Martes', 'Miercoles', 'Jueves', 'Viernes', 'Sabado', 'Domingos']\n",
      "Domingos\n",
      "['Miercoles', 'Jueves', 'Viernes']\n"
     ]
    }
   ],
   "source": [
    "## Debanado de listas.\n",
    "lista = [10, 20, 30, 40, 50, 60, \"Lunes\", \"Martes\", \"Miercoles\", \"Jueves\", \"Viernes\", \"Sabado\", \"Domingos\"]\n",
    "# Debanado desde la posición 0 hasta la 4\n",
    "print(lista[0 : 5])\n",
    "# Debanado desde la posición 0 hasta la 4\n",
    "print(lista[ : 2])\n",
    "# Debanado desde la posición 0 hasta el final\n",
    "print(lista[3 : ])\n",
    "# Debanado desde la posición -1 que es la ultima\n",
    "print(lista[-1])\n",
    "# Debanado desde la posición -1 que es la ultima\n",
    "print(lista[-5: -2])"
   ]
  },
  {
   "cell_type": "code",
   "execution_count": 41,
   "id": "d0197f0b",
   "metadata": {},
   "outputs": [
    {
     "name": "stdout",
     "output_type": "stream",
     "text": [
      "[5, 4, 2, 1, 3, 6, 7]\n",
      "[5, 4, 2, 1, 3, 6, 7, 8]\n",
      "[5, 4, 2, 1, 3, 6, 7, 8]\n",
      "[5, 4, 2, 3.1, 1, 3, 6, 7, 8]\n",
      "3\n",
      "4\n",
      "[5, 4, 2, 3.1, 1, 3, 6, 7, 8, 8, 8]\n",
      "[1, 2, 3, 3.1, 4, 5, 6, 7, 8, 8, 8]\n",
      "['python', 24, 'Rene', 'Alexander']\n"
     ]
    }
   ],
   "source": [
    "# Metodos de listas.\n",
    "lista = [5,4,2,1,3,6,7]\n",
    "print(lista)\n",
    "# Metodo append para agregar elementos a la lista.\n",
    "lista.append(8)\n",
    "print(lista)\n",
    "# Agregando un elemento de la lista en una posicion especifica.\n",
    "print(lista)\n",
    "lista.insert(3, 3.1)\n",
    "print(lista)\n",
    "# Count cuenta la cantidad de veces que un elemento tiene en la lista.\n",
    "lista.append(8)\n",
    "lista.append(8)\n",
    "print(lista.count(8))\n",
    "# Index Recibe un parametro y busca en la lista teniendo en cuenta la posicion.\n",
    "print(lista.index(1))\n",
    "# Sort Metodo para ordenar elementos de la lista.\n",
    "print(lista)\n",
    "lista.sort()\n",
    "print(lista)\n",
    "\n",
    "# Modificando datos de una lista.\n",
    "lista2 = ['python', 24, 'Rene', 'alexander']\n",
    "lista2[3] = 'Alexander'\n",
    "print(lista2)\n"
   ]
  },
  {
   "cell_type": "code",
   "execution_count": 42,
   "id": "33e7356e",
   "metadata": {},
   "outputs": [
    {
     "name": "stdout",
     "output_type": "stream",
     "text": [
      "['python', 24, 'Rene']\n",
      "[24, 'Rene']\n",
      "[1, 2, 3, 5, 6, 7, 8, 9, 10]\n",
      "[11, 12, 13, 14, 15, 16, 17, 18, 19]\n",
      "[1, 2, 3, 5, 6, 7, 8, 9, 10, 11, 12, 13, 14, 15, 16, 17, 18, 19]\n"
     ]
    }
   ],
   "source": [
    "# Eliminando datos de la lista.\n",
    "lista2 = ['python', 24, 'Rene', 'alexander']\n",
    "# Pop elimina el ultimo valor de la lista.\n",
    "lista2.pop()\n",
    "print(lista2)\n",
    "# remove elimina un elemento de la lista que se pasa como parametro.\n",
    "lista2.remove('python')\n",
    "print(lista2)\n",
    "\n",
    "# Concatenando listas.\n",
    "lista3 = [1,2,3,5,6,7,8,9,10]\n",
    "lista4 = [11,12,13,14,15,16,17,18,19]\n",
    "lista5 = lista3 + lista4\n",
    "print(lista3)\n",
    "print(lista4)\n",
    "print(lista5)"
   ]
  },
  {
   "cell_type": "code",
   "execution_count": 43,
   "id": "0e9abc3b",
   "metadata": {},
   "outputs": [
    {
     "name": "stdout",
     "output_type": "stream",
     "text": [
      "[]\n",
      "[21]\n"
     ]
    }
   ],
   "source": [
    "# Metodo para almacenar datos en listas vacias.\n",
    "listavacia=[]\n",
    "print(listavacia)\n",
    "edad = int(input(\"Ingresa tu edad: \"))\n",
    "listavacia.append(edad)\n",
    "print(listavacia)\n"
   ]
  },
  {
   "cell_type": "markdown",
   "id": "1deb6b97",
   "metadata": {},
   "source": [
    "### Ejercicio.\n",
    "\n",
    "En la siguiente lista, debes hacer un programa que muestre los valores al usuario, a su vez, debe pedir dos datos y esos que sean ingresados deben ser sustituidos en el primer y segundo lugar:\n",
    "[20, 50, \"Curso\", 'Python', 3.14]"
   ]
  },
  {
   "cell_type": "code",
   "execution_count": 44,
   "id": "d5784469",
   "metadata": {},
   "outputs": [
    {
     "name": "stdout",
     "output_type": "stream",
     "text": [
      "[20, 50, 'Curso', 'Python', 3.14]\n",
      "[30, 30, 'Curso', 'Python', 3.14]\n"
     ]
    }
   ],
   "source": [
    "lista = [20, 50, \"Curso\", 'Python', 3.14]\n",
    "print(lista)\n",
    "lista[0] = int(input(\"Por cual numero deseas cambiar el 20?: \"))\n",
    "lista[1] = int(input(\"Por cual numero deseas cambiar el 50?: \"))\n",
    "print(lista)\n"
   ]
  },
  {
   "cell_type": "markdown",
   "id": "34070a37",
   "metadata": {},
   "source": [
    "### Ejercicio.\n",
    "\n",
    "Escribe una lista que tenga los números de 1 al 10. Luego, debes hacer que los datos que están en las posiciones 4, 7 y 9 sean multiplicados por 2; por último, mostrar la lista nueva con los nuevos datos"
   ]
  },
  {
   "cell_type": "code",
   "execution_count": 45,
   "id": "b4bcc47f",
   "metadata": {},
   "outputs": [
    {
     "name": "stdout",
     "output_type": "stream",
     "text": [
      "[1, 2, 3, 4, 5, 6, 7, 8, 9, 10]\n",
      "[1, 2, 3, 8, 5, 6, 14, 8, 18, 10]\n"
     ]
    }
   ],
   "source": [
    "lista = [1,2,3,4,5,6,7,8,9,10]\n",
    "print(lista)\n",
    "lista[3] = lista[3]*2\n",
    "lista[6] = lista[6]*2\n",
    "lista[8] = lista[8]*2\n",
    "print(lista)"
   ]
  },
  {
   "cell_type": "markdown",
   "id": "ac9d95cf",
   "metadata": {},
   "source": [
    "## Diccionarios.\n",
    "- Espacio en memoria que almacena clave y valores.\n",
    "- La sintaxis de un diccionario es {clave: valores}"
   ]
  },
  {
   "cell_type": "code",
   "execution_count": 46,
   "id": "8d19a85f",
   "metadata": {},
   "outputs": [
    {
     "name": "stdout",
     "output_type": "stream",
     "text": [
      "{'Usuario': 'woscar', 'contrasenia': 12345}\n",
      "{'Nombre': 'Oscar', 'Apellido': 'Cortes', 'Estatura': 1.23}\n",
      "dict_keys(['Nombre', 'Apellido', 'Estatura'])\n",
      "dict_values(['Oscar', 'Cortes', 1.23])\n",
      "1.23\n",
      "{'Nombre': 'Oscar', 'Apellido': 'Cortes', 'Estatura': 1.23, 'Peso': '58 Kg'}\n"
     ]
    }
   ],
   "source": [
    "diccionario = {'Usuario' : \"woscar\", 'contrasenia' : 12345}\n",
    "print(diccionario)\n",
    "\n",
    "elementosDiccionario = {'Nombre' : \"Oscar\", 'Apellido' : \"Cortes\", 'Estatura' : 1.23}\n",
    "print(elementosDiccionario)\n",
    "\n",
    "#Imprimiendo las llaves del diccionario.\n",
    "print(elementosDiccionario.keys())\n",
    "\n",
    "# Imprimiendo los valores del diccionario.\n",
    "print(elementosDiccionario.values())\n",
    "\n",
    "# Imprimiendo los valores personalizados del diccionario.\n",
    "print(elementosDiccionario[\"Estatura\"])\n",
    "\n",
    "# Agregar nuevos elementos al diccionario.\n",
    "elementosDiccionario[\"Peso\"] = \"58 Kg\"\n",
    "print(elementosDiccionario)"
   ]
  },
  {
   "cell_type": "code",
   "execution_count": 47,
   "id": "05e78641",
   "metadata": {},
   "outputs": [
    {
     "name": "stdout",
     "output_type": "stream",
     "text": [
      "{'Nombre': 'Oscar', 'Apellido': 'Cortes', 'Estatura': 1.23}\n",
      "{'Nombre': 'Oscar', 'Apellido': 'Cortes'}\n",
      "{}\n",
      "Oscar\n",
      "{'Nombre': 'Oscar', 'Apellido': 'Cortes', 'Estatura': 1.23, 4: 5}\n",
      "{1: 2, 2: 3, 3: 4, 4: 5}\n",
      "{5: 6, 6: 7, 7: 8}\n",
      "{1: 2, 2: 3, 3: 4, 4: 5, 5: 6, 6: 7, 7: 8}\n"
     ]
    }
   ],
   "source": [
    "# Metodos de un diccionario.\n",
    "diccionario = {'Nombre' : \"Oscar\", 'Apellido' : \"Cortes\", 'Estatura' : 1.23}\n",
    "\n",
    "# Metodo POP para eliminar un campo que se pasa por parametro.\n",
    "print(diccionario)\n",
    "diccionario.pop('Estatura')\n",
    "print(diccionario)\n",
    "\n",
    "# Metodo CLEAR  para limpiar el diccionario.\n",
    "diccionario.clear()\n",
    "print(diccionario)\n",
    "\n",
    "# Metodo GET para mostrar un campo de la llave.\n",
    "diccionario = {'Nombre' : \"Oscar\", 'Apellido' : \"Cortes\", 'Estatura' : 1.23}\n",
    "print(diccionario.get('Nombre'))\n",
    "\n",
    "# Metodo SETDEFAULT para agregar un campo al diccionario.\n",
    "diccionario.setdefault(4 , 5)\n",
    "print(diccionario)\n",
    "\n",
    "# Metodo UPDATE para actualizar un valor en el diccionario.\n",
    "diccionario1 = {1:2, 2:3, 3:4, 4:5}\n",
    "print(diccionario1)\n",
    "diccionario2 = {5:6, 6:7,  7:8}\n",
    "print(diccionario2)\n",
    "diccionario1.update(diccionario2)\n",
    "print(diccionario1)\n"
   ]
  },
  {
   "cell_type": "markdown",
   "id": "780fcbb8",
   "metadata": {},
   "source": [
    "### Ejercicio.\n",
    "\n",
    "En el siguiente diccionario se encuentran capitales de los paises en el mundo, debes realizar un programa que pida un pais al usuario, y muestre la capital de ese pais, en dado caso el pais no este en el diccionario, se debe mostrar un mensaje diciendo que ese pais no se encuentra.\n",
    "\n",
    "{\"Guatemala\": \"Ciudad de Guatemala\", \"El Salvador\": \"San Salvador\", \"Honduras\": \"Tegucigalpa\",\"Nicaragua\": \"Managua\", \"Costa Rica\": \"San Jose\", \"Panama\": \"Panama\", \"Argentina\": \"Buenos Aires\", \"Colombia\": \"Bogota\", \"Venezuela\": \"Caracas\", \"España\": \"Madrid\"}"
   ]
  },
  {
   "cell_type": "code",
   "execution_count": 48,
   "id": "f2da6a14",
   "metadata": {},
   "outputs": [
    {
     "name": "stdout",
     "output_type": "stream",
     "text": [
      "El pais no se encuentra en el diccionario.\n"
     ]
    }
   ],
   "source": [
    "diccionario = {\"Guatemala\": \"Ciudad de Guatemala\", \"El Salvador\": \"San Salvador\", \"Honduras\": \"Tegucigalpa\",\"Nicaragua\": \"Managua\", \"Costa Rica\": \"San Jose\", \"Panama\": \"Panama\", \"Argentina\": \"Buenos Aires\", \"Colombia\": \"Bogota\", \"Venezuela\": \"Caracas\", \"España\": \"Madrid\"}\n",
    "\n",
    "pais = input(\"Ingrese el país que desea conocer la capital: \")\n",
    "letra = pais.capitalize() in diccionario\n",
    "\n",
    "if letra == True:\n",
    "    print(diccionario[pais.capitalize()])\n",
    "else:\n",
    "    print(\"El pais no se encuentra en el diccionario.\")"
   ]
  },
  {
   "cell_type": "markdown",
   "id": "95933e50",
   "metadata": {},
   "source": [
    "### Ejercicio.\n",
    "\n",
    "Con el siguiente diccionario, debes crear un programa que pregunte al usuario por un número; el programa debe imprimir el jugador al que hace referencia ese número\n",
    "\n",
    "{\n",
    "    1 : \"Casillas\", 15 : \"Ramos\",\n",
    "    3 : \"Pique\", 5 : \"Puyol\",\n",
    "    11 : \"Capdevila\", 14 : \"Xabi Alonso\",\n",
    "    16 : \"Busquets\", 8 : \"Xavi Hernandez\",\n",
    "    18 : \"Pedrito\", 6 : \"Iniesta\",\n",
    "    7 : \"Villa\"\n",
    "}"
   ]
  },
  {
   "cell_type": "code",
   "execution_count": 49,
   "id": "a4eb579f",
   "metadata": {},
   "outputs": [
    {
     "name": "stdout",
     "output_type": "stream",
     "text": [
      "Pique\n"
     ]
    }
   ],
   "source": [
    "\n",
    "diccionario = {\n",
    "    1 : \"Casillas\", 15 : \"Ramos\",\n",
    "    3 : \"Pique\", 5 : \"Puyol\",\n",
    "    11 : \"Capdevila\", 14 : \"Xabi Alonso\",\n",
    "    16 : \"Busquets\", 8 : \"Xavi Hernandez\",\n",
    "    18 : \"Pedrito\", 6 : \"Iniesta\",\n",
    "    7 : \"Villa\"\n",
    "}\n",
    "\n",
    "opcion = int(input(\"Ingrese la opcion que necesita: \"))\n",
    "\n",
    "if opcion in diccionario :\n",
    "    print(diccionario[opcion])\n",
    "else :\n",
    "    print(\"No es una opcion de jugador\")\n",
    "\n"
   ]
  },
  {
   "cell_type": "markdown",
   "id": "7a06f8fc",
   "metadata": {},
   "source": [
    "## Conjuntos de datos.\n",
    "- Son conjuntos que no aceptan datos repetidos.\n",
    "- La sintaxis de un conjunto puede ser {} o [] o ()."
   ]
  },
  {
   "cell_type": "code",
   "execution_count": 50,
   "id": "863d4ec7",
   "metadata": {},
   "outputs": [
    {
     "name": "stdout",
     "output_type": "stream",
     "text": [
      "{1, 2, 3, 4, 5, 6}\n",
      "[1, 1, 2, 2, 3, 4, 4, 5, 6]\n"
     ]
    }
   ],
   "source": [
    "# Creando conjuntos de datos.\n",
    "conjunto1 = {1,2,3,4,5,6,7,8}\n",
    "conjunto2 = set[(1,2,3,4,5,6)] # set convierte la lista en conjuntos de datos.\n",
    "conjunto3 = set((1,2,3,4,5,6,7,8)) # la función set convierte la lista en conjuntos de datos.\n",
    "\n",
    "conjunto = {1,1,2,2,3,4,4,5,6}\n",
    "lista = [1,1,2,2,3,4,4,5,6]\n",
    "print(conjunto)\n",
    "print(lista)"
   ]
  },
  {
   "cell_type": "markdown",
   "id": "af070b18",
   "metadata": {},
   "source": [
    "# Metodos de conjuntos de datos.\n",
    "- SET: convierte los datos almaccenados en (), [], {}, en conjuntos.\n",
    "- ADD: Metodo que añade un elemento.\n",
    "- REMOVE: Metodo que elimina un elemento\n",
    "- DISCARD: Metodo que elimina un elemento\n",
    "- POP: Metodo que elimina un elemento al azar.\n",
    "- UPDATE: Metodo que añade un elemento.\n",
    "- CLEAR: Metodo que deja el conjunto vacio."
   ]
  },
  {
   "cell_type": "code",
   "execution_count": 51,
   "id": "6bc23d75",
   "metadata": {},
   "outputs": [
    {
     "name": "stdout",
     "output_type": "stream",
     "text": [
      "{1, 2, 3, 4, 5, 6}\n",
      "{1, 2, 3, 4, 5, 6, 20}\n",
      "{1, 2, 3, 4, 5, 6, 20}\n",
      "{3, 4, 5, 6, 20}\n",
      "{3, 4, 5, 6, 20}\n",
      "{4, 5, 6, 20}\n",
      "{4, 5, 6, 20}\n",
      "{2, 1, 4, 5, 6, 20, 3}\n",
      "{2, 1, 4, 5, 6, 20, 3}\n",
      "set()\n"
     ]
    }
   ],
   "source": [
    "conjunto = {1,1,2,2,3,4,4,5,6}\n",
    "# Metodo Add\n",
    "print(conjunto)\n",
    "conjunto.add(20)\n",
    "print(conjunto)\n",
    "\n",
    "# Metodo remove y discard\n",
    "print(conjunto)\n",
    "conjunto.remove(1)\n",
    "conjunto.discard(2)\n",
    "print(conjunto)\n",
    "\n",
    "# Metodo pop\n",
    "print(conjunto)\n",
    "conjunto.pop()\n",
    "print(conjunto)\n",
    "\n",
    "# Metodo update\n",
    "print(conjunto)\n",
    "conjunto.update([1,2,3])\n",
    "print(conjunto)\n",
    "\n",
    "# Metodo update\n",
    "print(conjunto)\n",
    "conjunto.clear()\n",
    "print(conjunto)"
   ]
  },
  {
   "cell_type": "markdown",
   "id": "5b400194",
   "metadata": {},
   "source": [
    "## Tuplas.\n",
    "- Son listas que no se pueden modificar.\n",
    "- las tuplas se definen entre parentesis. ()\n",
    "- Se puede acceder a una posicion de las tuplas tupla[posicion]"
   ]
  },
  {
   "cell_type": "code",
   "execution_count": 52,
   "id": "2277bc45",
   "metadata": {},
   "outputs": [
    {
     "name": "stdout",
     "output_type": "stream",
     "text": [
      "(1, 2, 3, 4, 5, 6, 7)\n",
      "<class 'tuple'>\n",
      "3\n"
     ]
    }
   ],
   "source": [
    "tupla = (1,2,3,4,5,6,7)\n",
    "print(tupla)\n",
    "print(type(tupla))\n",
    "\n",
    "# Accediendo a una posicion.\n",
    "print(tupla[2])"
   ]
  },
  {
   "cell_type": "markdown",
   "id": "b5aec8f4",
   "metadata": {},
   "source": [
    "### Ejercicio 1\n",
    "\n",
    "Escribir una tupla con los meses del año, luego, pide al usuario un numero, el que haya ingresado, es el mes que debe mostrar en la tupla"
   ]
  },
  {
   "cell_type": "code",
   "execution_count": 54,
   "id": "a00b2c6e",
   "metadata": {},
   "outputs": [
    {
     "name": "stdout",
     "output_type": "stream",
     "text": [
      "Marzo\n"
     ]
    }
   ],
   "source": [
    "meses = (\"Enero\", \"Febrero\", \"Marzo\", \"Abril\", \"Mayo\", \"Junio\", \"Julio\", \"Agosto\", \"septiembre\", \"Octubre\", \"Noviembre\", \"Diciembre\")\n",
    "usuario = int(input(\"Ingrese un mes del añio: \"))\n",
    "usuario -= 1\n",
    "print(meses[usuario])\n"
   ]
  },
  {
   "cell_type": "markdown",
   "id": "1ca2665b",
   "metadata": {},
   "source": [
    "### Ejercicio 2\n",
    "\n",
    "Escribir una tupla que tenga las letras del alfabeto. Luego, debes pedir al usuario un número, el que haya ingresado, es la letra que debe imprimir el programa"
   ]
  },
  {
   "cell_type": "code",
   "execution_count": 57,
   "id": "f0c33c77",
   "metadata": {},
   "outputs": [
    {
     "name": "stdout",
     "output_type": "stream",
     "text": [
      "E\n"
     ]
    }
   ],
   "source": [
    "alfabeto = ('A', 'B', 'C', 'D', 'E', 'F', 'G','H', 'I','J', 'K', 'L', 'M', 'O', 'P', 'Q', 'R', 'S', 'T', 'U', 'V', 'W', 'X', 'Y','Z')\n",
    "usuario = int(input(\"Ingrese un numero del 1 al 28: \"))\n",
    "print(alfabeto[usuario-1])"
   ]
  },
  {
   "cell_type": "markdown",
   "id": "7f31d0f0",
   "metadata": {},
   "source": [
    "## Bucles:\n",
    "- Estructura con un segmento de codigo que se repite n veces acorde con la condicion determinada.\n",
    "## Iteradores:\n",
    "- Es un contador que tiene los bucles, sirve para que los bucles no sean infinitos.\n",
    "\n",
    "WHILE \n",
    "n = 5\n",
    "while n > 0:\n",
    "    print(n)\n",
    "    n = n - 1\n",
    "print(fin)\n",
    "\n",
    "FOR\n",
    "for <contador> in <nombre_lista>:\n",
    "    segmento de codigo"
   ]
  },
  {
   "cell_type": "code",
   "execution_count": 58,
   "id": "9848b77c",
   "metadata": {},
   "outputs": [
    {
     "name": "stdout",
     "output_type": "stream",
     "text": [
      "Iterando el salto:  1\n",
      "Iterando el salto:  2\n",
      "Iterando el salto:  3\n",
      "Iterando el salto:  4\n",
      "Iterando el salto:  5\n",
      "Iterando el salto:  6\n",
      "Iterando el salto:  7\n",
      "Iterando el salto:  8\n",
      "Iterando el salto:  9\n",
      "Iterando el salto:  10\n"
     ]
    }
   ],
   "source": [
    "# Bucles While.\n",
    "i = 0\n",
    "\n",
    "while i < 10:\n",
    "    i+=1\n",
    "    print(\"Iterando el salto: \", i)"
   ]
  },
  {
   "cell_type": "markdown",
   "id": "c7168d44",
   "metadata": {},
   "source": [
    "### Ejercicio 1\n",
    "\n",
    "Escribir un programa que pida un numero al usuario y muestre las tablas de multiplicar de ese numero"
   ]
  },
  {
   "cell_type": "code",
   "execution_count": 59,
   "id": "fa8d5972",
   "metadata": {},
   "outputs": [
    {
     "name": "stdout",
     "output_type": "stream",
     "text": [
      " 8 * 1 = 8\n",
      " 8 * 2 = 16\n",
      " 8 * 3 = 24\n",
      " 8 * 4 = 32\n",
      " 8 * 5 = 40\n",
      " 8 * 6 = 48\n",
      " 8 * 7 = 56\n",
      " 8 * 8 = 64\n",
      " 8 * 9 = 72\n",
      " 8 * 10 = 80\n"
     ]
    }
   ],
   "source": [
    "numero_multiplicar = int(input('Ingrese la tabla a multiplicar: '))\n",
    "i = 0\n",
    "while i < 10:\n",
    "    i +=1\n",
    "    res = numero_multiplicar * i\n",
    "    print(f' {numero_multiplicar} * {i} = {res}' )"
   ]
  },
  {
   "cell_type": "markdown",
   "id": "89940a3a",
   "metadata": {},
   "source": [
    "### Ejercicio 2\n",
    "\n",
    "Escribir un programa que pregunte al usuario su edad y muestre por pantalla todos los años que ha cumplido (desde 1 hasta su edad)."
   ]
  },
  {
   "cell_type": "code",
   "execution_count": 60,
   "id": "c42b2165",
   "metadata": {},
   "outputs": [
    {
     "name": "stdout",
     "output_type": "stream",
     "text": [
      "Año:  2002\n",
      "Año:  2003\n",
      "Año:  2004\n",
      "Año:  2005\n",
      "Año:  2006\n",
      "Año:  2007\n",
      "Año:  2008\n",
      "Año:  2009\n",
      "Año:  2010\n",
      "Año:  2011\n",
      "Año:  2012\n",
      "Año:  2013\n",
      "Año:  2014\n",
      "Año:  2015\n",
      "Año:  2016\n",
      "Año:  2017\n",
      "Año:  2018\n",
      "Año:  2019\n",
      "Año:  2020\n",
      "Año:  2021\n",
      "Año:  2022\n",
      "Año:  2023\n"
     ]
    }
   ],
   "source": [
    "edad = int(input('Ingrese su edad: '))\n",
    "anio_ini = 2023 - edad\n",
    "while (anio_ini <= 2023):\n",
    "    print('Año: ',anio_ini)\n",
    "    anio_ini+=1"
   ]
  },
  {
   "cell_type": "code",
   "execution_count": 61,
   "id": "bf2b194d",
   "metadata": {},
   "outputs": [
    {
     "name": "stdout",
     "output_type": "stream",
     "text": [
      "En el año de 2002 tienes 1 años\n",
      "En el año de 2003 tienes 2 años\n",
      "En el año de 2004 tienes 3 años\n",
      "En el año de 2005 tienes 4 años\n",
      "En el año de 2006 tienes 5 años\n",
      "En el año de 2007 tienes 6 años\n",
      "En el año de 2008 tienes 7 años\n",
      "En el año de 2009 tienes 8 años\n",
      "En el año de 2010 tienes 9 años\n",
      "En el año de 2011 tienes 10 años\n",
      "En el año de 2012 tienes 11 años\n",
      "En el año de 2013 tienes 12 años\n",
      "En el año de 2014 tienes 13 años\n",
      "En el año de 2015 tienes 14 años\n",
      "En el año de 2016 tienes 15 años\n",
      "En el año de 2017 tienes 16 años\n",
      "En el año de 2018 tienes 17 años\n",
      "En el año de 2019 tienes 18 años\n",
      "En el año de 2020 tienes 19 años\n",
      "En el año de 2021 tienes 20 años\n",
      "En el año de 2022 tienes 21 años\n"
     ]
    }
   ],
   "source": [
    "edad = int(input('Ingrese su edad: '))\n",
    "anio_in = 2023 - edad\n",
    "i=1\n",
    "for i in range(edad):\n",
    "    i+=1\n",
    "    print(f'En el año de {anio_in} tienes {i} años')\n",
    "    anio_in+=1"
   ]
  },
  {
   "cell_type": "markdown",
   "id": "1c3e39bf",
   "metadata": {},
   "source": [
    "## Bucle FOR.\n",
    "- Objetivo 1: Recorrer elementos iterables - es decir elementos que se pueden recorrerc con los multiples elementos ej. una lista.\n",
    "- Objetivo 2: "
   ]
  },
  {
   "cell_type": "code",
   "execution_count": 62,
   "id": "f79aaf71",
   "metadata": {},
   "outputs": [
    {
     "name": "stdout",
     "output_type": "stream",
     "text": [
      "Uno\n",
      "Dos\n",
      "Tres\n",
      "1\n",
      "2\n",
      "3\n",
      "4\n",
      "5\n",
      "6\n",
      "7\n",
      "8\n",
      "9\n",
      "10\n"
     ]
    }
   ],
   "source": [
    "# For: Recorriendo la lista.\n",
    "lista = [\"Uno\", \"Dos\", \"Tres\"]\n",
    "tupla = (1,2,3,4,5,6,7,8,9,10)\n",
    "for i in lista:\n",
    "    print(i)\n",
    "\n",
    "for j in tupla:\n",
    "    print(j)"
   ]
  },
  {
   "cell_type": "code",
   "execution_count": 63,
   "id": "88a36dea",
   "metadata": {},
   "outputs": [
    {
     "name": "stdout",
     "output_type": "stream",
     "text": [
      "1\n",
      "2\n",
      "3\n",
      "4\n",
      "5\n",
      "6\n",
      "7\n",
      "8\n",
      "9\n",
      "1\n",
      "3\n",
      "5\n",
      "7\n",
      "9\n"
     ]
    }
   ],
   "source": [
    "# Funcion RANGE con FOR.\n",
    "for i in range(1,10):\n",
    "    print(i)\n",
    "\n",
    "# Funcion RANGE con intervalos de 2 en 2 .\n",
    "for j in range(1,10, 2):\n",
    "    print(j)"
   ]
  },
  {
   "cell_type": "markdown",
   "id": "98901695",
   "metadata": {},
   "source": [
    "### Ejercicio 1\n",
    "\n",
    "Imprimir por pantalla los numeros del 1 al 10, luego, pedir al usuario dos numeros y mostrar el rango de numeros entre ambas cifras"
   ]
  },
  {
   "cell_type": "code",
   "execution_count": 64,
   "id": "c7247a3c",
   "metadata": {},
   "outputs": [
    {
     "name": "stdout",
     "output_type": "stream",
     "text": [
      "1\n",
      "2\n",
      "3\n",
      "4\n",
      "5\n",
      "6\n",
      "7\n",
      "8\n",
      "9\n",
      "Imprimiendo el rango escojido 1\n",
      "Imprimiendo el rango escojido 2\n",
      "Imprimiendo el rango escojido 3\n",
      "Imprimiendo el rango escojido 4\n",
      "Imprimiendo el rango escojido 5\n"
     ]
    }
   ],
   "source": [
    "for i in range(1,10):\n",
    "    print(i)\n",
    "\n",
    "n1 = int(input(\"Ingrese el primer rango de Numero:\"))\n",
    "n2 = int(input(\"Ingrese el segundo rango de Numero:\"))\n",
    "\n",
    "for j in range(n1,n2+1):\n",
    "    print(f'Imprimiendo el rango escojido', j)"
   ]
  },
  {
   "cell_type": "markdown",
   "id": "234a6b83",
   "metadata": {},
   "source": [
    "### Ejercicio 2\n",
    "\n",
    "Pedir al usuario que ingrese 2 numeros, después, se debe mostrar el rango de esos 2 números, pero, solo imprimiendo los números que sean impares"
   ]
  },
  {
   "cell_type": "code",
   "execution_count": 65,
   "id": "5910d62e",
   "metadata": {},
   "outputs": [
    {
     "name": "stdout",
     "output_type": "stream",
     "text": [
      "Imprimiendo rngo de impares:  1\n",
      "Imprimiendo rngo de impares:  3\n",
      "Imprimiendo rngo de impares:  5\n",
      "Imprimiendo rngo de impares:  7\n"
     ]
    }
   ],
   "source": [
    "n1 = int(input(\"Ingrese el primer rango de Numero:\"))\n",
    "n2 = int(input(\"Ingrese el segundo rango de Numero:\"))\n",
    "\n",
    "for j in range(n1,n2):\n",
    "     if j%2 != 0:\n",
    "          print(f'Imprimiendo rngo de impares: ', j)"
   ]
  },
  {
   "cell_type": "markdown",
   "id": "7f706bee",
   "metadata": {},
   "source": [
    "## Funciones:\n",
    "- Una funcion es una secuencia de sentencias que realizan una operación.\n",
    "- Una función se define con un nombre y una secuencia de sentencias.\n",
    "- Una funcion se define con la palabra def = def Funcion(): secuencia de sentencias.\n",
    "- Parametros: Son variables definidas cuando se declaran funciones.\n",
    "- Argumentos: Son los valores que van a tomar cada uno de los parametros."
   ]
  },
  {
   "cell_type": "code",
   "execution_count": 66,
   "id": "92e1e7b7",
   "metadata": {},
   "outputs": [
    {
     "name": "stdout",
     "output_type": "stream",
     "text": [
      "<class 'str'>\n",
      "<class 'int'>\n",
      "<class 'float'>\n",
      "5\n",
      "70\n",
      "-2\n"
     ]
    }
   ],
   "source": [
    "# Funciones propias de python.\n",
    "num = \"70\"\n",
    "lista = [12,60,70,1,-2]\n",
    "# TYPE: Retorna el tipo de datos de la variable.\n",
    "print(type(num))\n",
    "# INT: Convierte un dato a entero.\n",
    "print(type(int(num)))\n",
    "# FLOAT: Convierte el tipo de dato en flotante.\n",
    "print(type(float(num)))\n",
    "# LEN: Muestra el tamaño de la lista.\n",
    "print(len(lista))\n",
    "# MAX: Retorna el valor maximo de la lista.\n",
    "print(max(lista))\n",
    "# MAX: Retorna el valor minimo de la lista.\n",
    "print(min(lista))"
   ]
  },
  {
   "cell_type": "code",
   "execution_count": 67,
   "id": "c69ce3a7",
   "metadata": {},
   "outputs": [
    {
     "name": "stdout",
     "output_type": "stream",
     "text": [
      "Hola Mundo de Oscar\n",
      "Hola Mundo de Oscar\n"
     ]
    }
   ],
   "source": [
    "# Creando Funciones.\n",
    "def saludo():\n",
    "    print(\"Hola Mundo de Oscar\")\n",
    "\n",
    "# Invocando la funcion.\n",
    "saludo()\n",
    "saludo()"
   ]
  },
  {
   "cell_type": "code",
   "execution_count": 68,
   "id": "c1b092f1",
   "metadata": {},
   "outputs": [
    {
     "name": "stdout",
     "output_type": "stream",
     "text": [
      "7 x 0 = 0\n",
      "7 x 1 = 7\n",
      "7 x 2 = 14\n",
      "7 x 3 = 21\n",
      "7 x 4 = 28\n",
      "7 x 5 = 35\n",
      "7 x 6 = 42\n",
      "7 x 7 = 49\n",
      "7 x 8 = 56\n",
      "7 x 9 = 63\n"
     ]
    }
   ],
   "source": [
    "# Funcion para multiplicar.\n",
    "\n",
    "def multipl():\n",
    "    for i in range(10):\n",
    "        print(\"7 x {} = {}\".format(i, i*7))\n",
    "\n",
    "multipl()"
   ]
  },
  {
   "cell_type": "markdown",
   "id": "0ba1c7c4",
   "metadata": {},
   "source": [
    "### Ejercicio 1\n",
    "\n",
    "Crear un programa que tenga una lista, luego crear una funcion con la cual se van a pedir numeros al usuario para agregar a la lista. Debes crear una segunda funcion en donde se ordenen los numeros pares e impares dentro de dos listas nuevas"
   ]
  },
  {
   "cell_type": "code",
   "execution_count": 4,
   "id": "e9fff5a3",
   "metadata": {},
   "outputs": [
    {
     "name": "stdout",
     "output_type": "stream",
     "text": [
      "[10.0, 8.0, 5.0, 3.0, 2.0, 1.0]\n",
      "[2.0, 8.0, 10.0]\n",
      "[1.0, 3.0, 5.0]\n"
     ]
    }
   ],
   "source": [
    "lista = []\n",
    "num =0\n",
    "\n",
    "# Creando funcion para pedir datos\n",
    "def pedir():\n",
    "    i = 0\n",
    "    while i <= 5:\n",
    "        num = float(input(\"Ingresa el dato para almacenar en la lista: \"))\n",
    "        lista.append(num)\n",
    "        i += 1\n",
    "\n",
    "# Creando funcion ordenar.\n",
    "def ordenar():\n",
    "    lista.sort()\n",
    "    pares = []\n",
    "    impares = []\n",
    "    for i in lista:\n",
    "        if i % 2 == 0:\n",
    "            pares.append(i)\n",
    "        else:\n",
    "            impares.append(i)\n",
    "    print(pares)\n",
    "    print(impares)\n",
    "\n",
    "pedir()\n",
    "print(lista)\n",
    "ordenar()"
   ]
  },
  {
   "cell_type": "markdown",
   "id": "71038c32",
   "metadata": {},
   "source": [
    "### Ejercicio 2\n",
    "\n",
    "Escribir una función que reciba un número entero positivo y devuelva su factoria"
   ]
  },
  {
   "cell_type": "code",
   "execution_count": 5,
   "id": "e6f5a27c",
   "metadata": {},
   "outputs": [
    {
     "name": "stdout",
     "output_type": "stream",
     "text": [
      "120\n"
     ]
    }
   ],
   "source": [
    "# Creando la función de factorial.\n",
    "def factorial():\n",
    "    num = int(input(\"Ingresa tu numero entero positivo: \"))\n",
    "    if num > 0:\n",
    "        factorial = 1\n",
    "        for i in range(1,num + 1):\n",
    "            factorial *= i\n",
    "        print(factorial)\n",
    "    else:\n",
    "        print(\"El numero debe ser positivo.\")\n",
    "\n",
    "factorial()"
   ]
  },
  {
   "cell_type": "code",
   "execution_count": 7,
   "id": "e6fe2285",
   "metadata": {},
   "outputs": [
    {
     "name": "stdout",
     "output_type": "stream",
     "text": [
      "120\n"
     ]
    }
   ],
   "source": [
    "# Creando la función de factorial.\n",
    "from math import factorial\n",
    "\n",
    "num = int(input(\"Ingresa tu numero entero positivo: \"))\n",
    "if num > 0:\n",
    "    print(factorial(num))\n",
    "else:\n",
    "    print(\"El numero debe ser positivo.\")"
   ]
  },
  {
   "cell_type": "code",
   "execution_count": 9,
   "id": "aeacccfa",
   "metadata": {},
   "outputs": [
    {
     "name": "stdout",
     "output_type": "stream",
     "text": [
      "Este es un dato entero: \n",
      "10\n",
      "1 2 3 4 5\n"
     ]
    }
   ],
   "source": [
    "# Creando Funciones con Retorno.\n",
    "\n",
    "def entero():\n",
    "    print(\"Este es un dato entero: \")\n",
    "    return 10\n",
    "\n",
    "print(entero())\n",
    "\n",
    "def asignacion():\n",
    "    return 1,2,3,4,5\n",
    "\n",
    "a,b,c,d,e = asignacion()\n",
    "print(a,b,c,d,e)"
   ]
  },
  {
   "cell_type": "markdown",
   "id": "19aced66",
   "metadata": {},
   "source": [
    "### Ejercicio 1\n",
    "\n",
    "Crear una funcion que pida dos numeros. Si el primero es mayor al segundo, el programa debe retornar el valor 1; si el segundo es mayor al primero, debe retornar -1; si ambos son iguales, debe retornar 0"
   ]
  },
  {
   "cell_type": "code",
   "execution_count": 14,
   "id": "ee3b3c77",
   "metadata": {},
   "outputs": [
    {
     "data": {
      "text/plain": [
       "0"
      ]
     },
     "execution_count": 14,
     "metadata": {},
     "output_type": "execute_result"
    }
   ],
   "source": [
    "def mayorMenor():\n",
    "    num1 = int(input('Ingrese numero 1:'))\n",
    "    num2 = int(input('Ingrese numero 2:'))\n",
    "    if num1 > num2:\n",
    "        return 1\n",
    "    elif num1 < num2:\n",
    "        return -1\n",
    "    else:\n",
    "        return 0\n",
    "\n",
    "mayorMenor()"
   ]
  },
  {
   "cell_type": "markdown",
   "id": "46da87c8",
   "metadata": {},
   "source": [
    "### Ejercicio 2\n",
    "\n",
    "Escribir una función que calcule el total de una factura tras aplicarle el IVA. La función debe recibir la cantidad sin IVA y el porcentaje de IVA a aplicar, y devolver el total de la factura. Si se invoca la función sin pasarle el porcentaje de IVA, deberá aplicar un 21%."
   ]
  },
  {
   "cell_type": "code",
   "execution_count": 1,
   "id": "d1dffd30",
   "metadata": {},
   "outputs": [
    {
     "name": "stdout",
     "output_type": "stream",
     "text": [
      "El monto de IVA es negativo, Digite nuevamente el valor\n"
     ]
    }
   ],
   "source": [
    "def totalFacturas():\n",
    "    valor = float(input('Ingrese el valor de la factura: '))\n",
    "    IVA = int(input('Ingrese el valor del IVA: '))\n",
    "\n",
    "    if IVA !=0:\n",
    "        if IVA > 0:\n",
    "            total_iva = ((valor * IVA)/100)\n",
    "            total_factura = valor + total_iva\n",
    "            return total_factura\n",
    "        else:\n",
    "            return 'El monto de IVA es negativo, Digite nuevamente el valor'\n",
    "    else:\n",
    "        total_factura = (valor * 0.21) + valor       \n",
    "        return total_factura\n",
    "\n",
    "print(totalFacturas())"
   ]
  },
  {
   "cell_type": "markdown",
   "id": "f357bbaf",
   "metadata": {},
   "source": [
    "## Parametros y Argumentos.\n",
    "- Un parametro es una variable que se crea.\n",
    "- Un argumento es el valor que se le asigna a una variable."
   ]
  },
  {
   "cell_type": "code",
   "execution_count": 4,
   "id": "d436fde3",
   "metadata": {},
   "outputs": [
    {
     "name": "stdout",
     "output_type": "stream",
     "text": [
      "45\n"
     ]
    }
   ],
   "source": [
    "# Creando funcion suma con parametros y argumentos.\n",
    "def suma(num1, num2):\n",
    "    suma = num1 + num2\n",
    "    return suma\n",
    "\n",
    "# Pasando Argumentos a la funcion suma.\n",
    "print(suma(10,35))"
   ]
  },
  {
   "cell_type": "code",
   "execution_count": 8,
   "id": "f4fd936b",
   "metadata": {},
   "outputs": [
    {
     "name": "stdout",
     "output_type": "stream",
     "text": [
      "150\n",
      "70\n"
     ]
    }
   ],
   "source": [
    "# Variables Globales constantes.\n",
    "# Englobando una variable para ser usada dentro y fuera de la función.\n",
    "\n",
    "def valores():\n",
    "    global num1\n",
    "    global num2\n",
    "    num1 = 110\n",
    "    num2 = 40\n",
    "    resultado = num1 + num2\n",
    "    return resultado\n",
    "\n",
    "print(valores())\n",
    "\n",
    "resta = num1 - num2\n",
    "print(resta)\n"
   ]
  },
  {
   "cell_type": "code",
   "execution_count": 13,
   "id": "87cd3901",
   "metadata": {},
   "outputs": [
    {
     "name": "stdout",
     "output_type": "stream",
     "text": [
      "<class 'tuple'>\n",
      "Uno\n",
      "10\n",
      "20\n",
      "30\n",
      "40\n",
      "50\n",
      "None\n"
     ]
    }
   ],
   "source": [
    "# Valores Indefinidos = No se conoce la cantidad de datos van a ingresar.\n",
    "\n",
    "def argumento(*num):\n",
    "    return type(num)\n",
    "\n",
    "print(argumento('Uno',10,20,30,40,50))\n",
    "\n",
    "def argumento2(*num):\n",
    "    for i in num:\n",
    "        print(i)\n",
    "\n",
    "print(argumento2('Uno',10,20,30,40,50))\n"
   ]
  },
  {
   "cell_type": "markdown",
   "id": "56269b99",
   "metadata": {},
   "source": [
    "### Ejercicio \n",
    "\n",
    "Crear un programa que tenga dos funciones, una que contenga el area de un cuadrado con argumentos de base y altura; y la otra el area de un circulo con argumento de radio."
   ]
  },
  {
   "cell_type": "code",
   "execution_count": 15,
   "id": "1a5ade7e",
   "metadata": {},
   "outputs": [
    {
     "name": "stdout",
     "output_type": "stream",
     "text": [
      "4\n",
      "7.0685834705770345\n"
     ]
    }
   ],
   "source": [
    "# Funcion 1 Area de un cuadrado.\n",
    "import math\n",
    "\n",
    "def cuadrado(base, altura):\n",
    "    cuadrado = base * altura\n",
    "    return  cuadrado\n",
    "\n",
    "print(cuadrado(2,2))\n",
    "\n",
    "# Funcion 2 area de un circulo.\n",
    "def circulo(radio):\n",
    "    circulo = math.pi * math.pow(radio, 2)\n",
    "    return circulo\n",
    "\n",
    "print(circulo(1.5))"
   ]
  },
  {
   "cell_type": "markdown",
   "id": "f4ab5874",
   "metadata": {},
   "source": [
    "### Ejercicio\n",
    "\n",
    "Escribir una función que reciba una muestra de números en una lista y devuelva su medida."
   ]
  },
  {
   "cell_type": "code",
   "execution_count": 18,
   "id": "e114d1fe",
   "metadata": {},
   "outputs": [
    {
     "name": "stdout",
     "output_type": "stream",
     "text": [
      "5.5\n"
     ]
    }
   ],
   "source": [
    "# Funcion 2 media de una lista de numeros.\n",
    "\n",
    "lista = [1,2,3,4,5,6,7,8,9,10]\n",
    "\n",
    "def media(lista):\n",
    "    mediana = sum(lista) / len(lista)\n",
    "    return mediana\n",
    "\n",
    "print(media(lista))"
   ]
  },
  {
   "cell_type": "code",
   "execution_count": 21,
   "id": "bf8e3197",
   "metadata": {},
   "outputs": [
    {
     "name": "stdout",
     "output_type": "stream",
     "text": [
      "Ingresaste un valor erroneo.\n",
      "Ingresaste un valor erroneo.\n",
      "Ingresaste un valor erroneo.\n",
      "Tu edad es :  18\n"
     ]
    }
   ],
   "source": [
    "# Errores en python.\n",
    "while True:\n",
    "    try:\n",
    "        edad = int(input(\"Ingrese su edad: \"))\n",
    "        print(\"Tu edad es : \", edad)\n",
    "        break\n",
    "    except:\n",
    "        print(\"Ingresaste un valor erroneo.\")"
   ]
  },
  {
   "cell_type": "code",
   "execution_count": 22,
   "id": "9a22af11",
   "metadata": {},
   "outputs": [
    {
     "name": "stdout",
     "output_type": "stream",
     "text": [
      "Ingresaste un valor erroneo.\n",
      "Tu edad es :  2\n"
     ]
    }
   ],
   "source": [
    "# Exepciones controladas con python.\n",
    "while True:\n",
    "    try:\n",
    "        edad = int(input(\"Ingrese su edad: \"))\n",
    "        print(\"Tu edad es : \", edad)\n",
    "        break\n",
    "    except ValueError:\n",
    "        print(\"Ingresaste un valor erroneo.\")"
   ]
  },
  {
   "cell_type": "code",
   "execution_count": 25,
   "id": "c03651a6",
   "metadata": {},
   "outputs": [
    {
     "name": "stdout",
     "output_type": "stream",
     "text": [
      "Tu edad es :  18\n"
     ]
    }
   ],
   "source": [
    "# Exepciones controladas con python.\n",
    "while True:\n",
    "    try:\n",
    "        edad = int(input(\"Ingrese su edad: \"))\n",
    "        print(\"Tu edad es : \", edad)\n",
    "        break\n",
    "    except KeyboardInterrupt:\n",
    "        print(\"\\n Has cancelado la ejecucion\")"
   ]
  },
  {
   "cell_type": "markdown",
   "id": "4e6fa7e7",
   "metadata": {},
   "source": [
    "## Programacion Orientada a Objetos.\n",
    "### Clases.\n",
    "- Entidad que define elementos que determina estados y comportamientos.\n",
    "- class galleta():\n",
    "### Objetos.\n",
    "- Es una abstraccion de una clase con caracteristicas particulares del objeto.\n",
    "\n",
    "## Metodos y Atributos\n",
    "- Atributos son cualidades y caracteristicas de los objetos.\n",
    "  - class Carro():\n",
    "    - color\n",
    "    - llantas\n",
    "    - marca\n",
    "- Metodos son las acciones que pude realizar los objetos y se conocen como funciones.\n",
    "  - class Persona():\n",
    "    - def Hablar():\n",
    "      - print(\"Hola\")"
   ]
  },
  {
   "cell_type": "code",
   "execution_count": 30,
   "id": "8d3dea89",
   "metadata": {},
   "outputs": [
    {
     "name": "stdout",
     "output_type": "stream",
     "text": [
      "<class 'type'>\n",
      "<class '__main__.FabricaTelefonos'>\n",
      "<class 'function'>\n"
     ]
    }
   ],
   "source": [
    "## Creando classes en python.\n",
    "class FabricaTelefonos():\n",
    "    pass\n",
    "print(type(FabricaTelefonos))\n",
    "\n",
    "## Creando objetos a partir de la clase.\n",
    "celular = FabricaTelefonos()\n",
    "print(type(celular))\n",
    "\n",
    "## Creando una funcion en python.\n",
    "def fabricaTelefonos():\n",
    "    pass\n",
    "print(type(fabricaTelefonos))"
   ]
  },
  {
   "cell_type": "code",
   "execution_count": 37,
   "id": "61fbb6e9",
   "metadata": {},
   "outputs": [
    {
     "name": "stdout",
     "output_type": "stream",
     "text": [
      "<__main__.FabricaTelefonos object at 0x0000025A95BE9AD0>\n",
      "Samsung Galaxy Nexus\n",
      "black\n",
      "32\n",
      "Hola ¿Con quien hablo?\n",
      "Escuchando Musica\n",
      "None\n"
     ]
    }
   ],
   "source": [
    "## Creando metodos y atributos.\n",
    "class FabricaTelefonos():\n",
    "    marca = \"Samsung Galaxy Nexus\"\n",
    "    color = \"black\"\n",
    "    memoriaRam = 32\n",
    "    almacenamiento = 128\n",
    "\n",
    "    # Creando metodos o funciones.\n",
    "    def llamar(self, mensaje):\n",
    "        return mensaje\n",
    "    \n",
    "    def escucharMusica(self):\n",
    "        print(\"Escuchando Musica\")\n",
    "\n",
    "# Creando un objeto de FabricaTelefonos.\n",
    "telefono = FabricaTelefonos()\n",
    "print(telefono)\n",
    "print(telefono.marca)\n",
    "print(telefono.color)\n",
    "print(telefono.memoriaRam)\n",
    "print(telefono.llamar(\"Hola ¿Con quien hablo?\"))\n",
    "print(telefono.escucharMusica())\n",
    "\n"
   ]
  },
  {
   "cell_type": "code",
   "execution_count": 41,
   "id": "92aeb6b0",
   "metadata": {},
   "outputs": [
    {
     "name": "stdout",
     "output_type": "stream",
     "text": [
      "samsung\n",
      "Huawei\n"
     ]
    }
   ],
   "source": [
    "# Usando self para englobal atributos, usando metodos de instancia.\n",
    "class FabricaTelefonos ():\n",
    "    marca = \"samsung\"\n",
    "\n",
    "    def ElaborarHuawei (self):\n",
    "        self.marca = \"Huawei\"\n",
    "\n",
    "\n",
    "telefono = FabricaTelefonos()\n",
    "print(telefono.marca)\n",
    "\n",
    "telefono.ElaborarHuawei()\n",
    "print(telefono.marca)"
   ]
  },
  {
   "cell_type": "code",
   "execution_count": 42,
   "id": "dad2f745",
   "metadata": {},
   "outputs": [
    {
     "name": "stdout",
     "output_type": "stream",
     "text": [
      "Creando el metodo init para inicializar la clase\n",
      "Creando el metodo init para inicializar la clase\n"
     ]
    }
   ],
   "source": [
    "# Creando el metodo init para inicializar la clase.\n",
    "class FabricaTelefonos():\n",
    "    def __init__(self):\n",
    "        print(\"Creando el metodo init para inicializar la clase\")\n",
    "\n",
    "telefono = FabricaTelefonos()\n",
    "telefono2 = FabricaTelefonos()"
   ]
  },
  {
   "cell_type": "code",
   "execution_count": 43,
   "id": "dd1a598f",
   "metadata": {},
   "outputs": [
    {
     "name": "stdout",
     "output_type": "stream",
     "text": [
      "Huawei\n",
      "Azul\n"
     ]
    }
   ],
   "source": [
    "# Creando el metodo init para inicializar la clase.\n",
    "class FabricaTelefonos():\n",
    "    def __init__(self, marca, color):\n",
    "        self.marca = marca\n",
    "        self.color = color\n",
    "\n",
    "telefono = FabricaTelefonos(\"Huawei\",\"Azul\")\n",
    "print(telefono.marca)\n",
    "print(telefono.color)"
   ]
  },
  {
   "cell_type": "code",
   "execution_count": 12,
   "id": "ceeb1cea",
   "metadata": {},
   "outputs": [
    {
     "name": "stdout",
     "output_type": "stream",
     "text": [
      "El objeto Nokia ha sido destruido\n",
      "Nokia\n"
     ]
    }
   ],
   "source": [
    "# Metodos especiales con el metodo constructor __init__.\n",
    "class FabricaTelefonos():\n",
    "    def __init__(self, marca, color):\n",
    "        self.marca = marca\n",
    "        self.color = color\n",
    "\n",
    "    # Definiendo el objeto para impresion  __str__.\n",
    "    def __str__(self):\n",
    "        print(\"El objeto es {} \".format(self.marca))\n",
    "\n",
    "    # Metodos especiales con el metodo destructor  __del__.\n",
    "    def __del__(self):\n",
    "        print(\"El objeto {} ha sido destruido\".format(self.marca))\n",
    "\n",
    "telefono = FabricaTelefonos(\"Nokia\",\"Negro\")\n",
    "print(telefono.marca)\n",
    "#print(telefono)"
   ]
  },
  {
   "cell_type": "code",
   "execution_count": 15,
   "id": "60b0d2c1",
   "metadata": {},
   "outputs": [
    {
     "name": "stdout",
     "output_type": "stream",
     "text": [
      "('Negro', 'Azul', 'Rojo', 'Verde')\n",
      "{'m1': 500, 'm2': 400, 'm3': 100, 'm4': 200}\n",
      "500\n"
     ]
    }
   ],
   "source": [
    "# Metodos especiales tupas * diccionarios **.\n",
    "class FabricaTelefonos():\n",
    "    def __init__(self, marca, *color, **modelos):\n",
    "        self.marca = marca\n",
    "        self.color = color\n",
    "        self.modelos = modelos\n",
    "\n",
    "telefono = FabricaTelefonos(\"Alcatel\",\"Negro\",\"Azul\",\"Rojo\",\"Verde\", m1=500,m2=400,m3=100,m4=200)\n",
    "print(telefono.color)\n",
    "print(telefono.modelos)\n",
    "\n",
    "# Creando un nuevo atributo temporal.\n",
    "telefono.memoria = 500\n",
    "print(telefono.memoria)"
   ]
  },
  {
   "cell_type": "markdown",
   "id": "b22e5770",
   "metadata": {},
   "source": [
    "## Pilares de la POO.\n",
    "- Encapsulamiento: Es aplicar sobre los atributos un alcance para que sea aplicado dentro de la clase."
   ]
  },
  {
   "cell_type": "code",
   "execution_count": 21,
   "id": "477a79ff",
   "metadata": {},
   "outputs": [
    {
     "name": "stdout",
     "output_type": "stream",
     "text": [
      "0\n",
      "1\n",
      "Objeto B\n",
      "0\n",
      "1\n"
     ]
    }
   ],
   "source": [
    "# Aplicando Encapsulamiento.\n",
    "class A():\n",
    "    def __init__(self):\n",
    "        self.contador = 0\n",
    "    \n",
    "    def incrementar(self):\n",
    "        self.contador += 1\n",
    "    \n",
    "    def cuenta(self):\n",
    "        return self.contador\n",
    "\n",
    "class B():\n",
    "    def __init__(self):\n",
    "        self.__contador = 0\n",
    "    \n",
    "    def incrementar(self):\n",
    "        self.__contador += 1\n",
    "    \n",
    "    def cuenta(self):\n",
    "        return self.__contador\n",
    "\n",
    "a = A()\n",
    "print(a.cuenta())\n",
    "a.incrementar()\n",
    "print(a.cuenta())\n",
    "\n",
    "print(\"Objeto B\")\n",
    "b = B()\n",
    "print(b.cuenta())\n",
    "b.incrementar()\n",
    "print(b.cuenta())\n",
    "#print(b.__contador) # Este atributo esta encapsulado y solo se puede acceder desde la misma Clase."
   ]
  },
  {
   "cell_type": "code",
   "execution_count": 3,
   "id": "25907313",
   "metadata": {},
   "outputs": [
    {
     "name": "stdout",
     "output_type": "stream",
     "text": [
      "20\n"
     ]
    }
   ],
   "source": [
    "# Continuando con Encapsulamiento.\n",
    "class A():\n",
    "    def __init__(self):\n",
    "        self._contador = 0\n",
    "        self.cuenta = 0\n",
    "    \n",
    "    def incrementar(self):\n",
    "        self._contador +=1\n",
    "    \n",
    "    def cuenta(self):\n",
    "        return self._contador\n",
    "    \n",
    "# Creando un objeto de tipo A.\n",
    "a = A()\n",
    "\n",
    "a.cuenta = 20\n",
    "print(a.cuenta)"
   ]
  },
  {
   "cell_type": "code",
   "execution_count": 12,
   "id": "a6bf62ec",
   "metadata": {},
   "outputs": [
    {
     "name": "stdout",
     "output_type": "stream",
     "text": [
      "10\n",
      "30\n",
      "20\n",
      "45\n"
     ]
    }
   ],
   "source": [
    "## Metodos GET y SET.\n",
    "class A():\n",
    "    def __init__(self):\n",
    "        self._cuenta = 10\n",
    "        self._contador = 20\n",
    "    \n",
    "    @property\n",
    "    def getCuenta(self):\n",
    "        return self._cuenta\n",
    "    \n",
    "    @getCuenta.setter\n",
    "    def setCuenta(self, cuenta):\n",
    "        self._cuenta = cuenta\n",
    "    \n",
    "    @property\n",
    "    def getContador(self):\n",
    "        return self._contador\n",
    "    \n",
    "    @getContador.setter\n",
    "    def setContador(self, contador):\n",
    "        self._contador = contador\n",
    "    \n",
    "    \n",
    "    \n",
    "a = A()\n",
    "print(a.getCuenta)\n",
    "\n",
    "# Modificando el valor de cuenta.\n",
    "a.setCuenta = 30\n",
    "print(a.getCuenta)\n",
    "\n",
    "print(a.getContador)\n",
    "a.setContador = 45\n",
    "print(a.getContador)\n"
   ]
  },
  {
   "cell_type": "markdown",
   "id": "195c5e32",
   "metadata": {},
   "source": [
    "## Herencia.\n",
    "- Cuando se tiene mas de una clase la herencia pasa de una clase padre a una hija."
   ]
  },
  {
   "cell_type": "code",
   "execution_count": 16,
   "id": "f5dc6828",
   "metadata": {},
   "outputs": [
    {
     "name": "stdout",
     "output_type": "stream",
     "text": [
      "caminando\n",
      "None\n",
      "caminando\n",
      "None\n",
      "Yo soy un Abeja\n"
     ]
    }
   ],
   "source": [
    "## Herencia.\n",
    "class Animales():\n",
    "    def camina(self):\n",
    "        print(\"caminando\")\n",
    "\n",
    "    def descripcion(self):\n",
    "        print(\"Yo soy un {}\".format(self.animal))\n",
    "\n",
    "class Perro(Animales):\n",
    "    pass\n",
    "\n",
    "class Abeja(Animales):\n",
    "    def __init__(self, animal):\n",
    "        self.animal = animal\n",
    "\n",
    "animal = Animales()\n",
    "print(animal.camina())\n",
    "\n",
    "# Creando un objeto a partir de la clase perro.\n",
    "perro = Perro()\n",
    "print(perro.camina())\n",
    "\n",
    "# Creando un objeto a partir de la clase Abeja.\n",
    "abeja = Abeja(\"Abeja\")\n",
    "abeja.descripcion()"
   ]
  },
  {
   "cell_type": "code",
   "execution_count": 19,
   "id": "33efaaa2",
   "metadata": {},
   "outputs": [
    {
     "name": "stdout",
     "output_type": "stream",
     "text": [
      "Firulais\n",
      "Guuuaaaooo\n"
     ]
    }
   ],
   "source": [
    "## Herencia con el memtodo SUPER().\n",
    "class Animales ():\n",
    "    def __init__ (self, nombre):\n",
    "        self.nombre = nombre\n",
    "\n",
    "class Perro (Animales):\n",
    "    def __init__ (self, nombre, sonido):\n",
    "        super().__init__(nombre)\n",
    "        self.sonido = sonido\n",
    "\n",
    "perro = Perro(\"Firulais\", \"Guuuaaaooo\")\n",
    "print(perro.nombre)\n",
    "print(perro.sonido)"
   ]
  },
  {
   "cell_type": "code",
   "execution_count": 20,
   "id": "74ee0a07",
   "metadata": {},
   "outputs": [
    {
     "name": "stdout",
     "output_type": "stream",
     "text": [
      "Esta es la clse A\n",
      "Esta es la clse B\n"
     ]
    }
   ],
   "source": [
    "## Herencia Multiple.\n",
    "class A():\n",
    "    def primera(self):\n",
    "        return \"Esta es la clse A\"\n",
    "    \n",
    "class B():\n",
    "    def segunda(self):\n",
    "        return \"Esta es la clse B\"\n",
    "    \n",
    "class C(A, B):\n",
    "    pass\n",
    "\n",
    "c = C()\n",
    "print(c.primera())\n",
    "print(c.segunda())\n"
   ]
  },
  {
   "cell_type": "code",
   "execution_count": 26,
   "id": "aa56553c",
   "metadata": {},
   "outputs": [
    {
     "name": "stdout",
     "output_type": "stream",
     "text": [
      "Yo hago Guau\n",
      "Miau\n",
      "Yo no hablo\n"
     ]
    }
   ],
   "source": [
    "## Polimorfismo.\n",
    "class Animales():\n",
    "    def __init__(self, mensaje):\n",
    "        self.mensaje = mensaje\n",
    "\n",
    "    def hablar(self):\n",
    "        print(self.mensaje)\n",
    "\n",
    "class Perro(Animales):\n",
    "    def hablar(self):\n",
    "        print(\"Yo hago Guau\")\n",
    "\n",
    "class Pez(Animales):\n",
    "    def hablar(self):\n",
    "        print(\"Yo no hablo\")\n",
    "\n",
    "perro = Perro(\"Guau\")\n",
    "perro.hablar()\n",
    "\n",
    "animal = Animales(\"Miau\")\n",
    "animal.hablar()\n",
    "\n",
    "pez = Pez(\"Nada\")\n",
    "pez.hablar()"
   ]
  },
  {
   "cell_type": "markdown",
   "id": "8f2c05b4",
   "metadata": {},
   "source": [
    "### Ejercicio 1\n",
    "\n",
    "Realizar un programa que conste de una clase llamada Estudiante, que tenga como atributos el nombre y la nota del alumno. Definir los métodos para inicializar sus atributos, imprimirlos y mostrar un mensaje con el resultado de la nota y si ha aprobado o no"
   ]
  },
  {
   "cell_type": "code",
   "execution_count": 90,
   "id": "c5370af4",
   "metadata": {},
   "outputs": [
    {
     "name": "stdout",
     "output_type": "stream",
     "text": [
      "La nota del Alumno oscar es de 9\n",
      "Aprobado\n",
      "La nota del Alumno Karla es de 4\n",
      "Reprobado\n"
     ]
    }
   ],
   "source": [
    "class Estudiante():\n",
    "    def __init__(self):\n",
    "        self._nombre = \"\"\n",
    "        self._notAlumno = 0\n",
    "    \n",
    "    @property\n",
    "    def getNombre(self):\n",
    "        return self._nombre\n",
    "    \n",
    "    @property\n",
    "    def getNotaAlumno(self):\n",
    "        return self._notAlumno\n",
    "    \n",
    "    @getNombre.setter\n",
    "    def setNombre(self, nombre):\n",
    "        self._nombre = nombre\n",
    "    \n",
    "    @getNotaAlumno.setter\n",
    "    def setNotAlumno(self, notAlumno):\n",
    "        self._notAlumno = notAlumno\n",
    "    \n",
    "    def imprimirMensaje(self, nombre, notAlumno):\n",
    "        return print(\"La nota del Alumno {} es de {}\".format(nombre, notAlumno))\n",
    "    \n",
    "    def resultado(self, nota):\n",
    "        if nota < 5:\n",
    "            print(\"Reprobado\")\n",
    "        else:\n",
    "            print(\"Aprobado\")\n",
    "   \n",
    "estudiante = Estudiante()\n",
    "estudiante.setNombre = \"oscar\"\n",
    "estudiante.setNotAlumno = 9\n",
    "estudiante.imprimirMensaje(estudiante.getNombre, estudiante.getNotaAlumno)\n",
    "estudiante.resultado(estudiante.getNotaAlumno)\n",
    "estudiante.setNombre = \"Karla\"\n",
    "estudiante.setNotAlumno = 4\n",
    "estudiante.imprimirMensaje(estudiante.getNombre, estudiante.getNotaAlumno)\n",
    "estudiante.resultado(estudiante.getNotaAlumno)\n",
    "\n",
    "\n",
    "\n",
    "    "
   ]
  },
  {
   "cell_type": "markdown",
   "id": "b3c26921",
   "metadata": {},
   "source": [
    "### Ejercicio 2\n",
    "\n",
    "Realizar un programa en el cual se declaren dos valores enteros por teclado utilizando el método __init__. Calcular después la suma, resta, multiplicación y división. Utilizar un método para cada una e imprimir los resultados obtenidos. Llamar a la clase Calculadora."
   ]
  },
  {
   "cell_type": "code",
   "execution_count": 6,
   "id": "f0206808",
   "metadata": {},
   "outputs": [
    {
     "name": "stdout",
     "output_type": "stream",
     "text": [
      "('La suma es: ', 150)\n",
      "('La Resta es: ', 50)\n",
      "('La Multiplicacion es: ', 5000)\n",
      "('La Division es: ', 2.0)\n"
     ]
    }
   ],
   "source": [
    "class calculadora():\n",
    "    def __init__(self):\n",
    "        self.num1 = int(input(\"Ingrese el Primer valor: \"))\n",
    "        self.num2 = int(input(\"Ingrese el Segundo valor: \"))\n",
    "\n",
    "    def suma(self):\n",
    "        self.suma = self.num1 + self.num2\n",
    "        return \"La suma es: \" , self.suma\n",
    "    \n",
    "    def resta(self):\n",
    "        self.resta = self.num1 - self.num2\n",
    "        return \"La Resta es: \" , self.resta\n",
    "    \n",
    "    def multiplicacion(self):\n",
    "        self.multiplica = self.num1 * self.num2\n",
    "        return \"La Multiplicacion es: \" , self.multiplica\n",
    "    \n",
    "    def divicion(self):\n",
    "        self.divide = self.num1 / self.num2\n",
    "        return \"La Division es: \" , self.divide\n",
    "    \n",
    "calcular = calculadora()\n",
    "\n",
    "print(calcular.suma())\n",
    "print(calcular.resta())\n",
    "print(calcular.multiplicacion())\n",
    "print(calcular.divicion())"
   ]
  },
  {
   "cell_type": "markdown",
   "id": "b16aa3bc",
   "metadata": {},
   "source": [
    "### Ejercicio.\n",
    "\n",
    "Crear una clase Fabrica que tenga los atributos de Llantas, Color y Precio; luego crear dos clases mas que hereden de Fabrica, las cuales son Moto y Carro. Crear metodos que muestren la cantidad de llantas, color y precio de ambos transportes. Por ultimo, crear objetos para cada clase y mostrar por pantalla los atributos de cada uno"
   ]
  },
  {
   "cell_type": "code",
   "execution_count": 7,
   "id": "c7291a7f",
   "metadata": {},
   "outputs": [
    {
     "name": "stdout",
     "output_type": "stream",
     "text": [
      "La cantidad de llantas es de:  4\n",
      "El color del carro es:  Azul\n",
      "El precio del carro es $:  4.0\n",
      "La cantidad de llantas es de:  2\n",
      "El color de la moto es:  Verde\n",
      "El precio de la moto es $:  3.0\n"
     ]
    }
   ],
   "source": [
    "class Fabrica():\n",
    "    def __init__(self, llantas, color, precio):\n",
    "        self.llantas = llantas\n",
    "        self.color = color\n",
    "        self.precio = precio\n",
    "    \n",
    "class Carro(Fabrica):\n",
    "    def datos(self):\n",
    "        print(\"La cantidad de llantas es de: \",self.llantas)\n",
    "        print(\"El color del carro es: \",self.color)\n",
    "        print(\"El precio del carro es $: \",self.precio)\n",
    "\n",
    "class Moto(Fabrica):\n",
    "    def datos(self):\n",
    "        print(\"La cantidad de llantas es de: \",self.llantas)\n",
    "        print(\"El color de la moto es: \",self.color)\n",
    "        print(\"El precio de la moto es $: \",self.precio)\n",
    "\n",
    "carro = Carro(4,\"Azul\", 4.000)\n",
    "carro.datos()\n",
    "\n",
    "moto = Moto(2,\"Verde\", 3.000)\n",
    "moto.datos()\n",
    "\n",
    "    "
   ]
  },
  {
   "cell_type": "markdown",
   "id": "57077ff3",
   "metadata": {},
   "source": [
    "### Ejercicio\n",
    "\n",
    "Crear una clase llamada Marino(), con un metodo que sea hablar, en donde muestre un mensaje que diga \"Hola...\". Luego, crear una clase Pulpo() que herede Marino, pero modificar el mensaje de hablar por \"Soy un Pulpo\". Por ultimo, crear una clase Foca(), heredada de Marino, pero que tenga un atributo nuevo llamado mensaje y que muestre ese mesjae como parametro"
   ]
  },
  {
   "cell_type": "code",
   "execution_count": 10,
   "id": "a19e3443",
   "metadata": {},
   "outputs": [
    {
     "name": "stdout",
     "output_type": "stream",
     "text": [
      "Hola ...\n",
      "Soy un pulpo\n",
      "Hola soy una Foca\n"
     ]
    }
   ],
   "source": [
    "class Marino():\n",
    "    def hablar(self):\n",
    "        print(\"Hola ...\")\n",
    "\n",
    "class Pulpo(Marino):\n",
    "    def hablar(self):\n",
    "        print(\"Soy un pulpo\")\n",
    "\n",
    "class Foca(Marino):\n",
    "    def hablar(self, mensaje):\n",
    "        self.mensaje = mensaje\n",
    "        print(self.mensaje)\n",
    "\n",
    "marino = Marino()\n",
    "marino.hablar()\n",
    "\n",
    "pulpo = Pulpo()\n",
    "pulpo.hablar()\n",
    "\n",
    "foca = Foca()\n",
    "foca.hablar(\"Hola soy una Foca\")"
   ]
  },
  {
   "cell_type": "markdown",
   "id": "3340b161",
   "metadata": {},
   "source": [
    "### Ejercicio.\n",
    "\n",
    "Crear un programa con tres clases Universidad, con atributos nombre (Donde se almacena el nombre de la Universidad). Otra llamada Carerra, con los atributos especialidad (En donde me guarda la especialidad de un estudiante). Una ultima llamada Estudiante, que tenga como atributos su nombre y edad. El programa debe imprimir la especialidad, edad, nombre y universidad de dicho estudiante con un objeto llamado persona"
   ]
  },
  {
   "cell_type": "code",
   "execution_count": 12,
   "id": "dfa56942",
   "metadata": {},
   "outputs": [
    {
     "name": "stdout",
     "output_type": "stream",
     "text": [
      "Mi nombre es Oscar, tengo 35 años, mi especialidad es Systemas, estudio en la Universidad Udemy\n"
     ]
    }
   ],
   "source": [
    "class Universidad():\n",
    "    def __init__(self, Nombre):\n",
    "        self.Nombre = Nombre\n",
    "\n",
    "class Carrera():\n",
    "    def carrera(self, especialidad):\n",
    "        self.especialidad = especialidad\n",
    "\n",
    "class Estudiante(Universidad, Carrera):\n",
    "    def datos(self, nombre, edad):\n",
    "        self.nombre = nombre\n",
    "        self.edad = edad\n",
    "        print(\"Mi nombre es {}, tengo {} años, mi especialidad es {}, estudio en la Universidad {}\".format(self.nombre,self.edad,self.especialidad,self.Nombre))\n",
    "\n",
    "persona = Estudiante(\"Udemy\")\n",
    "persona.carrera(\"Systemas\")\n",
    "persona.datos(\"Oscar\", 35)"
   ]
  },
  {
   "cell_type": "markdown",
   "id": "3a785dde",
   "metadata": {},
   "source": [
    "## Turtle\n",
    "- Modulo para aprender y graficar."
   ]
  },
  {
   "cell_type": "code",
   "execution_count": 1,
   "id": "d4433167",
   "metadata": {},
   "outputs": [],
   "source": [
    "import turtle\n",
    "s = turtle.Screen()\n",
    "t = turtle.Turtle()"
   ]
  },
  {
   "cell_type": "code",
   "execution_count": null,
   "id": "8af2ceba",
   "metadata": {},
   "outputs": [],
   "source": [
    "t.backward()\n",
    "t.right(90)\n",
    "t.forward(90)\n",
    "t.left(90)\n",
    "\n",
    "t.fd(100)\n",
    "t.rt(90)\n",
    "t.fd(100)\n",
    "t.lt(90)\n",
    "t.bk(100)"
   ]
  }
 ],
 "metadata": {
  "kernelspec": {
   "display_name": "Python 3 (ipykernel)",
   "language": "python",
   "name": "python3"
  },
  "language_info": {
   "codemirror_mode": {
    "name": "ipython",
    "version": 3
   },
   "file_extension": ".py",
   "mimetype": "text/x-python",
   "name": "python",
   "nbconvert_exporter": "python",
   "pygments_lexer": "ipython3",
   "version": "3.10.12"
  }
 },
 "nbformat": 4,
 "nbformat_minor": 5
}
