{
 "cells": [
  {
   "cell_type": "code",
   "execution_count": 1,
   "metadata": {},
   "outputs": [
    {
     "name": "stdout",
     "output_type": "stream",
     "text": [
      "A\n",
      "E\n",
      "I\n",
      "O\n",
      "U\n"
     ]
    }
   ],
   "source": [
    "# Reto Ciclos imprimir las vocales en mayuscula.\n",
    "\n",
    "vocales = 'aeiou'\n",
    "\n",
    "for vocal in vocales:\n",
    "    print(vocal.upper())"
   ]
  },
  {
   "cell_type": "code",
   "execution_count": 2,
   "metadata": {},
   "outputs": [
    {
     "data": {
      "text/plain": [
       "'8'"
      ]
     },
     "execution_count": 2,
     "metadata": {},
     "output_type": "execute_result"
    }
   ],
   "source": [
    "# Reto pidiendo datos por teclado con input()\n",
    "dia_del_mes = input('Que dia del mes es hoy: ')\n",
    "dia_del_mes"
   ]
  },
  {
   "cell_type": "code",
   "execution_count": 3,
   "metadata": {},
   "outputs": [
    {
     "data": {
      "text/plain": [
       "8"
      ]
     },
     "execution_count": 3,
     "metadata": {},
     "output_type": "execute_result"
    }
   ],
   "source": [
    "# Convirtiendo el valor String de la funcion input en un valor Int\n",
    "dia_del_mes = int(input('Que dia del mes es hoy: '))\n",
    "dia_del_mes"
   ]
  },
  {
   "cell_type": "code",
   "execution_count": 7,
   "metadata": {},
   "outputs": [
    {
     "name": "stdout",
     "output_type": "stream",
     "text": [
      "No es un numero\n"
     ]
    }
   ],
   "source": [
    "# Trabajando Excepciones con TRY.\n",
    "\n",
    "try:\n",
    "    a = int(input('Dame un numero: '))\n",
    "    b = int(input('Dame otro numero: '))\n",
    "except:\n",
    "    print(\"No es un numero\");\n",
    "else:\n",
    "    suma = a+b\n",
    "    print(f'La suma es ' + str(suma))"
   ]
  }
 ],
 "metadata": {
  "kernelspec": {
   "display_name": "dev-ia",
   "language": "python",
   "name": "python3"
  },
  "language_info": {
   "codemirror_mode": {
    "name": "ipython",
    "version": 3
   },
   "file_extension": ".py",
   "mimetype": "text/x-python",
   "name": "python",
   "nbconvert_exporter": "python",
   "pygments_lexer": "ipython3",
   "version": "3.10.12"
  },
  "orig_nbformat": 4
 },
 "nbformat": 4,
 "nbformat_minor": 2
}
