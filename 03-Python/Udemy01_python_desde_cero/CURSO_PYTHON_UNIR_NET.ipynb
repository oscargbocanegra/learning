{
 "cells": [
  {
   "cell_type": "markdown",
   "id": "5f97cb62",
   "metadata": {},
   "source": [
    "# TEMA 1: Introduccion a Python\n",
    "\n",
    "## ¿Que es Python?\n",
    " \n",
    " Lenguaje de programación ultimamente usado para temas de ciencias de datos, Inteligencia Artificial y Back End.\n",
    " \n",
    " ## Guia de Estilos Python PEP8\n",
    "\n",
    "Fuente: https://www.python.org/dev/peps/pep0008/\n",
    "\n",
    "# Ventajas de Python.\n",
    "\n",
    "## Tipado dinamico.\n",
    "\n",
    "Python no necesita que se definan el tipo de variable como se hacen con otros lenguajes de programación, Cuando se inicializa una variable, python le asigna el tipo de Valor.\n",
    "\n",
    "## Lenguaje Multiparadigma.\n",
    "\n",
    "Python permite aplicar diferentes paradigmas como Programación orientada a objetos, Java, Programación Imperativa, Programación Funcional.\n",
    "\n",
    "## Interpretado / Scripts.\n",
    "\n",
    "Python se puede ejecutar de forma interpretada o usando scripts, por medio de consolas ejecutando instrucciones.\n",
    "\n",
    "## Extensible.\n",
    "\n",
    "Python tiene una gran cantidad de modulos y librerias que lo hacen extensible y se pueden ejecutar multiples funcionalidades.\n",
    "\n",
    "# Pagina principal para instalación de python.\n",
    "\n",
    "Fuente: https://www.python.org/downloads/"
   ]
  },
  {
   "cell_type": "markdown",
   "id": "4f181e21",
   "metadata": {},
   "source": [
    "# TEMA 2: Primeros conceptos en python.\n",
    "\n",
    "## Identificadores\n",
    "\n",
    "Los Identificadores son nombres que se asignan a elementos y deben cumplir con unas caracteristicas especiales.\n",
    "\n",
    "1. Pueden combinarce con numeros (09) y letras (A-Z) MAYUSCULAS/minusculas y guion bajo (_).\n",
    "2. No pueden comenzar por un digito.\n",
    "3. No pueden usar simbolos especiales (@, !, #, etc).\n",
    "4. Pueden tener cualquier longitud.\n",
    "\n",
    "Python distunguemayusculas de minusculas esto quiere decir que identificador e IDENTIFICADOR son \n",
    "2 identificadores diferentes."
   ]
  },
  {
   "cell_type": "code",
   "execution_count": 1,
   "id": "bf6d7550",
   "metadata": {},
   "outputs": [
    {
     "ename": "SyntaxError",
     "evalue": "invalid syntax (3721636521.py, line 8)",
     "output_type": "error",
     "traceback": [
      "\u001b[0;36m  File \u001b[0;32m\"/tmp/ipykernel_28/3721636521.py\"\u001b[0;36m, line \u001b[0;32m8\u001b[0m\n\u001b[0;31m    @variable = 3\u001b[0m\n\u001b[0m              ^\u001b[0m\n\u001b[0;31mSyntaxError\u001b[0m\u001b[0;31m:\u001b[0m invalid syntax\n"
     ]
    }
   ],
   "source": [
    "# Identificadores correctos.\n",
    "variable = 1\n",
    "otra_variable = 'Otra'\n",
    "_mas_variables = [1, 2, 3]\n",
    "Variable_4 = True\n",
    "\n",
    "# Identificadores Incorrectos.\n",
    "@variable = 3\n",
    "2_variable = 'Esta mal'"
   ]
  },
  {
   "cell_type": "markdown",
   "id": "eb65e524",
   "metadata": {},
   "source": [
    "## Palabras Reservadas,\n",
    "\n",
    "Python cuenta con varias palabras que son reservada para uso exclusivo de python, por lo tanto no se pueden utilizar.\n",
    "\n",
    "Algunas Variables.\n",
    "and, assert, break, class, continue, def, del, elif, else, except, exec, finally, for, from, global, if, import, \n",
    "in, is, lambda, not, or, pass, print, raise, return, try, while, with, yield."
   ]
  },
  {
   "cell_type": "code",
   "execution_count": null,
   "id": "52f5387f",
   "metadata": {},
   "outputs": [],
   "source": [
    "# Comentarios.\n",
    "\n",
    "# Los comentarios son partes del codigo que el interprete de python no ejecuta, se pueden escribir de varias formas.\n",
    "\n",
    "# Comentarios de linea para aquellos que solo ucupan 1 linea y se definen con el simbolo # al inicio.\n",
    "\n",
    "\"\"\"\n",
    "Comentarios en bloque.\n",
    "\n",
    "para aquellos que ocupen mas de una linea, y se definen por las 3 comillas seguidas\n",
    "\"\"\""
   ]
  },
  {
   "cell_type": "markdown",
   "id": "2f83f4e1",
   "metadata": {},
   "source": [
    "## Sangria.\n",
    "\n",
    "Python no usa llaves al igual que otros lenguajes de programación para diferenciar los bloques de codigo, Python usa la sangria o identacion del codigo en bloques haciendo una separacion de 4 espacios hacia la derecha siguiendo las recomendaciones de la guia de estilos PEP 8."
   ]
  },
  {
   "cell_type": "code",
   "execution_count": null,
   "id": "be85fdf7",
   "metadata": {},
   "outputs": [],
   "source": [
    "# Ejemplo de Sangria.\n",
    "\n",
    "variable = 1\n",
    "\n",
    "if (variable == 1):\n",
    "    print(\"Aquí pongo el código a ejecutar.\")\n",
    "    print(\"Tiene una sangría de 4 espacios.\")"
   ]
  },
  {
   "cell_type": "markdown",
   "id": "88fa827c",
   "metadata": {},
   "source": [
    "## Almacen de Valores.\n",
    "\n",
    "Son elementos que nos permiten almacenar valores en nuestros programas.\n",
    "\n",
    "### Variables.\n",
    "Una variable es un identificador que se le puede asignar un valor para ser retornado en pasos mas adelante.\n",
    "En python se crea una variable por medio del identificador de asignacion que es el simbolo = "
   ]
  },
  {
   "cell_type": "code",
   "execution_count": 2,
   "id": "502096f9",
   "metadata": {},
   "outputs": [
    {
     "data": {
      "text/plain": [
       "str"
      ]
     },
     "execution_count": 2,
     "metadata": {},
     "output_type": "execute_result"
    }
   ],
   "source": [
    "# Ejemplo de variable:\n",
    "\n",
    "n = 23\n",
    "saludo = 'Hola! Qué tal?'\n",
    "type(n) # Devuelve int\n",
    "type(saludo) # Devuelve str"
   ]
  },
  {
   "cell_type": "markdown",
   "id": "a4d937c5",
   "metadata": {},
   "source": [
    "### Constantes.\n",
    "\n",
    "Una constante es otra variable con la salvedad que para este tipo de variables, el valor no puede ser modificado.\n",
    "\n",
    "existen 2 formas de crear constantes \n",
    "\n",
    "1. Creando variables en mayuscula\n",
    "2. Creando un Script de python accesible d dentro del proyecto donde se definen las variables y luego se importan."
   ]
  },
  {
   "cell_type": "code",
   "execution_count": 3,
   "id": "4bcc6714",
   "metadata": {},
   "outputs": [
    {
     "name": "stdout",
     "output_type": "stream",
     "text": [
      "El precio final es: 30.25\n"
     ]
    }
   ],
   "source": [
    "# Ejemplo 1 de CONSTANTES\n",
    "\n",
    "IVA = 0.21\n",
    "precio = 25\n",
    "precio_final = precio + (precio * IVA)\n",
    "print(\"El precio final es:\", precio_final)"
   ]
  },
  {
   "cell_type": "code",
   "execution_count": 4,
   "id": "74c88b19",
   "metadata": {},
   "outputs": [
    {
     "name": "stdout",
     "output_type": "stream",
     "text": [
      "El precio final es: 28.75\n"
     ]
    }
   ],
   "source": [
    "# Ejemplo 2 de constantes Importamos el fichero de constantes.\n",
    "\n",
    "import Constantes\n",
    "\n",
    "precio = 25\n",
    "precio_final = precio + (precio * Constantes.IVA)\n",
    "print(\"El precio final es:\", precio_final)"
   ]
  },
  {
   "cell_type": "markdown",
   "id": "5fd88153",
   "metadata": {},
   "source": [
    "## Tipos de Operadores.\n",
    "\n",
    "En python se pueden definir varios tipos de operadores acorde con la operacion y tipo de datos que se desea trabajar.\n",
    "\n",
    "### Datos Numericos.\n",
    "\n",
    "1. Enteros (int): 26, 0b1101 (base binaria), 0x3f4a (base hexadecimal).\n",
    "2. Flotante (float): 3.14, 5., -67.763\n",
    "3. Complejos (complex): 0.117j\n",
    "\n",
    "Con estos tipos de datos se pueden realizar las siguientes operaciones."
   ]
  },
  {
   "cell_type": "code",
   "execution_count": 5,
   "id": "b5d5e14c",
   "metadata": {},
   "outputs": [
    {
     "name": "stdout",
     "output_type": "stream",
     "text": [
      "Suma: 9.129999999999999\n"
     ]
    }
   ],
   "source": [
    "# Definiendo valores para operadores aritmeticos. Suma (+)\n",
    "a = 3.13\n",
    "b = 6 \n",
    "suma = a + b\n",
    "print('Suma: ' + str(suma))"
   ]
  },
  {
   "cell_type": "code",
   "execution_count": 6,
   "id": "e160f12a",
   "metadata": {},
   "outputs": [
    {
     "name": "stdout",
     "output_type": "stream",
     "text": [
      "Resta: -2.87\n"
     ]
    }
   ],
   "source": [
    "# Definiendo valores para operadores aritmeticos. # Resta (-)\n",
    "a = 3.13\n",
    "b = 6 \n",
    "resta = a - b\n",
    "print('Resta: ' + str(resta))"
   ]
  },
  {
   "cell_type": "code",
   "execution_count": 7,
   "id": "bb6671d2",
   "metadata": {},
   "outputs": [
    {
     "name": "stdout",
     "output_type": "stream",
     "text": [
      "Multiplicación: 18.78\n"
     ]
    }
   ],
   "source": [
    "# Definiendo valores para operadores aritmeticos. # Multiplicación (*)\n",
    "a = 3.13\n",
    "b = 6 \n",
    "multiplica = a * b\n",
    "print('Multiplicación: ' + str(multiplica))"
   ]
  },
  {
   "cell_type": "code",
   "execution_count": 8,
   "id": "ddf6a550",
   "metadata": {},
   "outputs": [
    {
     "name": "stdout",
     "output_type": "stream",
     "text": [
      "División: 0.5216666666666666\n"
     ]
    }
   ],
   "source": [
    "# Definiendo valores para operadores aritmeticos. # Divición (/)\n",
    "a = 3.13\n",
    "b = 6 \n",
    "division = a / b\n",
    "print('División: ' + str(division))"
   ]
  },
  {
   "cell_type": "code",
   "execution_count": 9,
   "id": "d1ae4435",
   "metadata": {},
   "outputs": [
    {
     "name": "stdout",
     "output_type": "stream",
     "text": [
      "División Entera: 0.0\n"
     ]
    }
   ],
   "source": [
    "# Definiendo valores para operadores aritmeticos. # División Entera (//)\n",
    "a = 3.13\n",
    "b = 6 \n",
    "division_entera = a // b\n",
    "print('División Entera: ' + str(division_entera))"
   ]
  },
  {
   "cell_type": "code",
   "execution_count": 10,
   "id": "5d97d8c9",
   "metadata": {},
   "outputs": [
    {
     "name": "stdout",
     "output_type": "stream",
     "text": [
      "Modulo: 3.13\n"
     ]
    }
   ],
   "source": [
    "# Definiendo valores para operadores aritmeticos. # Modulo (%)\n",
    "a = 3.13\n",
    "b = 6 \n",
    "modulo = a % b\n",
    "print('Modulo: ' + str(modulo))"
   ]
  },
  {
   "cell_type": "code",
   "execution_count": 11,
   "id": "1f56d0af",
   "metadata": {},
   "outputs": [
    {
     "name": "stdout",
     "output_type": "stream",
     "text": [
      "Exponente: 940.2991105042088\n"
     ]
    }
   ],
   "source": [
    "# Definiendo valores para operadores aritmeticos. # Exponente (**)\n",
    "a = 3.13\n",
    "b = 6 \n",
    "exponente = a ** b\n",
    "print('Exponente: ' + str(exponente))"
   ]
  },
  {
   "cell_type": "markdown",
   "id": "f30a08b9",
   "metadata": {},
   "source": [
    "### Definiendo valores para operadores asignación."
   ]
  },
  {
   "cell_type": "code",
   "execution_count": 12,
   "id": "f89e41dd",
   "metadata": {},
   "outputs": [
    {
     "name": "stdout",
     "output_type": "stream",
     "text": [
      "Asignacion simple (=): 10\n"
     ]
    }
   ],
   "source": [
    "# Asignacion simple (=)\n",
    "\n",
    "resultado = 10\n",
    "print('Asignacion simple (=): ' + str(resultado))"
   ]
  },
  {
   "cell_type": "code",
   "execution_count": 13,
   "id": "9f3b9df4",
   "metadata": {},
   "outputs": [
    {
     "name": "stdout",
     "output_type": "stream",
     "text": [
      "Suma y Asignación (+=): 20\n"
     ]
    }
   ],
   "source": [
    "# Suma y Asignación (+=).\n",
    "resultado = 10\n",
    "resultado += 10\n",
    "print('Suma y Asignación (+=): ' + str(resultado))"
   ]
  },
  {
   "cell_type": "code",
   "execution_count": 14,
   "id": "acef60d5",
   "metadata": {},
   "outputs": [
    {
     "name": "stdout",
     "output_type": "stream",
     "text": [
      "Resta y Asignación (+=): 0\n"
     ]
    }
   ],
   "source": [
    "# Resta y Asignación (-=).\n",
    "resultado = 10\n",
    "resultado -= 10\n",
    "print('Resta y Asignación (+=): ' + str(resultado))"
   ]
  },
  {
   "cell_type": "code",
   "execution_count": 15,
   "id": "30f1fa5a",
   "metadata": {},
   "outputs": [
    {
     "name": "stdout",
     "output_type": "stream",
     "text": [
      "Multiplicacion y Asignación (*=): 100\n"
     ]
    }
   ],
   "source": [
    "# Multiplicacion y Asignación (*=)\n",
    "resultado = 10\n",
    "resultado *= 10\n",
    "print('Multiplicacion y Asignación (*=): ' + str(resultado))"
   ]
  },
  {
   "cell_type": "code",
   "execution_count": 16,
   "id": "ef3063d0",
   "metadata": {},
   "outputs": [
    {
     "name": "stdout",
     "output_type": "stream",
     "text": [
      "Division y Asignación (/=): 1.0\n"
     ]
    }
   ],
   "source": [
    "# Division y asignación\n",
    "resultado = 10\n",
    "resultado /= 10\n",
    "print('Division y Asignación (/=): ' + str(resultado))"
   ]
  },
  {
   "cell_type": "code",
   "execution_count": 17,
   "id": "d669f9cb",
   "metadata": {},
   "outputs": [
    {
     "name": "stdout",
     "output_type": "stream",
     "text": [
      "Division Entera y Asignación (//=): 1\n"
     ]
    }
   ],
   "source": [
    "# Division Entera y asignación\n",
    "resultado = 10\n",
    "resultado //= 10\n",
    "print('Division Entera y Asignación (//=): ' + str(resultado))"
   ]
  },
  {
   "cell_type": "code",
   "execution_count": 18,
   "id": "b855fe8e",
   "metadata": {},
   "outputs": [
    {
     "name": "stdout",
     "output_type": "stream",
     "text": [
      "Modulo y asignación (%=): 4\n"
     ]
    }
   ],
   "source": [
    "# Modulo y asignación\n",
    "resultado = 14\n",
    "resultado %= 10\n",
    "print('Modulo y asignación (%=): ' + str(resultado))"
   ]
  },
  {
   "cell_type": "code",
   "execution_count": 19,
   "id": "3c4fc58f",
   "metadata": {},
   "outputs": [
    {
     "name": "stdout",
     "output_type": "stream",
     "text": [
      "Exponente y asignación (%=): 9\n"
     ]
    }
   ],
   "source": [
    "# Exponente y asignación\n",
    "resultado = 3\n",
    "resultado **= 2\n",
    "print('Exponente y asignación (%=): ' + str(resultado))"
   ]
  },
  {
   "cell_type": "markdown",
   "id": "ba1da96a",
   "metadata": {},
   "source": [
    "### Definiendo valores para operadores de Bits"
   ]
  },
  {
   "cell_type": "code",
   "execution_count": 20,
   "id": "7f5f4bae",
   "metadata": {},
   "outputs": [
    {
     "data": {
      "text/plain": [
       "4"
      ]
     },
     "execution_count": 20,
     "metadata": {},
     "output_type": "execute_result"
    }
   ],
   "source": [
    "# AND (&): operador lógico and a nivel de bits.\n",
    "a = 4\n",
    "b = 5\n",
    "\n",
    "a & b"
   ]
  },
  {
   "cell_type": "code",
   "execution_count": 21,
   "id": "9acaf476",
   "metadata": {},
   "outputs": [
    {
     "data": {
      "text/plain": [
       "5"
      ]
     },
     "execution_count": 21,
     "metadata": {},
     "output_type": "execute_result"
    }
   ],
   "source": [
    "# OR (|): operador lógico or a nivel de bits.\n",
    "a = 4\n",
    "b = 5\n",
    "a | 5"
   ]
  },
  {
   "cell_type": "code",
   "execution_count": 22,
   "id": "cc9ab10a",
   "metadata": {},
   "outputs": [
    {
     "data": {
      "text/plain": [
       "1"
      ]
     },
     "execution_count": 22,
     "metadata": {},
     "output_type": "execute_result"
    }
   ],
   "source": [
    "# XOR (^): operador lógico xor a nivel de bits.\n",
    "a = 4\n",
    "b = 5\n",
    "\n",
    "a ^ b"
   ]
  },
  {
   "cell_type": "code",
   "execution_count": 23,
   "id": "31e160a1",
   "metadata": {},
   "outputs": [
    {
     "data": {
      "text/plain": [
       "0"
      ]
     },
     "execution_count": 23,
     "metadata": {},
     "output_type": "execute_result"
    }
   ],
   "source": [
    "# (>>): operador que mueve todos los bits a la derecha\n",
    "a = 4\n",
    "b = 5\n",
    "\n",
    "a >> b"
   ]
  },
  {
   "cell_type": "markdown",
   "id": "47728117",
   "metadata": {},
   "source": [
    "### Definiendo valores para operadores de datos Booleanos"
   ]
  },
  {
   "cell_type": "code",
   "execution_count": 24,
   "id": "d5dcfa4b",
   "metadata": {},
   "outputs": [
    {
     "data": {
      "text/plain": [
       "False"
      ]
     },
     "execution_count": 24,
     "metadata": {},
     "output_type": "execute_result"
    }
   ],
   "source": [
    "# Datos Booleanos AND (and): operador lógico and.\n",
    "True and False"
   ]
  },
  {
   "cell_type": "code",
   "execution_count": 25,
   "id": "10f9e3a9",
   "metadata": {},
   "outputs": [
    {
     "data": {
      "text/plain": [
       "True"
      ]
     },
     "execution_count": 25,
     "metadata": {},
     "output_type": "execute_result"
    }
   ],
   "source": [
    "# Datos Booleanos OR (or): operador lógico or.\n",
    "True or False # Devolverá True "
   ]
  },
  {
   "cell_type": "code",
   "execution_count": 26,
   "id": "6ebdc1f3",
   "metadata": {},
   "outputs": [
    {
     "data": {
      "text/plain": [
       "False"
      ]
     },
     "execution_count": 26,
     "metadata": {},
     "output_type": "execute_result"
    }
   ],
   "source": [
    "# Datos Booleanos NOT (not): operador de negación lógica.\n",
    "not True # Devolverá False"
   ]
  },
  {
   "cell_type": "code",
   "execution_count": 27,
   "id": "1dafc2bf",
   "metadata": {},
   "outputs": [
    {
     "data": {
      "text/plain": [
       "False"
      ]
     },
     "execution_count": 27,
     "metadata": {},
     "output_type": "execute_result"
    }
   ],
   "source": [
    "# Datos Booleanos Igual (==):\n",
    "5 == 7 # Devolverá False"
   ]
  },
  {
   "cell_type": "code",
   "execution_count": 28,
   "id": "61891ad6",
   "metadata": {},
   "outputs": [
    {
     "data": {
      "text/plain": [
       "False"
      ]
     },
     "execution_count": 28,
     "metadata": {},
     "output_type": "execute_result"
    }
   ],
   "source": [
    "# Datos Booleanos Distinto (!=):\n",
    "7 != 7 # Devolverá False"
   ]
  },
  {
   "cell_type": "markdown",
   "id": "c6e36aac",
   "metadata": {},
   "source": [
    "### Definiendo valores para operadores de cadenas de caracteres\n",
    "\n",
    "- Son secuencias de caracteres encapsuladas en comillas simples ('Texto') o comillas dobles (\"Texto\")"
   ]
  },
  {
   "cell_type": "code",
   "execution_count": 29,
   "id": "79fd9cf9",
   "metadata": {},
   "outputs": [],
   "source": [
    "mensaje = \"Esto es un mensaje de prueba para el curso de Python.\""
   ]
  },
  {
   "cell_type": "code",
   "execution_count": 30,
   "id": "0176144a",
   "metadata": {},
   "outputs": [
    {
     "data": {
      "text/plain": [
       "'e'"
      ]
     },
     "execution_count": 30,
     "metadata": {},
     "output_type": "execute_result"
    }
   ],
   "source": [
    "# Retornando pa posición 34\n",
    "mensaje [34]"
   ]
  },
  {
   "cell_type": "code",
   "execution_count": 31,
   "id": "96c3a215",
   "metadata": {},
   "outputs": [
    {
     "data": {
      "text/plain": [
       "' es un mens'"
      ]
     },
     "execution_count": 31,
     "metadata": {},
     "output_type": "execute_result"
    }
   ],
   "source": [
    "# Retornando un rango de caracteres CADENA[POSICION_INICIAL:POSICION_FINAL]\n",
    "mensaje[4:15]"
   ]
  },
  {
   "cell_type": "code",
   "execution_count": 32,
   "id": "ba635cc6",
   "metadata": {},
   "outputs": [
    {
     "data": {
      "text/plain": [
       "'Esto es un mensaje d'"
      ]
     },
     "execution_count": 32,
     "metadata": {},
     "output_type": "execute_result"
    }
   ],
   "source": [
    "# Retornando desde la posicion Inicial hasta la posicion 20\n",
    "mensaje [:20]"
   ]
  },
  {
   "cell_type": "code",
   "execution_count": 33,
   "id": "aca82f46",
   "metadata": {},
   "outputs": [
    {
     "data": {
      "text/plain": [
       "'so de Python.'"
      ]
     },
     "execution_count": 33,
     "metadata": {},
     "output_type": "execute_result"
    }
   ],
   "source": [
    "# Retornando desde la posicion 40 hasta el final de la cadena de caracteres.\n",
    "mensaje [40:]"
   ]
  },
  {
   "cell_type": "code",
   "execution_count": 34,
   "id": "d300ddda",
   "metadata": {},
   "outputs": [
    {
     "data": {
      "text/plain": [
       "'de Python.'"
      ]
     },
     "execution_count": 34,
     "metadata": {},
     "output_type": "execute_result"
    }
   ],
   "source": [
    "# Retornando desde la posicion -10 (es decir 10 desde la derecha).\n",
    "mensaje [-10:]"
   ]
  },
  {
   "cell_type": "code",
   "execution_count": 35,
   "id": "5babc786",
   "metadata": {},
   "outputs": [
    {
     "data": {
      "text/plain": [
       "'Esto es un mensaje de prueba para el curso '"
      ]
     },
     "execution_count": 35,
     "metadata": {},
     "output_type": "execute_result"
    }
   ],
   "source": [
    "# Retornando desde la posicion inicial hasta la posicion -10 (es decir 10 desde la derecha).\n",
    "mensaje [:-10]"
   ]
  },
  {
   "cell_type": "code",
   "execution_count": 36,
   "id": "8cc94800",
   "metadata": {},
   "outputs": [
    {
     "data": {
      "text/plain": [
       "'Hola Mundo'"
      ]
     },
     "execution_count": 36,
     "metadata": {},
     "output_type": "execute_result"
    }
   ],
   "source": [
    "# Concatenar: Retorna una cadena de caracteres uniendo los caracteres de dos cadenas.\n",
    "\"Hola \" + \"Mundo\""
   ]
  },
  {
   "cell_type": "code",
   "execution_count": 37,
   "id": "f3768e2e",
   "metadata": {},
   "outputs": [
    {
     "data": {
      "text/plain": [
       "'Hola Mundo!!Hola Mundo!!Hola Mundo!!'"
      ]
     },
     "execution_count": 37,
     "metadata": {},
     "output_type": "execute_result"
    }
   ],
   "source": [
    "# Multiplicar: repite la cadena tantas veces como se indica.\n",
    "\"Hola Mundo!!\" * 3"
   ]
  },
  {
   "cell_type": "code",
   "execution_count": 38,
   "id": "5a496dbe",
   "metadata": {},
   "outputs": [
    {
     "data": {
      "text/plain": [
       "53"
      ]
     },
     "execution_count": 38,
     "metadata": {},
     "output_type": "execute_result"
    }
   ],
   "source": [
    "# LEN(): Permite obtener la longitud de la cadena.\n",
    "len(mensaje)"
   ]
  },
  {
   "cell_type": "code",
   "execution_count": 39,
   "id": "8320d9b5",
   "metadata": {},
   "outputs": [
    {
     "data": {
      "text/plain": [
       "46"
      ]
     },
     "execution_count": 39,
     "metadata": {},
     "output_type": "execute_result"
    }
   ],
   "source": [
    "# FIND(): Obtiene la primera posición de la sub cadena que se pasa por parametro\n",
    "mensaje.find('Python')"
   ]
  },
  {
   "cell_type": "code",
   "execution_count": 40,
   "id": "4774fcd1",
   "metadata": {},
   "outputs": [
    {
     "data": {
      "text/plain": [
       "'ESTO ES UN MENSAJE DE PRUEBA PARA EL CURSO DE PYTHON.'"
      ]
     },
     "execution_count": 40,
     "metadata": {},
     "output_type": "execute_result"
    }
   ],
   "source": [
    "# UPPER(): Convierte los caracteres en mayuscula.\n",
    "mensaje.upper()"
   ]
  },
  {
   "cell_type": "code",
   "execution_count": 41,
   "id": "ff3bde2b",
   "metadata": {},
   "outputs": [
    {
     "data": {
      "text/plain": [
       "'esto es un mensaje de prueba para el curso de python.'"
      ]
     },
     "execution_count": 41,
     "metadata": {},
     "output_type": "execute_result"
    }
   ],
   "source": [
    "# LOWER(): Convierte los caracteres en minuscula.\n",
    "mensaje.lower()"
   ]
  },
  {
   "cell_type": "code",
   "execution_count": 42,
   "id": "7afdc59c",
   "metadata": {},
   "outputs": [
    {
     "data": {
      "text/plain": [
       "'Esto es un mensaje de prueba para el seminario de Python.'"
      ]
     },
     "execution_count": 42,
     "metadata": {},
     "output_type": "execute_result"
    }
   ],
   "source": [
    "#REPLACE(): permite modificar el contenido de la cadena (\"Valor a remplazar\", \"Valor Nuevo\")\n",
    "mensaje.replace(\"curso\", \"seminario\")"
   ]
  },
  {
   "cell_type": "code",
   "execution_count": 43,
   "id": "000a6513",
   "metadata": {},
   "outputs": [
    {
     "data": {
      "text/plain": [
       "NoneType"
      ]
     },
     "execution_count": 43,
     "metadata": {},
     "output_type": "execute_result"
    }
   ],
   "source": [
    "# Tipo NONE: se usa para definir el valor de una variable como nada o ninguna cosa\n",
    "variable = None\n",
    "type(variable)"
   ]
  },
  {
   "cell_type": "markdown",
   "id": "72365cf8",
   "metadata": {},
   "source": [
    "### Transformación de tipos de datos."
   ]
  },
  {
   "cell_type": "code",
   "execution_count": 44,
   "id": "121efa4f",
   "metadata": {},
   "outputs": [
    {
     "data": {
      "text/plain": [
       "'10'"
      ]
     },
     "execution_count": 44,
     "metadata": {},
     "output_type": "execute_result"
    }
   ],
   "source": [
    "# Convertir a cadena de caracteres (str): Convierte el objeto que se pasa por parametro a cadena de caracteres\n",
    "valor = 10\n",
    "str(valor)"
   ]
  },
  {
   "cell_type": "code",
   "execution_count": 45,
   "id": "b7cc1dd8",
   "metadata": {},
   "outputs": [
    {
     "data": {
      "text/plain": [
       "21"
      ]
     },
     "execution_count": 45,
     "metadata": {},
     "output_type": "execute_result"
    }
   ],
   "source": [
    "# Convertir a valor entero (int): Convierte el objeto que se pasa por parametro a entero\n",
    "valor1 = \"21\"\n",
    "int(valor1)"
   ]
  },
  {
   "cell_type": "code",
   "execution_count": 46,
   "id": "26b5347d",
   "metadata": {},
   "outputs": [
    {
     "data": {
      "text/plain": [
       "30.0"
      ]
     },
     "execution_count": 46,
     "metadata": {},
     "output_type": "execute_result"
    }
   ],
   "source": [
    "# Convertir a valor flotante (float): Convierte el objeto que se pasa por parametro a flotante\n",
    "valor2 = 30\n",
    "float(valor2)"
   ]
  },
  {
   "cell_type": "code",
   "execution_count": 47,
   "id": "6ad76410",
   "metadata": {},
   "outputs": [
    {
     "data": {
      "text/plain": [
       "(10.78+0j)"
      ]
     },
     "execution_count": 47,
     "metadata": {},
     "output_type": "execute_result"
    }
   ],
   "source": [
    "# Convertir a valor complejo (complex): Convierte el objeto que se pasa por parametro a complex\n",
    "valor3 = 10.78\n",
    "complex(valor3)"
   ]
  },
  {
   "cell_type": "code",
   "execution_count": 48,
   "id": "332f3e43",
   "metadata": {},
   "outputs": [
    {
     "data": {
      "text/plain": [
       "True"
      ]
     },
     "execution_count": 48,
     "metadata": {},
     "output_type": "execute_result"
    }
   ],
   "source": [
    "# Convertir a valor booleano (bool): Convierte el objeto que se pasa por parametro a booleano TRUE or FALSE\n",
    "valor4 = 10.78\n",
    "bool(valor4)"
   ]
  },
  {
   "cell_type": "code",
   "execution_count": 49,
   "id": "94148137",
   "metadata": {},
   "outputs": [
    {
     "data": {
      "text/plain": [
       "False"
      ]
     },
     "execution_count": 49,
     "metadata": {},
     "output_type": "execute_result"
    }
   ],
   "source": [
    "valor5 = False\n",
    "bool(valor5)"
   ]
  },
  {
   "cell_type": "code",
   "execution_count": 50,
   "id": "c9e6eeb2",
   "metadata": {},
   "outputs": [
    {
     "data": {
      "text/plain": [
       "False"
      ]
     },
     "execution_count": 50,
     "metadata": {},
     "output_type": "execute_result"
    }
   ],
   "source": [
    "valor6 = 0\n",
    "bool(valor6)"
   ]
  },
  {
   "cell_type": "markdown",
   "id": "6cf008a7",
   "metadata": {},
   "source": [
    "# TEMA 3. Programación Basica."
   ]
  },
  {
   "cell_type": "markdown",
   "id": "b011d424",
   "metadata": {},
   "source": [
    "## Listas:\n",
    "\n",
    "- Son estructuras de datos con objetos de datos separados por coma (,)\n",
    "- Son MUTABLES: Se puede cambiar el valor la lista (Cambiar el orden de los elementos, eliminar elementos).\n",
    "- Pueden contener elementos de diferente tipos o estructuras.\n",
    "- Se declaran entre corchetes ([objeto1,objeto2,objetoN])"
   ]
  },
  {
   "cell_type": "code",
   "execution_count": 51,
   "id": "fe9236c1",
   "metadata": {},
   "outputs": [
    {
     "name": "stdout",
     "output_type": "stream",
     "text": [
      "[5, 'Hola Mundo', True]\n"
     ]
    }
   ],
   "source": [
    "lista = [5, 'Hola Mundo', True]\n",
    "print(lista)"
   ]
  },
  {
   "cell_type": "code",
   "execution_count": 52,
   "id": "fbda7802",
   "metadata": {},
   "outputs": [
    {
     "data": {
      "text/plain": [
       "'Hola Mundo'"
      ]
     },
     "execution_count": 52,
     "metadata": {},
     "output_type": "execute_result"
    }
   ],
   "source": [
    "# Para acceder a la posicion de una lista se le pasa el indice del elemento. El primer elemento de la lista es 0\n",
    "lista = [5, 'Hola Mundo', True]\n",
    "lista[1]"
   ]
  },
  {
   "cell_type": "code",
   "execution_count": 53,
   "id": "5b4acaee",
   "metadata": {},
   "outputs": [
    {
     "data": {
      "text/plain": [
       "['Lunes', 'Martes']"
      ]
     },
     "execution_count": 53,
     "metadata": {},
     "output_type": "execute_result"
    }
   ],
   "source": [
    "# (:) Rango de Indices: Permite acceder a un conjunto de elementos de una lista.\n",
    "l_dias_semana = ['Lunes','Martes','Miercoles','Jueves','Viernes','Sabado','Domingo']\n",
    "l_dias_semana[:2]"
   ]
  },
  {
   "cell_type": "code",
   "execution_count": 54,
   "id": "f58605c5",
   "metadata": {},
   "outputs": [
    {
     "data": {
      "text/plain": [
       "['Jueves', 'Viernes', 'Sabado', 'Domingo']"
      ]
     },
     "execution_count": 54,
     "metadata": {},
     "output_type": "execute_result"
    }
   ],
   "source": [
    "l_dias_semana = ['Lunes','Martes','Miercoles','Jueves','Viernes','Sabado','Domingo']\n",
    "l_dias_semana[3:]"
   ]
  },
  {
   "cell_type": "code",
   "execution_count": 55,
   "id": "e682046e",
   "metadata": {},
   "outputs": [
    {
     "data": {
      "text/plain": [
       "'Sabado'"
      ]
     },
     "execution_count": 55,
     "metadata": {},
     "output_type": "execute_result"
    }
   ],
   "source": [
    "# Cuando se usan valores Negativos (-) python devuelve los elementos a partir de la posicion de la derecha\n",
    "l_dias_semana = ['Lunes','Martes','Miercoles','Jueves','Viernes','Sabado','Domingo']\n",
    "l_dias_semana[-2]"
   ]
  },
  {
   "cell_type": "markdown",
   "id": "2e1a01b4",
   "metadata": {},
   "source": [
    "## Funciones aplicables a las listas."
   ]
  },
  {
   "cell_type": "code",
   "execution_count": 56,
   "id": "63fe6bc5",
   "metadata": {},
   "outputs": [
    {
     "data": {
      "text/plain": [
       "7"
      ]
     },
     "execution_count": 56,
     "metadata": {},
     "output_type": "execute_result"
    }
   ],
   "source": [
    "# LEN: Retorna la longitud de una lista\n",
    "l_dias_semana = ['Lunes','Martes','Miercoles','Jueves','Viernes','Sabado','Domingo']\n",
    "len(l_dias_semana)"
   ]
  },
  {
   "cell_type": "code",
   "execution_count": 57,
   "id": "603f82b1",
   "metadata": {},
   "outputs": [
    {
     "data": {
      "text/plain": [
       "3"
      ]
     },
     "execution_count": 57,
     "metadata": {},
     "output_type": "execute_result"
    }
   ],
   "source": [
    "# INDEX: Retorna la posicion que ocupa un elemento de la lista\n",
    "l_dias_semana = ['Lunes','Martes','Miercoles','Jueves','Viernes','Sabado','Domingo']\n",
    "l_dias_semana.index('Jueves')"
   ]
  },
  {
   "cell_type": "code",
   "execution_count": 58,
   "id": "4352d28c",
   "metadata": {},
   "outputs": [
    {
     "data": {
      "text/plain": [
       "['Lunes',\n",
       " 'Martes',\n",
       " 'Miercoles',\n",
       " 'Jueves',\n",
       " 'Viernes',\n",
       " 'Sabado',\n",
       " 'Domingo',\n",
       " 'Festivos']"
      ]
     },
     "execution_count": 58,
     "metadata": {},
     "output_type": "execute_result"
    }
   ],
   "source": [
    "# INSERT: Inserta un elemento de la lista en la posición que se le indica. INSERT (POSICIÓN, OBJETO)\n",
    "l_dias_semana = ['Lunes','Martes','Miercoles','Jueves','Viernes','Sabado','Domingo']\n",
    "l_dias_semana.insert(7, 'Festivos')\n",
    "l_dias_semana"
   ]
  },
  {
   "cell_type": "code",
   "execution_count": 59,
   "id": "389e9770",
   "metadata": {},
   "outputs": [
    {
     "data": {
      "text/plain": [
       "[1, 2, 3, 4, 5, 6, 7, 8, [9, 10]]"
      ]
     },
     "execution_count": 59,
     "metadata": {},
     "output_type": "execute_result"
    }
   ],
   "source": [
    "# APPEND: Inserta un elemento al final de la lista.\n",
    "l_numeros = [1,2,3,4,5,6,7,8]\n",
    "l_numeros.append([9,10])\n",
    "l_numeros"
   ]
  },
  {
   "cell_type": "code",
   "execution_count": 60,
   "id": "422b93b1",
   "metadata": {},
   "outputs": [
    {
     "data": {
      "text/plain": [
       "[1, 2, 3, 4, 5, 6, 7, 8, 9, 10]"
      ]
     },
     "execution_count": 60,
     "metadata": {},
     "output_type": "execute_result"
    }
   ],
   "source": [
    "# EXTEND: agrega un elemento o conjunto de elementos a la lista.\n",
    "l_numeros = [1,2,3,4,5,6,7,8]\n",
    "l_numeros.extend([9,10])\n",
    "l_numeros"
   ]
  },
  {
   "cell_type": "code",
   "execution_count": 61,
   "id": "37efa895",
   "metadata": {},
   "outputs": [
    {
     "data": {
      "text/plain": [
       "['Lunes', 'Martes', 'Miercoles', 'Jueves', 'Viernes', 'Sabado', 'Domingo']"
      ]
     },
     "execution_count": 61,
     "metadata": {},
     "output_type": "execute_result"
    }
   ],
   "source": [
    "# REMOVE: elimina el elemento que se pasa por parametro de la lista.\n",
    "l_dias_semana = ['Lunes', 'Martes', 'Miercoles', 'Jueves', 'Viernes', 'Sabado', 'Domingo', 'Festivos']\n",
    "l_dias_semana.remove('Festivos')\n",
    "l_dias_semana"
   ]
  },
  {
   "cell_type": "code",
   "execution_count": 62,
   "id": "c4389b29",
   "metadata": {},
   "outputs": [
    {
     "data": {
      "text/plain": [
       "2"
      ]
     },
     "execution_count": 62,
     "metadata": {},
     "output_type": "execute_result"
    }
   ],
   "source": [
    "# COUNT: Retorna el numero de veces que se encuentra un elemento en la lista\n",
    "l_dias_semana = ['Lunes', 'Martes', 'Miercoles', 'Jueves', 'Viernes', 'Sabado', 'Domingo', 'Viernes']\n",
    "l_dias_semana.count('Viernes')"
   ]
  },
  {
   "cell_type": "code",
   "execution_count": 63,
   "id": "bd0fb6d2",
   "metadata": {},
   "outputs": [
    {
     "data": {
      "text/plain": [
       "['Domingo', 'Sabado', 'Viernes', 'Jueves', 'Miercoles', 'Martes', 'Lunes']"
      ]
     },
     "execution_count": 63,
     "metadata": {},
     "output_type": "execute_result"
    }
   ],
   "source": [
    "# REVERSE: invierte la posición de todos los elementos de una lista\n",
    "l_dias_semana = ['Lunes', 'Martes', 'Miercoles', 'Jueves', 'Viernes', 'Sabado', 'Domingo']\n",
    "l_dias_semana.reverse()\n",
    "l_dias_semana"
   ]
  },
  {
   "cell_type": "code",
   "execution_count": 64,
   "id": "351e4d7a",
   "metadata": {},
   "outputs": [
    {
     "data": {
      "text/plain": [
       "[1, 2, 3, 4, 5, 6, 7, 8, 9]"
      ]
     },
     "execution_count": 64,
     "metadata": {},
     "output_type": "execute_result"
    }
   ],
   "source": [
    "# SORT: ordena los elementos de una lista\n",
    "lista = [1,5,9,7,6,3,2,8,4]\n",
    "lista.sort()\n",
    "lista"
   ]
  },
  {
   "cell_type": "code",
   "execution_count": 65,
   "id": "be48fc44",
   "metadata": {},
   "outputs": [
    {
     "data": {
      "text/plain": [
       "[9, 8, 7, 6, 5, 4, 3, 2, 1]"
      ]
     },
     "execution_count": 65,
     "metadata": {},
     "output_type": "execute_result"
    }
   ],
   "source": [
    "# SORT(reverse=TRUE): ordena los elementos de una lista en sentido inverso al inicial\n",
    "lista = [1,5,9,7,6,3,2,8,4]\n",
    "lista.sort(reverse=True)\n",
    "lista"
   ]
  },
  {
   "cell_type": "code",
   "execution_count": 66,
   "id": "446a42b5",
   "metadata": {},
   "outputs": [
    {
     "data": {
      "text/plain": [
       "5"
      ]
     },
     "execution_count": 66,
     "metadata": {},
     "output_type": "execute_result"
    }
   ],
   "source": [
    "#POP: Elimina y devuelve el elemento que se encuentra en la posicion que se pasa por parametro.\n",
    "lista = [1,5,9,7,6,3,2,8,4]\n",
    "lista.pop(1)"
   ]
  },
  {
   "cell_type": "markdown",
   "id": "df7856b2",
   "metadata": {},
   "source": [
    "## Tuplas:\n",
    "\n",
    "- Son un conjunto de elemnetos separado por coma (,).\n",
    "- Son INMUTABLES No se pueden modificar una vez creadas.\n",
    "- Para acceder a los elelmentos de la tupla se hace igual que las listas TUPLA [INDICE]"
   ]
  },
  {
   "cell_type": "code",
   "execution_count": 67,
   "id": "df84aa44",
   "metadata": {},
   "outputs": [
    {
     "data": {
      "text/plain": [
       "('Hola Mundo', 3.4, True, 'Hola')"
      ]
     },
     "execution_count": 67,
     "metadata": {},
     "output_type": "execute_result"
    }
   ],
   "source": [
    "tupla = 'Hola Mundo', 3.4, True, 'Hola'\n",
    "tupla"
   ]
  },
  {
   "cell_type": "code",
   "execution_count": 68,
   "id": "c55fdd36",
   "metadata": {},
   "outputs": [
    {
     "data": {
      "text/plain": [
       "3.4"
      ]
     },
     "execution_count": 68,
     "metadata": {},
     "output_type": "execute_result"
    }
   ],
   "source": [
    "# Accediendo a los elementos de la tupla\n",
    "tupla = 'Hola Mundo', 3.4, True, 'Hola'\n",
    "tupla[1]"
   ]
  },
  {
   "cell_type": "markdown",
   "id": "7d5b30fe",
   "metadata": {},
   "source": [
    "## Funciones aplicables a las Tuplas."
   ]
  },
  {
   "cell_type": "code",
   "execution_count": 69,
   "id": "0b818354",
   "metadata": {},
   "outputs": [
    {
     "data": {
      "text/plain": [
       "7"
      ]
     },
     "execution_count": 69,
     "metadata": {},
     "output_type": "execute_result"
    }
   ],
   "source": [
    "# LEN: Metodo que retorna la longitud de la tupla\n",
    "tupla_dias_semana = 'Lunes', 'Martes', 'Miercoles', 'Jueves', 'Viernes', 'Sabado', 'Domingo'\n",
    "len(tupla_dias_semana)"
   ]
  },
  {
   "cell_type": "code",
   "execution_count": 70,
   "id": "fb945db5",
   "metadata": {},
   "outputs": [
    {
     "data": {
      "text/plain": [
       "2"
      ]
     },
     "execution_count": 70,
     "metadata": {},
     "output_type": "execute_result"
    }
   ],
   "source": [
    "# COUNT: Numero de veces que se encuentra un elemento en la tupla.\n",
    "tupla_dias_semana = 'Lunes', 'Martes', 'Miercoles', 'Jueves', 'Viernes', 'Sabado', 'Domingo', 'Viernes'\n",
    "tupla_dias_semana.count('Viernes')"
   ]
  },
  {
   "cell_type": "code",
   "execution_count": 71,
   "id": "7197423f",
   "metadata": {},
   "outputs": [
    {
     "data": {
      "text/plain": [
       "5"
      ]
     },
     "execution_count": 71,
     "metadata": {},
     "output_type": "execute_result"
    }
   ],
   "source": [
    "# INDEX: Retorna la posicion que ocupa el lemento.\n",
    "tupla_dias_semana = 'Lunes', 'Martes', 'Miercoles', 'Jueves', 'Viernes', 'Sabado', 'Domingo'\n",
    "tupla_dias_semana.index('Sabado')"
   ]
  },
  {
   "cell_type": "markdown",
   "id": "15272589",
   "metadata": {},
   "source": [
    "## Diccionarios.\n",
    "\n",
    "- Son una estructura de datos definido como conjunto de pares clave:valor\n",
    "- Claves(keys) son unics y estan en lugar de indices \n",
    "- Se accede a travez de su clave.\n",
    "- Se crean por medio de llaves {}"
   ]
  },
  {
   "cell_type": "code",
   "execution_count": 72,
   "id": "c79a112e",
   "metadata": {},
   "outputs": [
    {
     "data": {
      "text/plain": [
       "{'01': 'Lunes',\n",
       " '02': 'Martes',\n",
       " '03': 'Miercoles',\n",
       " '04': 'Jueves',\n",
       " '05': 'Viernes',\n",
       " '06': 'Sabado',\n",
       " '07': 'Domingo'}"
      ]
     },
     "execution_count": 72,
     "metadata": {},
     "output_type": "execute_result"
    }
   ],
   "source": [
    "# Creando diccionario dias de la semana\n",
    "diccionario_dias_semana = {\n",
    "    '01':'Lunes',\n",
    "    '02':'Martes',\n",
    "    '03':'Miercoles',\n",
    "    '04':'Jueves',\n",
    "    '05':'Viernes',\n",
    "    '06':'Sabado',\n",
    "    '07':'Domingo'}\n",
    "\n",
    "diccionario_dias_semana"
   ]
  },
  {
   "cell_type": "code",
   "execution_count": 73,
   "id": "c2a21f7c",
   "metadata": {},
   "outputs": [
    {
     "data": {
      "text/plain": [
       "'Viernes'"
      ]
     },
     "execution_count": 73,
     "metadata": {},
     "output_type": "execute_result"
    }
   ],
   "source": [
    "# Para acceder a uno de los valores es necesario conocer la clave y se accede en corchetes.\n",
    "diccionario_dias_semana['05']"
   ]
  },
  {
   "cell_type": "code",
   "execution_count": 74,
   "id": "1f8e7ac4",
   "metadata": {},
   "outputs": [
    {
     "data": {
      "text/plain": [
       "{'01': 'Lunes',\n",
       " '02': 'Martes',\n",
       " '03': 'Miercoles',\n",
       " '04': 'Jueves',\n",
       " '05': 'Viernes',\n",
       " '06': 'Sabado',\n",
       " '07': 'Domingo',\n",
       " '08': 'Festivos'}"
      ]
     },
     "execution_count": 74,
     "metadata": {},
     "output_type": "execute_result"
    }
   ],
   "source": [
    "# Creando nuevo elemento en el diccionario.\n",
    "diccionario_dias_semana['08'] = 'Festivos'\n",
    "diccionario_dias_semana"
   ]
  },
  {
   "cell_type": "code",
   "execution_count": 75,
   "id": "4de61399",
   "metadata": {},
   "outputs": [
    {
     "data": {
      "text/plain": [
       "dict"
      ]
     },
     "execution_count": 75,
     "metadata": {},
     "output_type": "execute_result"
    }
   ],
   "source": [
    "# DICT(): Me permite crear un diccionario nuevo sin ningun elemento.\n",
    "\n",
    "diccionario_vacio = dict()\n",
    "type(diccionario_vacio)"
   ]
  },
  {
   "cell_type": "markdown",
   "id": "e03f640a",
   "metadata": {},
   "source": [
    "## Funciones aplicables a los Diccionarios."
   ]
  },
  {
   "cell_type": "code",
   "execution_count": 76,
   "id": "ed51bdff",
   "metadata": {},
   "outputs": [
    {
     "data": {
      "text/plain": [
       "['01', '02', '03', '04', '05', '06', '07']"
      ]
     },
     "execution_count": 76,
     "metadata": {},
     "output_type": "execute_result"
    }
   ],
   "source": [
    "# LIST: devuelve una lista de todas las claves incluidas en un diccionario\n",
    "diccionario_dias_semana = {\n",
    "    '01':'Lunes',\n",
    "    '02':'Martes',\n",
    "    '03':'Miercoles',\n",
    "    '04':'Jueves',\n",
    "    '05':'Viernes',\n",
    "    '06':'Sabado',\n",
    "    '07':'Domingo'}\n",
    "\n",
    "list(diccionario_dias_semana)"
   ]
  },
  {
   "cell_type": "code",
   "execution_count": 77,
   "id": "6038be32",
   "metadata": {},
   "outputs": [
    {
     "data": {
      "text/plain": [
       "['01', '02', '03', '04', '05', '06', '07']"
      ]
     },
     "execution_count": 77,
     "metadata": {},
     "output_type": "execute_result"
    }
   ],
   "source": [
    "# SORTED: Ordena la lista del diccionario.\n",
    "sorted(diccionario_dias_semana)"
   ]
  },
  {
   "cell_type": "code",
   "execution_count": 78,
   "id": "6d7a7fa4",
   "metadata": {},
   "outputs": [
    {
     "data": {
      "text/plain": [
       "False"
      ]
     },
     "execution_count": 78,
     "metadata": {},
     "output_type": "execute_result"
    }
   ],
   "source": [
    "# IN: Comprueba si una clave se encuentra en el diccionario.\n",
    "'08' in diccionario_dias_semana"
   ]
  },
  {
   "cell_type": "code",
   "execution_count": 79,
   "id": "e19527a9",
   "metadata": {},
   "outputs": [
    {
     "data": {
      "text/plain": [
       "{'01': 'Lunes',\n",
       " '02': 'Martes',\n",
       " '03': 'Miercoles',\n",
       " '04': 'Jueves',\n",
       " '05': 'Viernes',\n",
       " '06': 'Sabado',\n",
       " '07': 'Domingo'}"
      ]
     },
     "execution_count": 79,
     "metadata": {},
     "output_type": "execute_result"
    }
   ],
   "source": [
    "# DEL: Elimina un elemento del diccionario.\n",
    "diccionario_dias_semana = {\n",
    "    '01': 'Lunes',\n",
    "    '02': 'Martes',\n",
    "    '03': 'Miercoles',\n",
    "    '04': 'Jueves',\n",
    "    '05': 'Viernes',\n",
    "    '06': 'Sabado',\n",
    "    '07': 'Domingo',\n",
    "    '08': 'Festivos'}\n",
    "del diccionario_dias_semana['08']\n",
    "diccionario_dias_semana"
   ]
  },
  {
   "cell_type": "markdown",
   "id": "f72414a2",
   "metadata": {},
   "source": [
    "## Conjuntos.\n",
    "\n",
    "- Son colecciones NO ordenadas de elementos.\n",
    "- No contienen repetición de elementos.\n",
    "- Se crean los conjuntos por elementos separados por coma (,) y delimitados por llaves {}\n",
    "- No se puede acceder a los elementos a traves del indice dado que no son de tipo lista ordenada."
   ]
  },
  {
   "cell_type": "code",
   "execution_count": 80,
   "id": "ba431162",
   "metadata": {},
   "outputs": [
    {
     "data": {
      "text/plain": [
       "{'audi', 'ferrari', 'mercedes', 'renault', 'seat'}"
      ]
     },
     "execution_count": 80,
     "metadata": {},
     "output_type": "execute_result"
    }
   ],
   "source": [
    "# Creando un conjunto de marcas de carros.\n",
    "conjunto_carros = {'audi', 'mercedes', 'seat', 'ferrari', 'ferrari', 'renault'}\n",
    "conjunto_carros"
   ]
  },
  {
   "cell_type": "code",
   "execution_count": 81,
   "id": "c89eb1a2",
   "metadata": {},
   "outputs": [],
   "source": [
    "# SET: Funcion que permite crear un conjunto vacio\n",
    "conjunto_vacio = set()"
   ]
  },
  {
   "cell_type": "markdown",
   "id": "4607eb31",
   "metadata": {},
   "source": [
    "## Funciones aplicables a los Conjuntos."
   ]
  },
  {
   "cell_type": "code",
   "execution_count": 82,
   "id": "ea73364c",
   "metadata": {},
   "outputs": [
    {
     "data": {
      "text/plain": [
       "{1, 2, 3, 4, 5}"
      ]
     },
     "execution_count": 82,
     "metadata": {},
     "output_type": "execute_result"
    }
   ],
   "source": [
    "# UNION: Operación matematica que retorna la union de dos conjuntos.\n",
    "conjunto1 = {1,2,3}\n",
    "conjunto2 = {3,4,5}\n",
    "conjunto1.union(conjunto2)"
   ]
  },
  {
   "cell_type": "code",
   "execution_count": 83,
   "id": "5333077d",
   "metadata": {},
   "outputs": [
    {
     "data": {
      "text/plain": [
       "{3}"
      ]
     },
     "execution_count": 83,
     "metadata": {},
     "output_type": "execute_result"
    }
   ],
   "source": [
    "# INTERSECTION: operación matematica para obtener la interseccion de 2 conjuntos.\n",
    "conjunto1 = {1,2,3}\n",
    "conjunto2 = {3,4,5}\n",
    "conjunto1.intersection(conjunto2)"
   ]
  },
  {
   "cell_type": "code",
   "execution_count": 84,
   "id": "574b1a84",
   "metadata": {},
   "outputs": [
    {
     "data": {
      "text/plain": [
       "{1, 2}"
      ]
     },
     "execution_count": 84,
     "metadata": {},
     "output_type": "execute_result"
    }
   ],
   "source": [
    "# DIFERENCE: Se obtiene la diferencia de 2 conjuntos.\n",
    "conjunto1 = {1,2,3}\n",
    "conjunto2 = {3,4,5}\n",
    "conjunto1.difference(conjunto2)"
   ]
  },
  {
   "cell_type": "code",
   "execution_count": 85,
   "id": "f3cf9610",
   "metadata": {},
   "outputs": [
    {
     "data": {
      "text/plain": [
       "True"
      ]
     },
     "execution_count": 85,
     "metadata": {},
     "output_type": "execute_result"
    }
   ],
   "source": [
    "# IN: Comprueba si un elemento se encuentra dentro del conjunto.\n",
    "conjunto1 = {1,2,3,4,5,6,7}\n",
    "3 in conjunto1"
   ]
  },
  {
   "cell_type": "code",
   "execution_count": 86,
   "id": "6aa3035f",
   "metadata": {},
   "outputs": [
    {
     "data": {
      "text/plain": [
       "7"
      ]
     },
     "execution_count": 86,
     "metadata": {},
     "output_type": "execute_result"
    }
   ],
   "source": [
    "# LEN: retorna la longitud del conjunto.\n",
    "conjunto1 = {1,2,3,4,5,6,7}\n",
    "len(conjunto1)"
   ]
  },
  {
   "cell_type": "markdown",
   "id": "e1280fec",
   "metadata": {},
   "source": [
    "## Ejecuciones condicionales."
   ]
  },
  {
   "cell_type": "code",
   "execution_count": 87,
   "id": "541c19c4",
   "metadata": {},
   "outputs": [
    {
     "name": "stdout",
     "output_type": "stream",
     "text": [
      "Escribe un numero de 1 a 10\n",
      "8\n",
      "!Soy mayor de 5\n"
     ]
    }
   ],
   "source": [
    "## Expresión if: Ejecuta un bloque de instrucciones solo si la expresion logica es TRUE.\n",
    "\"\"\"\n",
    "if (EXPRESION_LOGICA):\n",
    " sentencia_1\n",
    " sentencia_2\n",
    "\"\"\"\n",
    "print(\"Escribe un numero de 1 a 10\")\n",
    "number = int(input())\n",
    "if(number > 5 ):\n",
    "    print(\"!Soy mayor de 5\")"
   ]
  },
  {
   "cell_type": "code",
   "execution_count": 88,
   "id": "213506a1",
   "metadata": {},
   "outputs": [
    {
     "name": "stdout",
     "output_type": "stream",
     "text": [
      "Escribe un número de 1 a 10\n",
      "4\n",
      "Soy menor o igual que 5\n"
     ]
    }
   ],
   "source": [
    "# Expresion ELSE: Se ejecuta cuando el bloque IF no cumple con la condicion TRUE.\n",
    "\"\"\"\n",
    "if (EXPRESION_LOGICA):\n",
    " sentencia_1\n",
    " sentencia_2\n",
    " ...\n",
    "else:\n",
    " sentencia_1\n",
    " sentencia_2\n",
    " ...\n",
    "\"\"\"\n",
    "print(\"Escribe un número de 1 a 10\")\n",
    "number = int(input())\n",
    "if (number > 5):\n",
    " print(\"¡Soy mayor que 5!\")\n",
    "else:\n",
    " print(\"Soy menor o igual que 5\")"
   ]
  },
  {
   "cell_type": "code",
   "execution_count": 89,
   "id": "1e8c2ece",
   "metadata": {},
   "outputs": [
    {
     "name": "stdout",
     "output_type": "stream",
     "text": [
      "Escribe un número de 1 a 10\n",
      "6\n",
      "¡Soy mayor que 5!\n"
     ]
    }
   ],
   "source": [
    "# Expresion ELIF: permite validar mas condiones dentro de un IF.\n",
    "\"\"\"\n",
    "if (EXPRESION_LOGICA):\n",
    " sentencia_1\n",
    " ...\n",
    "elif (EXPRESION_LOGICA_2):\n",
    " sentencia_1\n",
    " ...\n",
    "elif (EXPRESION_LOGICA_3):\n",
    " sentencia_1\n",
    " ...\n",
    "...\n",
    "else:\n",
    " sentencia_1\n",
    " sentencia_2\n",
    " ...\n",
    "\"\"\"\n",
    "print(\"Escribe un número de 1 a 10\")\n",
    "number = int(input())\n",
    "if (number > 5):\n",
    " print(\"¡Soy mayor que 5!\")\n",
    "elif (number == 5):\n",
    " print(\"Soy el número 5\")\n",
    "else:\n",
    " print(\"Soy menor o igual que 5\")"
   ]
  },
  {
   "cell_type": "markdown",
   "id": "bd9cf32b",
   "metadata": {},
   "source": [
    "## Ejecuciones Iterativas"
   ]
  },
  {
   "cell_type": "code",
   "execution_count": 149,
   "id": "26941de6",
   "metadata": {},
   "outputs": [
    {
     "name": "stdout",
     "output_type": "stream",
     "text": [
      "9\n",
      "8\n",
      "7\n",
      "6\n",
      "5\n",
      "4\n",
      "3\n",
      "2\n",
      "1\n",
      "0\n"
     ]
    }
   ],
   "source": [
    "# BUCLE WHILE: repite un bloque de codigo mientras se cumpla una condición definida y su retorno sea FALSE.\n",
    "\"\"\"\n",
    "while (EXPRESION_LOGICA):\n",
    " sentencia_1\n",
    " sentencia_2\n",
    "\"\"\"\n",
    "\n",
    "# Imprimir secuencia de numeros desde el numero 10 hasta el numero 0\n",
    "numero = 10\n",
    "fin = 0\n",
    "while(numero > fin):\n",
    "    numero -=1\n",
    "    print(numero)"
   ]
  },
  {
   "cell_type": "code",
   "execution_count": 150,
   "id": "a1eb69fb",
   "metadata": {},
   "outputs": [
    {
     "name": "stdout",
     "output_type": "stream",
     "text": [
      "5\n",
      "4\n",
      "3\n",
      "2\n",
      "1\n",
      "0\n",
      "Fin del recorrido\n"
     ]
    }
   ],
   "source": [
    "# BUCLE FOR: recorre un conjunto de elementos en cualquier sentido\n",
    "\"\"\"\n",
    "for VARIABLE in OBJETO:\n",
    " sentencia_1\n",
    " sentencia_2\n",
    "\"\"\"\n",
    "numeros = [5,4,3,2,1,0]\n",
    "for numero in numeros:\n",
    "    print(numero)\n",
    "else:\n",
    "    print(\"Fin del recorrido\")"
   ]
  },
  {
   "cell_type": "code",
   "execution_count": 151,
   "id": "3524808e",
   "metadata": {},
   "outputs": [
    {
     "name": "stdout",
     "output_type": "stream",
     "text": [
      "H\n",
      "o\n",
      "l\n",
      "a\n",
      " \n",
      "M\n",
      "u\n",
      "n\n",
      "d\n",
      "o\n"
     ]
    }
   ],
   "source": [
    "cadena = \"Hola Mundo\"\n",
    "for i in range(0,len(cadena),1):\n",
    "    print(cadena[i])"
   ]
  },
  {
   "cell_type": "code",
   "execution_count": 152,
   "id": "7f2c2954",
   "metadata": {},
   "outputs": [
    {
     "name": "stdout",
     "output_type": "stream",
     "text": [
      "0\n",
      "1\n",
      "2\n",
      "3\n",
      "4\n",
      "Rompe el bucle\n"
     ]
    }
   ],
   "source": [
    "#BREAK: es una sentencia que permite romper el ciclo.\n",
    "numeros = list(range(10))\n",
    "for n in numeros:\n",
    "    if (n == 5):\n",
    "        print(\"Rompe el bucle\")\n",
    "        break\n",
    "    print(n)"
   ]
  },
  {
   "cell_type": "code",
   "execution_count": 153,
   "id": "b8ae285e",
   "metadata": {},
   "outputs": [
    {
     "name": "stdout",
     "output_type": "stream",
     "text": [
      "0\n",
      "1\n",
      "2\n",
      "3\n",
      "4\n",
      "Saltando la vuelta 5\n",
      "6\n",
      "7\n",
      "8\n",
      "9\n"
     ]
    }
   ],
   "source": [
    "#CONTINUE: Es otra sentencia que permite saltar una iteración del bucle sin romper todo el ciclo.\n",
    "numeros = list(range(10))\n",
    "for n in numeros:\n",
    "    if (n == 5):\n",
    "        print(\"Saltando la vuelta 5\")\n",
    "        continue\n",
    "    print(n)"
   ]
  },
  {
   "cell_type": "code",
   "execution_count": 154,
   "id": "6cf10a14",
   "metadata": {},
   "outputs": [
    {
     "data": {
      "text/plain": [
       "'a'"
      ]
     },
     "execution_count": 154,
     "metadata": {},
     "output_type": "execute_result"
    }
   ],
   "source": [
    "#ITERADORES: es un objeto que oermite iterar sobre otro para obtener el siguiente elemento iter(objeto) \n",
    "#para consultar el objetonext()\n",
    "cadena = \"Hola\"\n",
    "iterador = iter(cadena)\n",
    "next(iterador)\n",
    "next(iterador)\n",
    "next(iterador)\n",
    "next(iterador)"
   ]
  },
  {
   "cell_type": "markdown",
   "id": "16db7b2d",
   "metadata": {},
   "source": [
    "## Definición de Funciones\n",
    "\n",
    "- Permiten encapsular un bloque de instrucciones que pueden ser reutilizados."
   ]
  },
  {
   "cell_type": "code",
   "execution_count": 155,
   "id": "430d6d6a",
   "metadata": {},
   "outputs": [
    {
     "data": {
      "text/plain": [
       "15.0"
      ]
     },
     "execution_count": 155,
     "metadata": {},
     "output_type": "execute_result"
    }
   ],
   "source": [
    "\"\"\"\n",
    "def NOMBRE_FUNCION(ARG1, ARG2,...):\n",
    "    sentencia_1\n",
    "    sentencia_2\n",
    "    ...\n",
    "    return OBJETO_DEVOLVER\n",
    "\"\"\"\n",
    "def area_triangulo(base, altura):\n",
    "    area = (base * altura) / 2\n",
    "    return area\n",
    "\n",
    "# Invocando la funcion pasando argumentos\n",
    "area_triangulo(6, 5)"
   ]
  },
  {
   "cell_type": "markdown",
   "id": "c668980a",
   "metadata": {},
   "source": [
    "### Parametros y Argumentos\n",
    "\n",
    "- Los parametros son los valores que se definen en una función\n",
    "- Los argumentos son los valores que se introducen en una función"
   ]
  },
  {
   "cell_type": "code",
   "execution_count": 97,
   "id": "fde8fd83",
   "metadata": {},
   "outputs": [
    {
     "data": {
      "text/plain": [
       "15.0"
      ]
     },
     "execution_count": 97,
     "metadata": {},
     "output_type": "execute_result"
    }
   ],
   "source": [
    "# Argumentos por posición: Se envian en el mismo orden en que se definen los parametros\n",
    "area_triangulo(6, 5)"
   ]
  },
  {
   "cell_type": "code",
   "execution_count": 98,
   "id": "f316742a",
   "metadata": {},
   "outputs": [
    {
     "data": {
      "text/plain": [
       "25.0"
      ]
     },
     "execution_count": 98,
     "metadata": {},
     "output_type": "execute_result"
    }
   ],
   "source": [
    "# Arumentos por nombre: Se envian utilizando los nombres de los parametros.\n",
    "area_triangulo(base= 10, altura=5)"
   ]
  },
  {
   "cell_type": "markdown",
   "id": "2e4d3ca5",
   "metadata": {},
   "source": [
    "## Parametros Indeterminados\n",
    "\n",
    "- Se usan en los casos que es necesario pasar parametros indeterminados en las funciones."
   ]
  },
  {
   "cell_type": "code",
   "execution_count": 99,
   "id": "7d7f7590",
   "metadata": {},
   "outputs": [
    {
     "name": "stdout",
     "output_type": "stream",
     "text": [
      "1\n",
      "7\n",
      "89\n",
      "46\n",
      "9394\n"
     ]
    }
   ],
   "source": [
    "\"\"\"\n",
    "Arguentos por posición: se definen los parametros como lista dinamica, se incluye un (*) antes del nombre del\n",
    "parametro\n",
    "\"\"\"\n",
    "def imprime_numeros(*args):\n",
    "    for numero in args:\n",
    "        print(numero)\n",
    "        \n",
    "#Invocando la función\n",
    "imprime_numeros(1,7,89,46,9394)"
   ]
  },
  {
   "cell_type": "code",
   "execution_count": 100,
   "id": "ebb59b1f",
   "metadata": {},
   "outputs": [
    {
     "name": "stdout",
     "output_type": "stream",
     "text": [
      "arg1 => Hola\n",
      "arg2 => [2, 3, 4]\n",
      "arg3 => 876.98\n"
     ]
    }
   ],
   "source": [
    "\"\"\"\n",
    "Argumentos por Nombre: se definen los parametros como un diccionario dinamico se incluye dos (**) antes del \n",
    "nombre del parametro \n",
    "\"\"\"\n",
    "def imprime_valores(**args):\n",
    "    for argumento in args:\n",
    "        print(argumento, '=>', args[argumento])\n",
    "\n",
    "# Invocando la función\n",
    "imprime_valores(arg1='Hola', arg2=[2,3,4], arg3=876.98)"
   ]
  },
  {
   "cell_type": "markdown",
   "id": "32d7c03c",
   "metadata": {},
   "source": [
    "## Documentar funciones.\n",
    "\n",
    "- Para documentar las funciones se utilizan los docstring, se debe incluir un comentario despues de la cabecera de la función."
   ]
  },
  {
   "cell_type": "code",
   "execution_count": 101,
   "id": "acbc2490",
   "metadata": {},
   "outputs": [],
   "source": [
    "# Documentando una función.\n",
    "def potencia(base, exponente):\n",
    "    \"\"\"\n",
    "    Función que calcula la potencia de dos números.\n",
    "     \n",
    "    Argumentos:\n",
    "    base ‐‐ base de la operación.\n",
    "    exponente ‐‐ exponente de la operación.\n",
    "    \"\"\"\n",
    "    return base ** exponente"
   ]
  },
  {
   "cell_type": "code",
   "execution_count": 102,
   "id": "e4c7719f",
   "metadata": {},
   "outputs": [
    {
     "name": "stdout",
     "output_type": "stream",
     "text": [
      "Help on function potencia in module __main__:\n",
      "\n",
      "potencia(base, exponente)\n",
      "    Función que calcula la potencia de dos números.\n",
      "     \n",
      "    Argumentos:\n",
      "    base ‐‐ base de la operación.\n",
      "    exponente ‐‐ exponente de la operación.\n",
      "\n"
     ]
    }
   ],
   "source": [
    "# Invocando la ayuda de la función documentada.\n",
    "help(potencia)"
   ]
  },
  {
   "cell_type": "markdown",
   "id": "f45377b6",
   "metadata": {},
   "source": [
    "## Funciones incluidas en python\n",
    "\n",
    "- Modulo math: Modulo matematico que incluye funciones matematicas. (math)\n",
    "- Modulo aritmetico: para realizar operaciones aritmeticas => fabs(x), gcd(x,y), floor(x), ceil(x), factorial(x)\n",
    "- Modulo trigonometria: Para realizar calculos trigonometricos => sin(x), cos(x), tan(x), asin(x), acos(x)\n",
    "- Modulo sys: proporciona variables y metodos relacionados con el interprete de python.\n",
    "    - argv(): retorna lista con todos los argumentos pasados por linea de comandos\n",
    "    - executable(): retorna la ruta absoluta del fichero\n",
    "    - platform(): retorna la plataforma sobre la que se esta ejecutando.\n",
    "    - getdefaultenconding(): Retorna el sistema de codificación por defecto del sistema.\n",
    "- Modulo os: proporciona acceso a variables y funciones que interacturan con el sistema operativo.\n",
    "    - os.getcwd(): Retorna la ruta del directorio actual.\n",
    "    - os.mkdir(path): Crea una carpeta\n",
    "    - os.rename(name1, name2): Renombra un fichero\n",
    "    - ...... y muchos mas.\n",
    "- Modulo random: proporciona metodos para obtener valores aleatorios.\n",
    "    - randint(x, y): Retorna un numero aleatorio entre x e y\n",
    "    - choise(secuencia): retorna dato aleatorio de los datos de una secuencia.   "
   ]
  },
  {
   "cell_type": "markdown",
   "id": "35eb7683",
   "metadata": {},
   "source": [
    "## Funciones Anonimas.\n",
    "\n",
    "- Son funciones que no se les asigna identificador def NOMBRE_FUNCION estas funciones no incluyen un bloque solo tienen una unica expresión.\n",
    "- Para implementarlas se usa la expresión LAMBDA"
   ]
  },
  {
   "cell_type": "code",
   "execution_count": 103,
   "id": "8978ae49",
   "metadata": {},
   "outputs": [
    {
     "data": {
      "text/plain": [
       "25"
      ]
     },
     "execution_count": 103,
     "metadata": {},
     "output_type": "execute_result"
    }
   ],
   "source": [
    "# Función normal que recibe un numero y retorna el valor al cuadrado.\n",
    "def cuadrado(x):\n",
    "    resultado = x ** 2\n",
    "    return resultado\n",
    "\n",
    "# Invocando la función\n",
    "cuadrado(5)"
   ]
  },
  {
   "cell_type": "code",
   "execution_count": 104,
   "id": "45ae2c16",
   "metadata": {},
   "outputs": [
    {
     "data": {
      "text/plain": [
       "64"
      ]
     },
     "execution_count": 104,
     "metadata": {},
     "output_type": "execute_result"
    }
   ],
   "source": [
    "# Convirtiendo función normal en función lambda {lambda parámetro_1, parámetro_2: expresión}\n",
    "cuadrado = lambda x: x ** 2\n",
    "\n",
    "# Invocando la función\n",
    "cuadrado(8)"
   ]
  },
  {
   "cell_type": "markdown",
   "id": "6fe7bbdd",
   "metadata": {},
   "source": [
    "## Aplicando filter() map() con funciones lambda\n",
    "\n",
    "- filter(): Permmite filtrar elementos de una secuencia so se cumple la función condicional filter(funcion,objeto).\n",
    "- map(): permite aplicar una función a todos los elementos de una secuencia. map(funcion, objeto)."
   ]
  },
  {
   "cell_type": "code",
   "execution_count": 105,
   "id": "48b19bfc",
   "metadata": {},
   "outputs": [],
   "source": [
    "# Filter:\n",
    "# Definiendo lista de numeros para analizar.\n",
    "lista = [1,2,3,4,5,6,7,8,9,10]"
   ]
  },
  {
   "cell_type": "code",
   "execution_count": 106,
   "id": "cdb0a0b3",
   "metadata": {},
   "outputs": [],
   "source": [
    "# Definición de expresion landa que analiza si un numero es par o no\n",
    "es_par = lambda numero: numero % 2 == 0"
   ]
  },
  {
   "cell_type": "code",
   "execution_count": 107,
   "id": "3cbc8603",
   "metadata": {},
   "outputs": [
    {
     "data": {
      "text/plain": [
       "[2, 4, 6, 8, 10]"
      ]
     },
     "execution_count": 107,
     "metadata": {},
     "output_type": "execute_result"
    }
   ],
   "source": [
    "# Aplicando filtro para obtener los numeros pares, se debe insertar en una lista.\n",
    "list(filter(es_par, lista))"
   ]
  },
  {
   "cell_type": "code",
   "execution_count": 108,
   "id": "dd833631",
   "metadata": {},
   "outputs": [],
   "source": [
    "# Map:\n",
    "# Definiendo lista de numeros para analizar.\n",
    "lista = [1,2,3,4,5,6,7,8,9,10]"
   ]
  },
  {
   "cell_type": "code",
   "execution_count": 109,
   "id": "7dfe7196",
   "metadata": {},
   "outputs": [],
   "source": [
    "# Definición de expresion landa que saca el cuadrado del numero\n",
    "cuadrado = lambda x: x ** 2"
   ]
  },
  {
   "cell_type": "code",
   "execution_count": 110,
   "id": "7eaf75a8",
   "metadata": {},
   "outputs": [
    {
     "data": {
      "text/plain": [
       "[1, 4, 9, 16, 25, 36, 49, 64, 81, 100]"
      ]
     },
     "execution_count": 110,
     "metadata": {},
     "output_type": "execute_result"
    }
   ],
   "source": [
    "# Aplicando filtro para obtener numeros pares.\n",
    "list(map(cuadrado, lista))"
   ]
  },
  {
   "cell_type": "markdown",
   "id": "18cd107e",
   "metadata": {},
   "source": [
    "## Modulos y paquetes\n",
    "\n",
    "- Los modulos son los ficheros .py que se crean para un proyecto tienen variables y funciones\n",
    "- Un paquete es una carpeta que contiene varios modulos, importante los paquetes contienen lo siguiente.\n",
    "    - Un fichero llamado __init__.py que incluye los import\n",
    "- Ejemplo de un paquete.\n",
    "\n",
    "        paquete/\n",
    "        ├── __init__.py\n",
    "        ├── modulo1.py\n",
    "        └── modulo2.py"
   ]
  },
  {
   "cell_type": "code",
   "execution_count": 111,
   "id": "519511bf",
   "metadata": {},
   "outputs": [
    {
     "data": {
      "text/plain": [
       "31.41592653589793"
      ]
     },
     "execution_count": 111,
     "metadata": {},
     "output_type": "execute_result"
    }
   ],
   "source": [
    "# Creacion de un modulo.\n",
    "\"\"\"\n",
    "1. Crear un fichero con extencion .py\n",
    "2. Agregar las funciones al fichero.\n",
    "3. Almacenarlo en una carpeta.\n",
    "4. importarlo con la funcion import fichero.yml\n",
    "\"\"\"\n",
    "import figuras as fig\n",
    "\n",
    "fig.circunferencia.perimetro(5)"
   ]
  },
  {
   "cell_type": "code",
   "execution_count": 112,
   "id": "9c10125b",
   "metadata": {},
   "outputs": [
    {
     "data": {
      "text/plain": [
       "94.24777960769379"
      ]
     },
     "execution_count": 112,
     "metadata": {},
     "output_type": "execute_result"
    }
   ],
   "source": [
    "# Simplificando las importaciones con la palabra reservada FROM\n",
    "from figuras import circunferencia as circ\n",
    "from figuras import poligono as pol\n",
    "\n",
    "circ.perimetro(15)"
   ]
  },
  {
   "cell_type": "code",
   "execution_count": 113,
   "id": "9f011241",
   "metadata": {},
   "outputs": [
    {
     "name": "stdout",
     "output_type": "stream",
     "text": [
      "Help on module figuras.circunferencia in figuras:\n",
      "\n",
      "NAME\n",
      "    figuras.circunferencia\n",
      "\n",
      "DESCRIPTION\n",
      "    Modulo circunferencia:\n",
      "    Incluye las funciones que nos permiten obtener el perímetro o\n",
      "    área de una circunferencia.\n",
      "\n",
      "FUNCTIONS\n",
      "    area(radio)\n",
      "    \n",
      "    perimetro(radio)\n",
      "\n",
      "FILE\n",
      "    /opt/notebooks/IntroduccionPython/figuras/circunferencia.py\n",
      "\n",
      "\n"
     ]
    }
   ],
   "source": [
    "#Documentando los modulos: Se puede usar las comillas \"\"\" docstring \"\"\" al iniciar el modulo.\n",
    "#Invocando la ayuda del modulo.\n",
    "from figuras import circunferencia\n",
    "help(circunferencia)"
   ]
  },
  {
   "cell_type": "code",
   "execution_count": 114,
   "id": "915e8aaa",
   "metadata": {},
   "outputs": [
    {
     "name": "stdout",
     "output_type": "stream",
     "text": [
      "Help on package figuras:\n",
      "\n",
      "NAME\n",
      "    figuras\n",
      "\n",
      "DESCRIPTION\n",
      "    paquetes:\n",
      "    Incluye los paquetes.\n",
      "    - circunferencia\n",
      "    - poligono\n",
      "\n",
      "PACKAGE CONTENTS\n",
      "    circunferencia\n",
      "    poligono\n",
      "\n",
      "FILE\n",
      "    /opt/notebooks/IntroduccionPython/figuras/__init__.py\n",
      "\n",
      "\n"
     ]
    }
   ],
   "source": [
    "#Documentando los paquetes: Se puede usar las comillas \"\"\" docstring \"\"\" al iniciar el archivo __init__.py .\n",
    "#Invocando la ayuda del modulo.\n",
    "import figuras\n",
    "help(figuras)"
   ]
  },
  {
   "cell_type": "markdown",
   "id": "8d99be89",
   "metadata": {},
   "source": [
    "## Programación Orientada a Objetos.\n",
    "\n",
    "- Ub objeto es una abstracción de los datos con las caracteristicas.\n",
    "    - Tiene un Estado: El objeto tiene un valor concreto en un momento determinado.\n",
    "    - Tiene un comportamiento: A partir de un conjunto de metodos se puede modificar el estado del objeto.\n",
    "    - Tiene una identidad: Tienen un identificador que eprmite identificar al objeto en forma unica."
   ]
  },
  {
   "cell_type": "code",
   "execution_count": 115,
   "id": "37cf0aa9",
   "metadata": {},
   "outputs": [],
   "source": [
    "# Definiendo una clase como un objeto que tiene caracteristicas de comportamiento e identidad\n",
    "class Libro:\n",
    "    titulo = 'Don Quijote de la Mancha'\n",
    "    autor = 'Miguel de Cervantes'\n",
    "    isbn = '0987-7489'\n",
    "    editorial = 'Mi Editorial'\n",
    "    paginas = 934\n",
    "    edicion = 34"
   ]
  },
  {
   "cell_type": "code",
   "execution_count": 116,
   "id": "85a15e8a",
   "metadata": {},
   "outputs": [],
   "source": [
    "# Creando un objeto dee la clase Libro.\n",
    "mi_libro = Libro()"
   ]
  },
  {
   "cell_type": "code",
   "execution_count": 117,
   "id": "0b47c3c3",
   "metadata": {},
   "outputs": [
    {
     "data": {
      "text/plain": [
       "'Don Quijote de la Mancha'"
      ]
     },
     "execution_count": 117,
     "metadata": {},
     "output_type": "execute_result"
    }
   ],
   "source": [
    "# Consultando una caracteristica del nuevo objeto mi_libro creado a partir de la clase Libro.\n",
    "mi_libro.titulo"
   ]
  },
  {
   "cell_type": "code",
   "execution_count": 118,
   "id": "f1e371b7",
   "metadata": {},
   "outputs": [],
   "source": [
    "# Metodos: Son las funciones que definen que operaciones se puede realizar sobre los objetos\n",
    "class Libro:\n",
    "    titulo = 'Don Quijote de la Mancha'\n",
    "    autor = 'Miguel de Cervantes'\n",
    "    isbn = '0987-7489'\n",
    "    editorial = 'Mi Editorial'\n",
    "    paginas = 934\n",
    "    edicion = 34\n",
    "    \n",
    "    def imprime(self):\n",
    "        print(self.titulo + \" - \" + self.autor)"
   ]
  },
  {
   "cell_type": "code",
   "execution_count": 119,
   "id": "31081d2a",
   "metadata": {},
   "outputs": [
    {
     "name": "stdout",
     "output_type": "stream",
     "text": [
      "Don Quijote de la Mancha - Miguel de Cervantes\n"
     ]
    }
   ],
   "source": [
    "# Obteniendo el metodo imprime.\n",
    "\n",
    "# Creando un objeto dee la clase Libro.\n",
    "mi_libro = Libro()\n",
    "\n",
    "mi_libro.imprime()"
   ]
  },
  {
   "cell_type": "markdown",
   "id": "eb0b1a04",
   "metadata": {},
   "source": [
    "## Expresiones Regulares.\n",
    "\n",
    "- Es una secuencia de caracteres que perminten definir patrones de texto.\n",
    "- Se usa importando el modulo re."
   ]
  },
  {
   "cell_type": "code",
   "execution_count": 120,
   "id": "43225cb8",
   "metadata": {},
   "outputs": [],
   "source": [
    "# Importando modulo re para usar los metods que permiten realizar expresiones regurales.\n",
    "import re"
   ]
  },
  {
   "cell_type": "code",
   "execution_count": 121,
   "id": "266c6b8f",
   "metadata": {},
   "outputs": [
    {
     "name": "stdout",
     "output_type": "stream",
     "text": [
      "Comienzo  37 Final  42\n"
     ]
    }
   ],
   "source": [
    "# SEARCH(): Metodo para buscar la primera aparicion del patrón en la cadena de texto\n",
    "# Retorna un objeto tipo match para obtener las posiciones \n",
    "mensaje = \"Esto es un mensaje de prueba para el curso de Python.\"\n",
    "match = re.search('curso', mensaje)\n",
    "print (\"Comienzo \", match.start(), \"Final \", match.end())"
   ]
  },
  {
   "cell_type": "code",
   "execution_count": 122,
   "id": "29b1335d",
   "metadata": {},
   "outputs": [
    {
     "name": "stdout",
     "output_type": "stream",
     "text": [
      "Comienzo  0 Final 4\n"
     ]
    }
   ],
   "source": [
    "# MATCH(): Busca un patron al principio de la cadena, en caso e no existir returna un objeto tipo NONE\n",
    "mensaje = \"Esto es un mensaje de prueba para el curso de Python.\"\n",
    "match = re.match('Esto', mensaje)\n",
    "print(\"Comienzo \",  match.start(), \"Final\", match.end())"
   ]
  },
  {
   "cell_type": "code",
   "execution_count": 123,
   "id": "3e36237b",
   "metadata": {},
   "outputs": [
    {
     "data": {
      "text/plain": [
       "['Esto',\n",
       " 'es',\n",
       " 'un',\n",
       " 'mensaje',\n",
       " 'de',\n",
       " 'prueba',\n",
       " 'para',\n",
       " 'el',\n",
       " 'curso',\n",
       " 'de',\n",
       " 'Python.']"
      ]
     },
     "execution_count": 123,
     "metadata": {},
     "output_type": "execute_result"
    }
   ],
   "source": [
    "# SPLIT(): Metodo que permite dividir una cadena de caracteres siguiendo un patron.\n",
    "mensaje = \"Esto es un mensaje de prueba para el curso de Python.\"\n",
    "re.split(' ', mensaje)"
   ]
  },
  {
   "cell_type": "code",
   "execution_count": 124,
   "id": "c10fc37c",
   "metadata": {},
   "outputs": [
    {
     "data": {
      "text/plain": [
       "'Esto es un mensaje de prueba para el curso de Java.'"
      ]
     },
     "execution_count": 124,
     "metadata": {},
     "output_type": "execute_result"
    }
   ],
   "source": [
    "# SUB(): permite sustituir patrones encontrados por otra subcadena pasada por aprametro.\n",
    "mensaje = \"Esto es un mensaje de prueba para el curso de Python.\"\n",
    "re.sub('Python', 'Java', mensaje)"
   ]
  },
  {
   "cell_type": "code",
   "execution_count": 125,
   "id": "06aee5e6",
   "metadata": {},
   "outputs": [
    {
     "data": {
      "text/plain": [
       "['de', 'de']"
      ]
     },
     "execution_count": 125,
     "metadata": {},
     "output_type": "execute_result"
    }
   ],
   "source": [
    "# FINDALL(): busca todas las apariciones de un patrón dentro de una cadena de caracteres. \n",
    "# Retorna una lista con todas las subcadenas\n",
    "mensaje = \"Esto es un mensaje de prueba para el curso de Python.\"\n",
    "re.findall('de', mensaje)"
   ]
  },
  {
   "cell_type": "code",
   "execution_count": 126,
   "id": "299a87c5",
   "metadata": {},
   "outputs": [],
   "source": [
    "# Texto con un grado de complejidad mas amplio, extraido de wikipedia\n",
    "texto = \"Un texto es una composición de signos codificados en un sistema de escritura que forma una unidad de\\n sentido. También es una composición de caracteres imprimibles (con grafema) generados por un algoritmo de \\n cifrado que, aunque no tiene sentido para cualquier persona, sí puede ser descifrado por su destinatario \\n original. En otras palabras, un texto es un entramado de signos con una intención comunicativa que adquiere \\n sentido en determinado contexto.\""
   ]
  },
  {
   "cell_type": "code",
   "execution_count": 127,
   "id": "b13c3f94",
   "metadata": {},
   "outputs": [
    {
     "data": {
      "text/plain": [
       "'\\nUtilizados para definir caracteres especiales dentro de una cadena de texto.\\n- Comienzan con una barra invertida (\\\\)\\n- \\n: salto de línea.\\n- \\t: tabulador.\\n- \\\\: barra diagonal inversa.\\n- \\\\d: un dígito.\\n- \\\\w: un carácter alfanumérico.\\n- \\\\s: un espacio en blanco.\\n- \\\\D: carácter que no sea un dígito.\\n- \\\\W: carácter que no sea alfanumérico.\\n'"
      ]
     },
     "execution_count": 127,
     "metadata": {},
     "output_type": "execute_result"
    }
   ],
   "source": [
    "# CARACTERES DE ESCAPE:\n",
    "\"\"\"\n",
    "Utilizados para definir caracteres especiales dentro de una cadena de texto.\n",
    "- Comienzan con una barra invertida (\\)\n",
    "- \\n: salto de línea.\n",
    "- \\t: tabulador.\n",
    "- \\\\: barra diagonal inversa.\n",
    "- \\d: un dígito.\n",
    "- \\w: un carácter alfanumérico.\n",
    "- \\s: un espacio en blanco.\n",
    "- \\D: carácter que no sea un dígito.\n",
    "- \\W: carácter que no sea alfanumérico.\n",
    "\"\"\"\n"
   ]
  },
  {
   "cell_type": "code",
   "execution_count": 128,
   "id": "1993d1d0",
   "metadata": {},
   "outputs": [
    {
     "name": "stdout",
     "output_type": "stream",
     "text": [
      "Un texto es una composición de signos codificados en un sistema de escritura que forma una unidad de**AQUI** sentido. También es una composición de caracteres imprimibles (con grafema) generados por un algoritmo de **AQUI** cifrado que, aunque no tiene sentido para cualquier persona, sí puede ser descifrado por su destinatario **AQUI** original. En otras palabras, un texto es un entramado de signos con una intención comunicativa que adquiere **AQUI** sentido en determinado contexto.\n"
     ]
    }
   ],
   "source": [
    "# Ejemplo 1: Sustituyendo los saltos de linea por el texto ** AQUI **\n",
    "\n",
    "# Importando modulo re para usar los metods que permiten realizar expresiones regurales.\n",
    "import re\n",
    "\n",
    "texto2 = re.sub('\\n', '**AQUI**', texto)\n",
    "print (texto2)"
   ]
  },
  {
   "cell_type": "code",
   "execution_count": 129,
   "id": "ff43bd4e",
   "metadata": {},
   "outputs": [
    {
     "name": "stdout",
     "output_type": "stream",
     "text": [
      "['sentido para', 'ser descifrado', 'sentido en']\n"
     ]
    }
   ],
   "source": [
    "# GRUPOS DE CARACTERES. Permite encontrar un patron y capturar el resultado para procesar mas adelante.\n",
    "\n",
    "# Ejemplo 2: capturar las palabras que inicien por se- y continuen con otra palabra\n",
    "\n",
    "pattern = 'se\\w+\\s\\w+'\n",
    "texto3 = re.findall(pattern,texto)\n",
    "print (texto3)"
   ]
  },
  {
   "cell_type": "code",
   "execution_count": 130,
   "id": "9b9356c4",
   "metadata": {},
   "outputs": [
    {
     "name": "stdout",
     "output_type": "stream",
     "text": [
      "['sentido', 'ser', 'sentido']\n"
     ]
    }
   ],
   "source": [
    "# Ejemplo 2: Agrupando la palabra que empiea por se- unicamente.\n",
    "pattern = '(se\\w+)\\s\\w+'\n",
    "texto4 = re.findall(pattern, texto)\n",
    "print (texto4)"
   ]
  },
  {
   "cell_type": "code",
   "execution_count": 131,
   "id": "bbbcdf75",
   "metadata": {},
   "outputs": [
    {
     "name": "stdout",
     "output_type": "stream",
     "text": [
      "Un texto **AQUI** una composición de signos codificados en un sistema de **AQUI**critura que forma una unidad de\n",
      " sentido. También **AQUI** una composición de caracter**AQUI** imprimibl**AQUI** (con grafema) generados por un algoritmo de \n",
      " cifrado que, aunque no tiene sentido para cualquier persona, sí puede **AQUI** d**AQUI**cifrado por su d**AQUI**tinatario \n",
      " original. En otras palabras, un texto **AQUI** un entramado de signos con una intención comunicativa que adquiere \n",
      " sentido en determinado contexto.\n"
     ]
    }
   ],
   "source": [
    "# METACARACTERES: Son caracteres que tienen significado especial en las expresiones regulares.\n",
    "## |: permite separar alternativas buscando dentro de un texto\n",
    "\n",
    "## Ejemplo 3: sustituir cualquier aparición de las palabras es o ser por **AQUI**\n",
    "\n",
    "pattern = 'es|ser'\n",
    "texto5 = re.sub(pattern, '**AQUI**', texto)\n",
    "print(texto5)"
   ]
  },
  {
   "cell_type": "code",
   "execution_count": 132,
   "id": "2295c5e9",
   "metadata": {},
   "outputs": [
    {
     "name": "stdout",
     "output_type": "stream",
     "text": [
      "['1 ', '2 ', '3 ', '4 ', '5 ', '6 ', '7 ', '8 ']\n"
     ]
    }
   ],
   "source": [
    "## ?: El elemento que precede aparece una vez o ninguna.\n",
    "## Ejemplo 4: buscando cualquier numero que tenga un digito o ninguno seguido de un espacio.\n",
    "\n",
    "ejemplo = '1 22 33 4444 55555 666666 7777777 88888888 999999999'\n",
    "pattern = '\\d?\\s'\n",
    "texto6 = re.findall(pattern, ejemplo)\n",
    "print(texto6)"
   ]
  },
  {
   "cell_type": "code",
   "execution_count": 133,
   "id": "b787fbe9",
   "metadata": {},
   "outputs": [
    {
     "name": "stdout",
     "output_type": "stream",
     "text": [
      "['33']\n"
     ]
    }
   ],
   "source": [
    "## +: El elemento que lo precede aparece una o mas veces.\n",
    "## buscar el numero donde aparece el digito 3 una o mas veces.\n",
    "\n",
    "ejemplo = '1 22 33 4444 55555 666666 7777777 88888888 999999999'\n",
    "pattern = '3+'\n",
    "texto7 = re.findall(pattern, ejemplo)\n",
    "print(texto7)"
   ]
  },
  {
   "cell_type": "code",
   "execution_count": 134,
   "id": "c3003a9c",
   "metadata": {},
   "outputs": [
    {
     "name": "stdout",
     "output_type": "stream",
     "text": [
      "['12', '2', '2']\n"
     ]
    }
   ],
   "source": [
    "## *: El elemento que lo precede aparece ninguna o mas veces.\n",
    "## buscar que parte contiene el digito 1 ninguna o mas veces seguido del numero 2\n",
    "ejemplo = '12233444455555666666777277788888888999999999'\n",
    "pattern = '(1*2)'\n",
    "texto8 = re.findall(pattern, ejemplo)\n",
    "print(texto8)"
   ]
  },
  {
   "cell_type": "code",
   "execution_count": 135,
   "id": "048d9a86",
   "metadata": {},
   "outputs": [
    {
     "name": "stdout",
     "output_type": "stream",
     "text": [
      "['333', '444', '666']\n"
     ]
    }
   ],
   "source": [
    "## {n}: El elemento que precede aparece n veces.\n",
    "## buscar que parte de la cadena de caracteres tiene exactamente 3 digitos.\n",
    "ejemplo = '1 22 333 4444 55 66666'\n",
    "pattern = '\\d{3}'\n",
    "texto9 = re.findall(pattern, ejemplo)\n",
    "print(texto9)"
   ]
  },
  {
   "cell_type": "code",
   "execution_count": 136,
   "id": "b9333dd2",
   "metadata": {},
   "outputs": [
    {
     "name": "stdout",
     "output_type": "stream",
     "text": [
      "['22', '55', '555']\n"
     ]
    }
   ],
   "source": [
    "## {n,m}: El elemento anterior aparece entre n y m si n esta vacio elemento aparece 0 veces. \n",
    "##        Si m es vacio el elemento aparece n o mas veces.\n",
    "## buscar que parte de la cadena de texto tiene 2 o 3 digitos seguidos.\n",
    "ejemplo = '1 22 333 4444 55 66655566'\n",
    "pattern = '[2,5]{2,3}'\n",
    "texto10 = re.findall(pattern, ejemplo)\n",
    "print(texto10)"
   ]
  },
  {
   "cell_type": "code",
   "execution_count": 137,
   "id": "7b2bec03",
   "metadata": {},
   "outputs": [
    {
     "name": "stdout",
     "output_type": "stream",
     "text": [
      "['22', '333']\n"
     ]
    }
   ],
   "source": [
    "## []: Busca cadenas que tengan algunos de los caracteres definidos dentro de los corchetes.\n",
    "## buscar que parte de la cadena tiene los digitos 2 o 3 repetidos entre 2 y 3 veces.\n",
    "ejemplo = '1 22 333 4444 55 66655566'\n",
    "pattern = '[2,3]{2,3}'\n",
    "texto11 = re.findall(pattern, ejemplo)\n",
    "print(texto11)"
   ]
  },
  {
   "cell_type": "code",
   "execution_count": 138,
   "id": "5fb0a664",
   "metadata": {},
   "outputs": [
    {
     "name": "stdout",
     "output_type": "stream",
     "text": [
      "['22', '333']\n"
     ]
    }
   ],
   "source": [
    "## -: Permite definir un rango de caracteres\n",
    "## buscar que parte de la cadena tiene los valores entre 1 y 3 repetidos 2 o mas veces.\n",
    "ejemplo = '1 22 333 4444 55 66655566'\n",
    "pattern = '[1-3]{2,}'\n",
    "texto11 = re.findall(pattern, ejemplo)\n",
    "print(texto11)"
   ]
  },
  {
   "cell_type": "markdown",
   "id": "ab5871ad",
   "metadata": {},
   "source": [
    "## Excepciones.\n",
    "\n",
    "- Es un bloque de codigo que se ejecutara cuando se detecte un error.\n",
    "- Es necesario el uso de los bloques try - except para controlar las excepciones."
   ]
  },
  {
   "cell_type": "code",
   "execution_count": 139,
   "id": "af0da02b",
   "metadata": {},
   "outputs": [
    {
     "name": "stdout",
     "output_type": "stream",
     "text": [
      "No existe posición\n",
      "Continua Ejecución\n"
     ]
    }
   ],
   "source": [
    "# Ejemplo de bloque de excepciones Accediendo a una posición que no existe.\n",
    "lista = [2,3,4]\n",
    "try:\n",
    "    print(lista[4])\n",
    "except:\n",
    "    print(\"No existe posición\")\n",
    "print(\"Continua Ejecución\")"
   ]
  },
  {
   "cell_type": "code",
   "execution_count": 140,
   "id": "36b6f035",
   "metadata": {},
   "outputs": [
    {
     "name": "stdout",
     "output_type": "stream",
     "text": [
      "No existe posición\n",
      "Finaliza el ciclo\n"
     ]
    }
   ],
   "source": [
    "# Ejemplo creando diferentes tipos de excepciones.\n",
    "lista = [2,3,4]\n",
    "try:\n",
    "    print(lista[5])\n",
    "except IndexError:\n",
    "    print(\"No existe posición\")\n",
    "except TypeError:\n",
    "    print(\"El tipo de la operación es erróneo\")\n",
    "except:\n",
    "    print(\"Ha ocurrido un error\")\n",
    "    \n",
    "print(\"Finaliza el ciclo\")"
   ]
  },
  {
   "cell_type": "markdown",
   "id": "253a9a8f",
   "metadata": {},
   "source": [
    "## excepciones con bloque else.\n",
    "\n",
    "- Se crea un bloque else para controlar las ejecuciones que no tienen errores."
   ]
  },
  {
   "cell_type": "code",
   "execution_count": 141,
   "id": "bffa2889",
   "metadata": {},
   "outputs": [
    {
     "name": "stdout",
     "output_type": "stream",
     "text": [
      "4\n",
      "Está perfecto\n",
      "Sigo con la ejecución\n"
     ]
    }
   ],
   "source": [
    "# Ejemplo creando una excepción con un bloque else.\n",
    "lista = [2, 3, 4]\n",
    "try:\n",
    "    print(lista[2])\n",
    "except:\n",
    "    print(\"No existe esa posición\")\n",
    "else:\n",
    "    print(\"Está perfecto\")\n",
    "print(\"Sigo con la ejecución\")"
   ]
  },
  {
   "cell_type": "markdown",
   "id": "2b2ebedb",
   "metadata": {},
   "source": [
    "## Bloque finally.\n",
    "\n",
    "- Se ejecuta siempre y cuando haya habido o no un error en el bloque try.\n",
    "- La estructura completa es try-except-finally"
   ]
  },
  {
   "cell_type": "code",
   "execution_count": 142,
   "id": "5d62d79b",
   "metadata": {
    "scrolled": true
   },
   "outputs": [
    {
     "name": "stdout",
     "output_type": "stream",
     "text": [
      "4\n",
      "Está perfecto\n",
      "Hemos terminado el bloque try-except\n",
      "Sigo con la ejecución\n"
     ]
    }
   ],
   "source": [
    "# Ejemplo creando una excepción con bloque finally.\n",
    "lista = [2, 3, 4]\n",
    "try:\n",
    "    print(lista[2])\n",
    "except:\n",
    "    print(\"No existe esa posición\")\n",
    "else:\n",
    "    print(\"Está perfecto\")\n",
    "finally:\n",
    "    print(\"Hemos terminado el bloque try-except\")\n",
    "print(\"Sigo con la ejecución\")"
   ]
  },
  {
   "cell_type": "markdown",
   "id": "afe66d16",
   "metadata": {},
   "source": [
    "# Lanzar errores.\n",
    "\n",
    "- Es una opción para generar los propios errores que se puedan gestionar en otro lado del programa.\n",
    "- Se crean con la sentencia raise seguido del tipo de error y el mensaje."
   ]
  },
  {
   "cell_type": "code",
   "execution_count": 143,
   "id": "cb59010d",
   "metadata": {},
   "outputs": [
    {
     "name": "stdout",
     "output_type": "stream",
     "text": [
      "He detectado error\n"
     ]
    }
   ],
   "source": [
    "# Ejemplo creando un error propio con raise.\n",
    "try:\n",
    "    raise TypeError(\"Este es un ejemplo de error personalizado\")\n",
    "except:\n",
    "    print(\"He detectado error\")"
   ]
  },
  {
   "cell_type": "markdown",
   "id": "d1d4c085",
   "metadata": {},
   "source": [
    "## Compresión de Listas.\n",
    "\n",
    "- Permite crear listas donde cada uno de los miembros de la lista es el resultado de una operación.\n",
    "- [OPERACIÓN for ITEM in SECUENCIA ]\n",
    "- [OPERACIÓN for ITEM in SECUENCIA if CONDICIÓN ]"
   ]
  },
  {
   "cell_type": "code",
   "execution_count": 144,
   "id": "00f6b34a",
   "metadata": {},
   "outputs": [
    {
     "name": "stdout",
     "output_type": "stream",
     "text": [
      "[1, 4, 9, 16, 25, 36, 49, 64, 81, 100]\n"
     ]
    }
   ],
   "source": [
    "# Ejemplo compresion de listas.\n",
    "# crear una lista que almacene { el resultado de aplicar el cuadrado a los numeros de 1 a 10 }\n",
    "result = [ i **2 for i in range(1,11)]\n",
    "print(result)"
   ]
  },
  {
   "cell_type": "code",
   "execution_count": 145,
   "id": "56e71d85",
   "metadata": {},
   "outputs": [
    {
     "name": "stdout",
     "output_type": "stream",
     "text": [
      "[9, 36, 81]\n"
     ]
    }
   ],
   "source": [
    "# Ejemplo de compresion de lista con condional\n",
    "# [ operacion FOR item IN secuencia IF condición ]\n",
    "result = [ i**2 for i in range (1,11) if i%3 == 0 ]\n",
    "print(result)"
   ]
  },
  {
   "cell_type": "markdown",
   "id": "c967916d",
   "metadata": {},
   "source": [
    "## Compresión de listas aplicada a los Diccionarios.\n",
    "\n",
    "- La compresión de listas se puede aplicar a otro tipo de colecciones como son los diccionarios.\n",
    "- Es necesario definir la clave y el valor de cada elemento\n",
    "- { clave: valor FOR item IN secuencia IF condición }"
   ]
  },
  {
   "cell_type": "code",
   "execution_count": 146,
   "id": "579c1a09",
   "metadata": {},
   "outputs": [
    {
     "name": "stdout",
     "output_type": "stream",
     "text": [
      "{2: 4, 4: 16, 6: 36, 8: 64, 10: 100}\n"
     ]
    }
   ],
   "source": [
    "# ejemplo con diccionarios: \n",
    "\"\"\"\n",
    "Crear un diccionario que almacene el resultado de aplicar el cuadrado a los nros pares entre 1 y 10 donde la \n",
    "clave del resultado sea el numero con el que se calcula el cuadrado.\n",
    "\"\"\"\n",
    "result = { i: i**2 for i in range(1,11) if i%2==0 }\n",
    "print(result)"
   ]
  },
  {
   "cell_type": "markdown",
   "id": "863ca213",
   "metadata": {},
   "source": [
    "## Compresión de listas aplicada a los conjuntos.\n",
    "\n",
    "- Se puede adaptar la expresión para que funcione de la misma forma que los diccionarios.\n",
    "- Se usan los simbolos de creación de conjuntos seguido de la misma estructura de comprensión.\n",
    "- { item FOR item IN secuencia IF condición }"
   ]
  },
  {
   "cell_type": "code",
   "execution_count": 147,
   "id": "127c7d50",
   "metadata": {},
   "outputs": [
    {
     "name": "stdout",
     "output_type": "stream",
     "text": [
      "{64, 100, 4, 36, 16}\n"
     ]
    }
   ],
   "source": [
    "# Ejemplo de Conjuntos.\n",
    "\"\"\"\n",
    "crear una secuencia que almacena el resultado de aplicar el cuadrado a los numeros pares que hay de 1 a 10\n",
    "\"\"\"\n",
    "result = { i**2 for i in range(1,11) if i%2==0 }\n",
    "print(result)"
   ]
  },
  {
   "cell_type": "markdown",
   "id": "44a260ff",
   "metadata": {},
   "source": [
    "## Numpy\n",
    "\n",
    "- Es un modulo rientado a las librerias cientificas, proporciona nuevas estructuras de datos como matrices, matrices multidimencionales etc.\n",
    "- Es una libreria que forma parte de la base del analisis de datos."
   ]
  },
  {
   "cell_type": "code",
   "execution_count": 2,
   "id": "dad4e0b4",
   "metadata": {},
   "outputs": [],
   "source": [
    "# Importando NUMPY\n",
    "import numpy as np"
   ]
  },
  {
   "cell_type": "code",
   "execution_count": 3,
   "id": "c8f29c9e",
   "metadata": {},
   "outputs": [
    {
     "data": {
      "text/plain": [
       "array([1, 2, 3, 4, 5])"
      ]
     },
     "execution_count": 3,
     "metadata": {},
     "output_type": "execute_result"
    }
   ],
   "source": [
    "# Arrays en numpy\n",
    "# Son una secuencia de valores que tienen asignada una posición, mas rapidos que las listas de python.\n",
    "array = np.array([1,2,3,4,5])\n",
    "array"
   ]
  },
  {
   "cell_type": "code",
   "execution_count": 4,
   "id": "f1455da4",
   "metadata": {},
   "outputs": [
    {
     "data": {
      "text/plain": [
       "3"
      ]
     },
     "execution_count": 4,
     "metadata": {},
     "output_type": "execute_result"
    }
   ],
   "source": [
    "# Accediendo a una posición del array.\n",
    "array[2]"
   ]
  },
  {
   "cell_type": "code",
   "execution_count": 5,
   "id": "bd487b1c",
   "metadata": {},
   "outputs": [
    {
     "data": {
      "text/plain": [
       "array(['1.0', 'Hola', 'True'], dtype='<U32')"
      ]
     },
     "execution_count": 5,
     "metadata": {},
     "output_type": "execute_result"
    }
   ],
   "source": [
    "# Accediendo elementos al array de diferente tipo.\n",
    "array = np.array([1.0, 'Hola', True])\n",
    "array"
   ]
  },
  {
   "cell_type": "code",
   "execution_count": 7,
   "id": "07ffc849",
   "metadata": {},
   "outputs": [
    {
     "data": {
      "text/plain": [
       "array([[1, 2, 3],\n",
       "       [4, 5, 6]])"
      ]
     },
     "execution_count": 7,
     "metadata": {},
     "output_type": "execute_result"
    }
   ],
   "source": [
    "# Matrices - Array con mas dimenciones: cuando existen mas dimencionesen un array se llaman MATRICES.\n",
    "# Ejemplo creando Matrices.\n",
    "matriz = np.array([[1,2,3],[4,5,6]])\n",
    "matriz"
   ]
  },
  {
   "cell_type": "code",
   "execution_count": 11,
   "id": "58aa3ee3",
   "metadata": {},
   "outputs": [
    {
     "name": "stdout",
     "output_type": "stream",
     "text": [
      "Tiempo listas:  0.09757494926452637\n",
      "Tiempo Arrays:  0.0038585662841796875\n"
     ]
    }
   ],
   "source": [
    "# Comparando espacio en memoria de las listas vs los arrays.\n",
    "import time\n",
    "\n",
    "lista1 = range(1000000)\n",
    "lista2 = range(1000000)\n",
    "array1 = np.array(range(1000000))\n",
    "array2 = np.array(range(1000000))\n",
    "\n",
    "# tiempo de operación en listas\n",
    "comienzo = time.time()\n",
    "resultado = [x - y for x,y in zip(lista1, lista2)]\n",
    "final = time.time()\n",
    "print('Tiempo listas: ', final - comienzo)\n",
    "\n",
    "# Tiempo de operación resta en arrays.\n",
    "comienzo2 = time.time()\n",
    "resultado = array1 - array2\n",
    "final2 = time.time()\n",
    "print('Tiempo Arrays: ', final2 - comienzo2)"
   ]
  },
  {
   "cell_type": "markdown",
   "id": "6466c8a4",
   "metadata": {},
   "source": [
    "## Funciones universales.\n",
    "\n",
    "- Se aplican a cada uno de los elementos del array.\n",
    "- Cuando se usan 2 arrays se debe tener presente que ambos deben tener la misma longitud."
   ]
  },
  {
   "cell_type": "code",
   "execution_count": 13,
   "id": "5ec6610e",
   "metadata": {},
   "outputs": [
    {
     "data": {
      "text/plain": [
       "array([-2, 50,  5])"
      ]
     },
     "execution_count": 13,
     "metadata": {},
     "output_type": "execute_result"
    }
   ],
   "source": [
    "# Funciones aritmeticas.\n",
    "# substract(): resta los elementos de dos arrays, elemento por elemento.\n",
    "array1 = np.array([4, 89, 15])\n",
    "array2 = np.array([6, 39, 10])\n",
    "np.subtract(array1, array2)"
   ]
  },
  {
   "cell_type": "code",
   "execution_count": 14,
   "id": "3dc14d57",
   "metadata": {},
   "outputs": [
    {
     "data": {
      "text/plain": [
       "array([ 10, 128,  25])"
      ]
     },
     "execution_count": 14,
     "metadata": {},
     "output_type": "execute_result"
    }
   ],
   "source": [
    "# add(): suma los elementos de dos arrays \n",
    "array1 = np.array([4, 89, 15])\n",
    "array2 = np.array([6, 39, 10])\n",
    "np.add(array1, array2)"
   ]
  },
  {
   "cell_type": "code",
   "execution_count": 15,
   "id": "c5d768a6",
   "metadata": {},
   "outputs": [
    {
     "data": {
      "text/plain": [
       "array([  24, 3471,  150])"
      ]
     },
     "execution_count": 15,
     "metadata": {},
     "output_type": "execute_result"
    }
   ],
   "source": [
    "# multiply(): multiplica los valores de dos arrays.\n",
    "array1 = np.array([4, 89, 15])\n",
    "array2 = np.array([6, 39, 10])\n",
    "np.multiply(array1, array2)"
   ]
  },
  {
   "cell_type": "code",
   "execution_count": 16,
   "id": "54a6c71e",
   "metadata": {},
   "outputs": [
    {
     "data": {
      "text/plain": [
       "array([0.66666667, 2.28205128, 1.5       ])"
      ]
     },
     "execution_count": 16,
     "metadata": {},
     "output_type": "execute_result"
    }
   ],
   "source": [
    "# divide(): divide los valores de 2 arrays\n",
    "array1 = np.array([4, 89, 15])\n",
    "array2 = np.array([6, 39, 10])\n",
    "np.divide(array1, array2)"
   ]
  },
  {
   "cell_type": "code",
   "execution_count": 17,
   "id": "5ca01dac",
   "metadata": {},
   "outputs": [
    {
     "data": {
      "text/plain": [
       "array([    4,   256, 46656])"
      ]
     },
     "execution_count": 17,
     "metadata": {},
     "output_type": "execute_result"
    }
   ],
   "source": [
    "# power(): devuelve la potencia del elelmento del primer array elevaro al elemento del segundo array\n",
    "array1 = np.array([2, 4, 6])\n",
    "array2 = np.array([2, 4, 6])\n",
    "np.power(array1, array2)"
   ]
  },
  {
   "cell_type": "code",
   "execution_count": 19,
   "id": "bb9f613c",
   "metadata": {},
   "outputs": [
    {
     "data": {
      "text/plain": [
       "array([2.        , 9.43398113, 3.87298335])"
      ]
     },
     "execution_count": 19,
     "metadata": {},
     "output_type": "execute_result"
    }
   ],
   "source": [
    "# sqrt(): Devuelve la raíz cuadrada de cada uno de los elementos\n",
    "array1 = np.array([4, 89, 15])\n",
    "np.sqrt(array1)"
   ]
  },
  {
   "cell_type": "code",
   "execution_count": 20,
   "id": "c281e89d",
   "metadata": {},
   "outputs": [
    {
     "data": {
      "text/plain": [
       "array([  16, 7921,  225])"
      ]
     },
     "execution_count": 20,
     "metadata": {},
     "output_type": "execute_result"
    }
   ],
   "source": [
    "# square(): devuelve el cuadrado de cada uno de los elementos de un array\n",
    "array1 = np.array([4, 89, 15])\n",
    "np.square(array1)"
   ]
  },
  {
   "cell_type": "code",
   "execution_count": 26,
   "id": "f6fbbe02",
   "metadata": {},
   "outputs": [
    {
     "data": {
      "text/plain": [
       "array([2, 1, 6])"
      ]
     },
     "execution_count": 26,
     "metadata": {},
     "output_type": "execute_result"
    }
   ],
   "source": [
    "# gcd(): devuelve el maximo comun divisor de los elementos de dos arrays\n",
    "array1 = np.array([2, 4, 6])\n",
    "array2 = np.array([22, 1, 66])\n",
    "np.gcd(array1, array2)"
   ]
  },
  {
   "cell_type": "code",
   "execution_count": 25,
   "id": "3fb4ef71",
   "metadata": {},
   "outputs": [
    {
     "data": {
      "text/plain": [
       "array([22, 44, 66])"
      ]
     },
     "execution_count": 25,
     "metadata": {},
     "output_type": "execute_result"
    }
   ],
   "source": [
    "# lcm(): devuelve el minimo comun multiplo de los elementos de dos arrays.\n",
    "array1 = np.array([2, 44, 6])\n",
    "array2 = np.array([22, 4, 66])\n",
    "np.lcm(array1, array2)"
   ]
  },
  {
   "cell_type": "markdown",
   "id": "cd590f2e",
   "metadata": {},
   "source": [
    "## Funciones de comparación.\n",
    "\n",
    "- Es un conjunto de funciones que permite comparar los elementos de dos arrays elemento por elemento."
   ]
  },
  {
   "cell_type": "code",
   "execution_count": 28,
   "id": "f97574d2",
   "metadata": {},
   "outputs": [
    {
     "data": {
      "text/plain": [
       "array([False,  True, False])"
      ]
     },
     "execution_count": 28,
     "metadata": {},
     "output_type": "execute_result"
    }
   ],
   "source": [
    "# greater(): realiza la operación elem1 > elem2 por cada elemento de los arrays.\n",
    "array1 = np.array([2, 4, 6])\n",
    "array2 = np.array([8, 2, 12])\n",
    "np.greater(array1, array2)"
   ]
  },
  {
   "cell_type": "code",
   "execution_count": 30,
   "id": "df49426d",
   "metadata": {},
   "outputs": [
    {
     "data": {
      "text/plain": [
       "array([ True,  True, False])"
      ]
     },
     "execution_count": 30,
     "metadata": {},
     "output_type": "execute_result"
    }
   ],
   "source": [
    "# greater_equal(): realiza la operación elem1 >= elem2 por cada elemento de los arrays.\n",
    "array1 = np.array([2, 4, 6])\n",
    "array2 = np.array([2, 2, 12])\n",
    "np.greater_equal(array1, array2)"
   ]
  },
  {
   "cell_type": "code",
   "execution_count": 31,
   "id": "7a4b6a8a",
   "metadata": {},
   "outputs": [
    {
     "data": {
      "text/plain": [
       "array([False, False,  True])"
      ]
     },
     "execution_count": 31,
     "metadata": {},
     "output_type": "execute_result"
    }
   ],
   "source": [
    "# less(): realiza la operación elem1 < elem2 por cada elemento de los arrays.\n",
    "array1 = np.array([2, 4, 6])\n",
    "array2 = np.array([2, 2, 12])\n",
    "np.less(array1, array2)"
   ]
  },
  {
   "cell_type": "code",
   "execution_count": 32,
   "id": "36dc4ee1",
   "metadata": {},
   "outputs": [
    {
     "data": {
      "text/plain": [
       "array([ True, False,  True])"
      ]
     },
     "execution_count": 32,
     "metadata": {},
     "output_type": "execute_result"
    }
   ],
   "source": [
    "# less_equal(): realiza la operación elem1 <= elem2 por cada elemento de los arrays.\n",
    "array1 = np.array([2, 4, 6])\n",
    "array2 = np.array([2, 2, 12])\n",
    "np.less_equal(array1, array2)"
   ]
  },
  {
   "cell_type": "code",
   "execution_count": 33,
   "id": "cf2c23b3",
   "metadata": {},
   "outputs": [
    {
     "data": {
      "text/plain": [
       "array([ True,  True, False])"
      ]
     },
     "execution_count": 33,
     "metadata": {},
     "output_type": "execute_result"
    }
   ],
   "source": [
    "# equal(): realiza la operación elem1 == elem2 por cada elemento de los arrays.\n",
    "array1 = np.array([2, 4, 6])\n",
    "array2 = np.array([2, 4, 12])\n",
    "np.equal(array1, array2)"
   ]
  },
  {
   "cell_type": "code",
   "execution_count": 34,
   "id": "078116a1",
   "metadata": {},
   "outputs": [
    {
     "data": {
      "text/plain": [
       "array([False, False,  True])"
      ]
     },
     "execution_count": 34,
     "metadata": {},
     "output_type": "execute_result"
    }
   ],
   "source": [
    "# not_equal(): realiza la operación elem1 != elem2 por cada elemento de los arrays.\n",
    "array1 = np.array([2, 4, 6])\n",
    "array2 = np.array([2, 4, 12])\n",
    "np.not_equal(array1, array2)"
   ]
  },
  {
   "cell_type": "markdown",
   "id": "970dd9bc",
   "metadata": {},
   "source": [
    "## Funciones Booleanas.\n",
    "\n",
    "- Aplican a elemento por elemento de cada array sobre los que se realiza las operaciones.\n",
    "- Deben contener valores booleanos."
   ]
  },
  {
   "cell_type": "code",
   "execution_count": 35,
   "id": "431e11d2",
   "metadata": {},
   "outputs": [
    {
     "data": {
      "text/plain": [
       "array([False, False,  True])"
      ]
     },
     "execution_count": 35,
     "metadata": {},
     "output_type": "execute_result"
    }
   ],
   "source": [
    "# logical_and(): valida cada uno de los elementos.\n",
    "array1 = np.array([True, False, True])\n",
    "array2 = np.array([False, False, True])\n",
    "np.logical_and(array1, array2)"
   ]
  },
  {
   "cell_type": "code",
   "execution_count": 36,
   "id": "f35b1da0",
   "metadata": {},
   "outputs": [
    {
     "data": {
      "text/plain": [
       "array([ True, False,  True])"
      ]
     },
     "execution_count": 36,
     "metadata": {},
     "output_type": "execute_result"
    }
   ],
   "source": [
    "# logical_or(): valida cada uno de los elementos.\n",
    "array1 = np.array([True, False, True])\n",
    "array2 = np.array([False, False, True])\n",
    "np.logical_or(array1, array2)"
   ]
  },
  {
   "cell_type": "code",
   "execution_count": 37,
   "id": "e56f9800",
   "metadata": {},
   "outputs": [
    {
     "data": {
      "text/plain": [
       "array([ True, False,  True])"
      ]
     },
     "execution_count": 37,
     "metadata": {},
     "output_type": "execute_result"
    }
   ],
   "source": [
    "# logical_xor(): valida cada uno de los elementos.\n",
    "array1 = np.array([True, False, True])\n",
    "array2 = np.array([False, False, True])\n",
    "np.logical_or(array1, array2)"
   ]
  },
  {
   "cell_type": "code",
   "execution_count": 38,
   "id": "7d449730",
   "metadata": {},
   "outputs": [
    {
     "data": {
      "text/plain": [
       "array([False,  True, False])"
      ]
     },
     "execution_count": 38,
     "metadata": {},
     "output_type": "execute_result"
    }
   ],
   "source": [
    "# logical_not(): valida cada uno de los elementos.\n",
    "array1 = np.array([True, False, True])\n",
    "np.logical_not(array1, array2)"
   ]
  },
  {
   "cell_type": "markdown",
   "id": "deb6aa9c",
   "metadata": {},
   "source": [
    "## Funciones Estadisticas.\n",
    "\n",
    "- Son funciones que pueden interactuar con los arrays.\n",
    "- Sirven para realizar operaciones basadas en terminos estadisticos."
   ]
  },
  {
   "cell_type": "code",
   "execution_count": 41,
   "id": "84df3a93",
   "metadata": {},
   "outputs": [
    {
     "name": "stdout",
     "output_type": "stream",
     "text": [
      "Minimo: Array 1\n",
      "Minimo Matriz:  [1, 2, 3, 4]\n"
     ]
    },
    {
     "name": "stderr",
     "output_type": "stream",
     "text": [
      "/tmp/ipykernel_11/981180199.py:5: VisibleDeprecationWarning: Creating an ndarray from ragged nested sequences (which is a list-or-tuple of lists-or-tuples-or ndarrays with different lengths or shapes) is deprecated. If you meant to do this, you must specify 'dtype=object' when creating the ndarray.\n",
      "  matriz = np.array([[1,2,3,4],[5,6,7,8,9,10]])\n"
     ]
    }
   ],
   "source": [
    "# amin(): devuelve el valor minimo de todos los elementosde un array, tambien aplica sobre matrices.\n",
    "array = np.array([1,2,3,4,5,6,7,8,9,10])\n",
    "print (\"Minimo: Array\", np.amin(array))\n",
    "\n",
    "matriz = np.array([[1,2,3,4],[5,6,7,8,9,10]])\n",
    "print (\"Minimo Matriz: \", np.amin(matriz))"
   ]
  },
  {
   "cell_type": "code",
   "execution_count": 42,
   "id": "bff697db",
   "metadata": {},
   "outputs": [
    {
     "name": "stdout",
     "output_type": "stream",
     "text": [
      "Maximo: Array 10\n",
      "Minimo Matriz:  [5, 6, 7, 8, 9, 10]\n"
     ]
    },
    {
     "name": "stderr",
     "output_type": "stream",
     "text": [
      "/tmp/ipykernel_11/121281562.py:5: VisibleDeprecationWarning: Creating an ndarray from ragged nested sequences (which is a list-or-tuple of lists-or-tuples-or ndarrays with different lengths or shapes) is deprecated. If you meant to do this, you must specify 'dtype=object' when creating the ndarray.\n",
      "  matriz = np.array([[1,2,3,4],[5,6,7,8,9,10]])\n"
     ]
    }
   ],
   "source": [
    "# amax(): devuelve el valor maximo de todos los elementosde un array, tambien aplica sobre matrices.\n",
    "array = np.array([1,2,3,4,5,6,7,8,9,10])\n",
    "print (\"Maximo: Array\", np.amax(array))\n",
    "\n",
    "matriz = np.array([[1,2,3,4],[5,6,7,8,9,10]])\n",
    "print (\"Minimo Matriz: \", np.amax(matriz))"
   ]
  },
  {
   "cell_type": "code",
   "execution_count": 58,
   "id": "6515380c",
   "metadata": {},
   "outputs": [
    {
     "name": "stdout",
     "output_type": "stream",
     "text": [
      "Percentil 25:  3.25\n"
     ]
    }
   ],
   "source": [
    "# percentil(): devuelve el valor sobre el que se encuentra un porcentaje de conjunto de observaciones \n",
    "# ordenados de mayor a menor\n",
    "array = np.array([1,2,3,4,5,6,7,8,9,10])\n",
    "print(\"Percentil 25: \", np.percentile(array, 25))"
   ]
  },
  {
   "cell_type": "code",
   "execution_count": 59,
   "id": "9e2c533e",
   "metadata": {},
   "outputs": [
    {
     "name": "stdout",
     "output_type": "stream",
     "text": [
      "Mediana :  5.5\n"
     ]
    }
   ],
   "source": [
    "# median(): devuelve la mediana, el valor que separa el conjunto de observaciones ordenadas de mayor a menor / 2\n",
    "array = np.array([1,2,3,4,5,6,7,8,9,10])\n",
    "print(\"Mediana : \", np.median(array))"
   ]
  },
  {
   "cell_type": "code",
   "execution_count": 60,
   "id": "bf43426d",
   "metadata": {},
   "outputs": [
    {
     "name": "stdout",
     "output_type": "stream",
     "text": [
      "Media :  5.5\n"
     ]
    }
   ],
   "source": [
    "# mean (): Retorna la media, el valor de tendencia central de un conjunto de observaciones\n",
    "array = np.array([1,2,3,4,5,6,7,8,9,10])\n",
    "print(\"Media : \", np.mean(array))"
   ]
  },
  {
   "cell_type": "code",
   "execution_count": 61,
   "id": "98e5e041",
   "metadata": {},
   "outputs": [
    {
     "name": "stdout",
     "output_type": "stream",
     "text": [
      "Media Ponderada:  4.9\n"
     ]
    }
   ],
   "source": [
    "# average(): Retorna la media ponderada de un conjunto de observaciones \n",
    "pesos = np.array([0.2,0.05,0.05,0.3,0.0,0.1,0.05,0.05,0.1,0.1])\n",
    "array = np.array([1,2,3,4,5,6,7,8,9,10])\n",
    "print(\"Media Ponderada: \", np.average(array, weights=pesos))"
   ]
  },
  {
   "cell_type": "code",
   "execution_count": 62,
   "id": "948c9de1",
   "metadata": {},
   "outputs": [
    {
     "name": "stdout",
     "output_type": "stream",
     "text": [
      "Desviación estandar:  2.8722813232690143\n"
     ]
    }
   ],
   "source": [
    "# std(): Retorna la desviación estándar de un conjunto de observaciones.\n",
    "array = np.array([1,2,3,4,5,6,7,8,9,10])\n",
    "print(\"Desviación estandar: \", np.std(array))"
   ]
  },
  {
   "cell_type": "code",
   "execution_count": 63,
   "id": "de733773",
   "metadata": {},
   "outputs": [
    {
     "name": "stdout",
     "output_type": "stream",
     "text": [
      "Varianza:  8.25\n"
     ]
    }
   ],
   "source": [
    "# var(): Retorna la varianza de un conjunto de operaciones.\n",
    "array = np.array([1,2,3,4,5,6,7,8,9,10])\n",
    "print(\"Varianza: \", np.var(array))"
   ]
  },
  {
   "cell_type": "markdown",
   "id": "04b0bb6a",
   "metadata": {},
   "source": [
    "## Programación orientada a objetos.\n",
    "\n",
    "- Un objeto es una abstraccion de los datos con ciertas caracteristicas.\n",
    "- Los objetos tienen un comportamiento, una identidad.\n",
    "- Los objetos tienen un identificador para diferenciar entre los mismos."
   ]
  },
  {
   "cell_type": "code",
   "execution_count": 12,
   "id": "80a73c6a",
   "metadata": {},
   "outputs": [],
   "source": [
    "# En una clase se define que operaciones se puede hacer y que caracteristicas tienen.\n",
    "# Los atributos son un conjunto de valores que almacenan un valor, estructura, caracteristica.\n",
    "# Clase Libro.\n",
    "class Libro:\n",
    "    titulo = \"Don quijote de la mancha\"\n",
    "    autor = \"Miguel de Cervantes\"\n",
    "    isbn = \"0987-7489\"\n",
    "    editorial = \"Una editorial\"\n",
    "    paginas = 987\n",
    "    edicion = 34\n",
    "    \n",
    "# Creando un constructor.\n",
    "    def __init__(self, titulo, autor, isbn, editorial, paginas, edicion):\n",
    "        self.titulo  = titulo\n",
    "        self.autor = autor\n",
    "        self.isbn = isbn\n",
    "        self.editorial = editorial\n",
    "        self.paginas = paginas\n",
    "        self.edicion = edicion\n",
    "    \n",
    "    def modificacion(self, sumaEdicion):\n",
    "        self.edicion += sumaEdicion"
   ]
  },
  {
   "cell_type": "code",
   "execution_count": 14,
   "id": "61783e09",
   "metadata": {},
   "outputs": [],
   "source": [
    "# Creando un objeto de la clase libro\n",
    "miLibro = Libro(\"El principito\", \"Anonimo\", \"0658-7859\", \"Mi editorial\", 25, 1)"
   ]
  },
  {
   "cell_type": "code",
   "execution_count": 15,
   "id": "cb84f3a8",
   "metadata": {},
   "outputs": [
    {
     "data": {
      "text/plain": [
       "'El principito'"
      ]
     },
     "execution_count": 15,
     "metadata": {},
     "output_type": "execute_result"
    }
   ],
   "source": [
    "# Accediendo a los objetos de la clase Libro con el objeto miLibro\n",
    "miLibro.titulo"
   ]
  },
  {
   "cell_type": "code",
   "execution_count": 16,
   "id": "6d8cfefc",
   "metadata": {},
   "outputs": [
    {
     "data": {
      "text/plain": [
       "'0658-7859'"
      ]
     },
     "execution_count": 16,
     "metadata": {},
     "output_type": "execute_result"
    }
   ],
   "source": [
    "# Accediendo a los objetos de la clase Libro con el objeto miLibro\n",
    "miLibro.isbn"
   ]
  },
  {
   "cell_type": "code",
   "execution_count": 17,
   "id": "e9bf1da2",
   "metadata": {},
   "outputs": [
    {
     "data": {
      "text/plain": [
       "1"
      ]
     },
     "execution_count": 17,
     "metadata": {},
     "output_type": "execute_result"
    }
   ],
   "source": [
    "miLibro.edicion"
   ]
  },
  {
   "cell_type": "code",
   "execution_count": 18,
   "id": "8dc3c7ce",
   "metadata": {},
   "outputs": [],
   "source": [
    "miLibro.modificacion(5)"
   ]
  },
  {
   "cell_type": "code",
   "execution_count": 19,
   "id": "0c992d0a",
   "metadata": {},
   "outputs": [
    {
     "data": {
      "text/plain": [
       "6"
      ]
     },
     "execution_count": 19,
     "metadata": {},
     "output_type": "execute_result"
    }
   ],
   "source": [
    "miLibro.edicion"
   ]
  },
  {
   "cell_type": "code",
   "execution_count": 41,
   "id": "0513a355",
   "metadata": {},
   "outputs": [],
   "source": [
    "class Persona:\n",
    "    \"\"\"\n",
    "    Clase persona\n",
    "    \n",
    "    Esta clase cuenta con cuatro atributos y un metodo\n",
    "    \"\"\"\n",
    "    def __init__(self, nombre, fechaNacimiento, domicilio):\n",
    "        self.nombre = nombre\n",
    "        self.fechaNacimiento = fechaNacimiento\n",
    "        self.domicilio = domicilio\n",
    "\n",
    "    def cambiarDomicilio(self, nuevoDomicilio):\n",
    "        self.domicilio = nuevoDomicilio"
   ]
  },
  {
   "cell_type": "code",
   "execution_count": 42,
   "id": "c1f82536",
   "metadata": {},
   "outputs": [],
   "source": [
    "class Profesor (Persona):\n",
    "    def __init__(self, nombre, fechaNacimiento, domicilio, identificacionProfesor):\n",
    "        Persona.__init__(self, nombre, fechaNacimiento, domicilio)\n",
    "        self.identificacionProfesor = identificacionProfesor\n",
    "    \n",
    "    def modificaIdentificacion (self, nuevaIdentificacion):\n",
    "        self.identificacion = nuevaIdentificacion"
   ]
  },
  {
   "cell_type": "code",
   "execution_count": 43,
   "id": "5b6a1604",
   "metadata": {},
   "outputs": [],
   "source": [
    "class Alumno(Persona):\n",
    "    def __init__(self, nombre, fechaNacimiento, domicilio, calificacion):\n",
    "        Persona.__init__(self, nombre, fechaNacimiento, domicilio)\n",
    "        self.calificacion = calificacion\n",
    "    \n",
    "    def calificar(self,nota):\n",
    "        self.calificacion = nota"
   ]
  },
  {
   "cell_type": "code",
   "execution_count": 44,
   "id": "bbdc1b69",
   "metadata": {},
   "outputs": [],
   "source": [
    "alumno = Alumno(\"Oscar\", \"30/08/1990\", \"calle inventada\", 0)\n",
    "profesor = Profesor(\"pepe\", \"12/12/1975\", \"calle inventada\", \"123456\")"
   ]
  },
  {
   "cell_type": "code",
   "execution_count": 45,
   "id": "f180ae4e",
   "metadata": {},
   "outputs": [
    {
     "data": {
      "text/plain": [
       "'calle inventada'"
      ]
     },
     "execution_count": 45,
     "metadata": {},
     "output_type": "execute_result"
    }
   ],
   "source": [
    "alumno.domicilio"
   ]
  },
  {
   "cell_type": "code",
   "execution_count": 46,
   "id": "f033fe57",
   "metadata": {},
   "outputs": [
    {
     "data": {
      "text/plain": [
       "'pepe'"
      ]
     },
     "execution_count": 46,
     "metadata": {},
     "output_type": "execute_result"
    }
   ],
   "source": [
    "profesor.nombre"
   ]
  },
  {
   "cell_type": "code",
   "execution_count": 47,
   "id": "e4164658",
   "metadata": {},
   "outputs": [],
   "source": [
    "alumno.cambiarDomicilio(\"Inventado 789\")"
   ]
  },
  {
   "cell_type": "code",
   "execution_count": 48,
   "id": "f224c6c0",
   "metadata": {},
   "outputs": [
    {
     "data": {
      "text/plain": [
       "'Inventado 789'"
      ]
     },
     "execution_count": 48,
     "metadata": {},
     "output_type": "execute_result"
    }
   ],
   "source": [
    "alumno.domicilio"
   ]
  },
  {
   "cell_type": "code",
   "execution_count": 49,
   "id": "3ef09a01",
   "metadata": {},
   "outputs": [],
   "source": [
    "alumno.calificar(7)"
   ]
  },
  {
   "cell_type": "code",
   "execution_count": 50,
   "id": "553f1f5a",
   "metadata": {},
   "outputs": [
    {
     "data": {
      "text/plain": [
       "7"
      ]
     },
     "execution_count": 50,
     "metadata": {},
     "output_type": "execute_result"
    }
   ],
   "source": [
    "alumno.calificacion"
   ]
  },
  {
   "cell_type": "code",
   "execution_count": 51,
   "id": "79901843",
   "metadata": {},
   "outputs": [
    {
     "name": "stdout",
     "output_type": "stream",
     "text": [
      "Help on class Persona in module __main__:\n",
      "\n",
      "class Persona(builtins.object)\n",
      " |  Persona(nombre, fechaNacimiento, domicilio)\n",
      " |  \n",
      " |  Clase persona\n",
      " |  \n",
      " |  Esta clase cuenta con cuatro atributos y un metodo\n",
      " |  \n",
      " |  Methods defined here:\n",
      " |  \n",
      " |  __init__(self, nombre, fechaNacimiento, domicilio)\n",
      " |      Initialize self.  See help(type(self)) for accurate signature.\n",
      " |  \n",
      " |  cambiarDomicilio(self, nuevoDomicilio)\n",
      " |  \n",
      " |  ----------------------------------------------------------------------\n",
      " |  Data descriptors defined here:\n",
      " |  \n",
      " |  __dict__\n",
      " |      dictionary for instance variables (if defined)\n",
      " |  \n",
      " |  __weakref__\n",
      " |      list of weak references to the object (if defined)\n",
      "\n"
     ]
    }
   ],
   "source": [
    "help(Persona)"
   ]
  },
  {
   "cell_type": "markdown",
   "id": "bb9f8418",
   "metadata": {},
   "source": [
    "## Exoresiones Regulares.\n",
    "\n",
    "- Permiten encontrar patrones de expresiones regulares.\n",
    "- Se usa con la libreria re"
   ]
  },
  {
   "cell_type": "code",
   "execution_count": 1,
   "id": "01d74c15",
   "metadata": {},
   "outputs": [],
   "source": [
    "# Importando libreria\n",
    "import re"
   ]
  },
  {
   "cell_type": "code",
   "execution_count": 3,
   "id": "a259ccfb",
   "metadata": {},
   "outputs": [],
   "source": [
    "mensaje = \"Esto es un mensaje de ejemplo del curso de python\"\n",
    "\n",
    "match = re.search(\"curso\", mensaje)"
   ]
  },
  {
   "cell_type": "code",
   "execution_count": 4,
   "id": "6c2cea7a",
   "metadata": {},
   "outputs": [
    {
     "data": {
      "text/plain": [
       "39"
      ]
     },
     "execution_count": 4,
     "metadata": {},
     "output_type": "execute_result"
    }
   ],
   "source": [
    "match.end()"
   ]
  },
  {
   "cell_type": "code",
   "execution_count": 5,
   "id": "840db379",
   "metadata": {},
   "outputs": [],
   "source": [
    "match2 = re.match(\"Esto\", mensaje)"
   ]
  },
  {
   "cell_type": "code",
   "execution_count": 6,
   "id": "43d2bda1",
   "metadata": {},
   "outputs": [
    {
     "data": {
      "text/plain": [
       "4"
      ]
     },
     "execution_count": 6,
     "metadata": {},
     "output_type": "execute_result"
    }
   ],
   "source": [
    "match2.end()"
   ]
  },
  {
   "cell_type": "code",
   "execution_count": 9,
   "id": "76f5ff59",
   "metadata": {},
   "outputs": [],
   "source": [
    "mensajeSinEspacios = re.split(\" \", mensaje)"
   ]
  },
  {
   "cell_type": "code",
   "execution_count": 10,
   "id": "69fc86fb",
   "metadata": {},
   "outputs": [
    {
     "data": {
      "text/plain": [
       "['Esto',\n",
       " 'es',\n",
       " 'un',\n",
       " 'mensaje',\n",
       " 'de',\n",
       " 'ejemplo',\n",
       " 'del',\n",
       " 'curso',\n",
       " 'de',\n",
       " 'python']"
      ]
     },
     "execution_count": 10,
     "metadata": {},
     "output_type": "execute_result"
    }
   ],
   "source": [
    "mensajeSinEspacios"
   ]
  },
  {
   "cell_type": "code",
   "execution_count": 11,
   "id": "569f7169",
   "metadata": {},
   "outputs": [],
   "source": [
    "patron = re.findall(\"de\", mensaje)"
   ]
  },
  {
   "cell_type": "code",
   "execution_count": 12,
   "id": "58cf0109",
   "metadata": {},
   "outputs": [
    {
     "data": {
      "text/plain": [
       "['de', 'de', 'de']"
      ]
     },
     "execution_count": 12,
     "metadata": {},
     "output_type": "execute_result"
    }
   ],
   "source": [
    "patron"
   ]
  },
  {
   "cell_type": "code",
   "execution_count": 15,
   "id": "a9390854",
   "metadata": {},
   "outputs": [],
   "source": [
    "texto = \"Un texto es una composición de signos codificados en un sistema de escritura que forma una unidad de sentido.\\\n",
    "También es una composición de caracteres imprimibles (con grafema) generados por un algoritmo de cifrado que,\\\n",
    "aunque no tienen sentido para cualquier persona, sí puede ser descifrado por su destinatario original. \\\n",
    "En otras palabras, un texto es un entramado de signos con una intención comunicativa que adquiere sentido en\\\n",
    "determinado contexto.\""
   ]
  },
  {
   "cell_type": "code",
   "execution_count": 18,
   "id": "74253c28",
   "metadata": {},
   "outputs": [],
   "source": [
    "patron = \"(se\\w+)\\s\\w+\""
   ]
  },
  {
   "cell_type": "code",
   "execution_count": 19,
   "id": "8eb9c701",
   "metadata": {},
   "outputs": [
    {
     "data": {
      "text/plain": [
       "['sentido', 'ser', 'sentido']"
      ]
     },
     "execution_count": 19,
     "metadata": {},
     "output_type": "execute_result"
    }
   ],
   "source": [
    "re.findall(patron, texto)"
   ]
  },
  {
   "cell_type": "code",
   "execution_count": 20,
   "id": "d7601565",
   "metadata": {},
   "outputs": [
    {
     "data": {
      "text/plain": [
       "['es', 'es', 'es', 'es', 'es', 'ser', 'es', 'es', 'es']"
      ]
     },
     "execution_count": 20,
     "metadata": {},
     "output_type": "execute_result"
    }
   ],
   "source": [
    "# Incluyendo metacaracteres.\n",
    "re.findall(\"es|ser\", texto)"
   ]
  },
  {
   "cell_type": "code",
   "execution_count": 21,
   "id": "933b36bc",
   "metadata": {},
   "outputs": [],
   "source": [
    "ejemplo = \"1 22 333 4444\""
   ]
  },
  {
   "cell_type": "code",
   "execution_count": 22,
   "id": "4f1c675e",
   "metadata": {},
   "outputs": [
    {
     "data": {
      "text/plain": [
       "['1 ', '2 ', '3 ']"
      ]
     },
     "execution_count": 22,
     "metadata": {},
     "output_type": "execute_result"
    }
   ],
   "source": [
    "re.findall(\"\\d?\\s\", ejemplo)"
   ]
  },
  {
   "cell_type": "code",
   "execution_count": null,
   "id": "7ca96489",
   "metadata": {},
   "outputs": [],
   "source": []
  },
  {
   "cell_type": "code",
   "execution_count": null,
   "id": "65b981a4",
   "metadata": {},
   "outputs": [],
   "source": []
  },
  {
   "cell_type": "code",
   "execution_count": null,
   "id": "fc4fb3d1",
   "metadata": {},
   "outputs": [],
   "source": []
  },
  {
   "cell_type": "code",
   "execution_count": null,
   "id": "4189c9f7",
   "metadata": {},
   "outputs": [],
   "source": []
  },
  {
   "cell_type": "code",
   "execution_count": null,
   "id": "c5aea55f",
   "metadata": {},
   "outputs": [],
   "source": []
  },
  {
   "cell_type": "code",
   "execution_count": null,
   "id": "aba14cca",
   "metadata": {},
   "outputs": [],
   "source": []
  },
  {
   "cell_type": "code",
   "execution_count": null,
   "id": "c347f682",
   "metadata": {},
   "outputs": [],
   "source": []
  },
  {
   "cell_type": "code",
   "execution_count": null,
   "id": "c71d7027",
   "metadata": {},
   "outputs": [],
   "source": []
  }
 ],
 "metadata": {
  "kernelspec": {
   "display_name": "Python 3 (ipykernel)",
   "language": "python",
   "name": "python3"
  },
  "language_info": {
   "codemirror_mode": {
    "name": "ipython",
    "version": 3
   },
   "file_extension": ".py",
   "mimetype": "text/x-python",
   "name": "python",
   "nbconvert_exporter": "python",
   "pygments_lexer": "ipython3",
   "version": "3.9.13"
  }
 },
 "nbformat": 4,
 "nbformat_minor": 5
}
