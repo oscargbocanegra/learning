{
 "cells": [
  {
   "cell_type": "code",
   "execution_count": 1,
   "metadata": {},
   "outputs": [
    {
     "name": "stdout",
     "output_type": "stream",
     "text": [
      "A\n",
      "E\n",
      "I\n",
      "O\n",
      "U\n"
     ]
    }
   ],
   "source": [
    "# Reto Ciclos imprimir las vocales en mayuscula.\n",
    "\n",
    "vocales = 'aeiou'\n",
    "\n",
    "for vocal in vocales:\n",
    "    print(vocal.upper())"
   ]
  },
  {
   "cell_type": "code",
   "execution_count": 2,
   "metadata": {},
   "outputs": [
    {
     "data": {
      "text/plain": [
       "'8'"
      ]
     },
     "execution_count": 2,
     "metadata": {},
     "output_type": "execute_result"
    }
   ],
   "source": [
    "# Reto pidiendo datos por teclado con input()\n",
    "dia_del_mes = input('Que dia del mes es hoy: ')\n",
    "dia_del_mes"
   ]
  },
  {
   "cell_type": "code",
   "execution_count": 3,
   "metadata": {},
   "outputs": [
    {
     "data": {
      "text/plain": [
       "8"
      ]
     },
     "execution_count": 3,
     "metadata": {},
     "output_type": "execute_result"
    }
   ],
   "source": [
    "# Convirtiendo el valor String de la funcion input en un valor Int\n",
    "dia_del_mes = int(input('Que dia del mes es hoy: '))\n",
    "dia_del_mes"
   ]
  },
  {
   "cell_type": "code",
   "execution_count": 7,
   "metadata": {},
   "outputs": [
    {
     "name": "stdout",
     "output_type": "stream",
     "text": [
      "No es un numero\n"
     ]
    }
   ],
   "source": [
    "# Trabajando Excepciones con TRY.\n",
    "\n",
    "try:\n",
    "    a = int(input('Dame un numero: '))\n",
    "    b = int(input('Dame otro numero: '))\n",
    "except:\n",
    "    print(\"No es un numero\");\n",
    "else:\n",
    "    suma = a+b\n",
    "    print(f'La suma es ' + str(suma))"
   ]
  },
  {
   "cell_type": "code",
   "execution_count": 9,
   "metadata": {},
   "outputs": [
    {
     "data": {
      "text/plain": [
       "[2, 3, 4, 5, 6, 7, 8, 9, 10]"
      ]
     },
     "execution_count": 9,
     "metadata": {},
     "output_type": "execute_result"
    }
   ],
   "source": [
    "# aprendiendo slices rebanadas.\n",
    "\n",
    "numeros = [0,1,2,3,4,5,6,7,8,9,10]\n",
    "\n",
    "# consultando con slices [punto de partida: punto de llegada]\n",
    "numeros[0:5]\n",
    "# consultando con slices con punto de partida sin definir punto de llegada[2:]\n",
    "numeros[2:]"
   ]
  },
  {
   "cell_type": "code",
   "execution_count": 10,
   "metadata": {},
   "outputs": [
    {
     "data": {
      "text/plain": [
       "[5, 6, 7]"
      ]
     },
     "execution_count": 10,
     "metadata": {},
     "output_type": "execute_result"
    }
   ],
   "source": [
    "# Slices consultados con indices negativos.\n",
    "numeros = [0,1,2,3,4,5,6,7,8,9,10]\n",
    "numeros[-6:-3]"
   ]
  },
  {
   "cell_type": "code",
   "execution_count": 11,
   "metadata": {},
   "outputs": [
    {
     "data": {
      "text/plain": [
       "[0, 3, 6, 9]"
      ]
     },
     "execution_count": 11,
     "metadata": {},
     "output_type": "execute_result"
    }
   ],
   "source": [
    "# Steps o pasos, para ser usados con los slices indicando el numero de pasos entre cada slice.\n",
    "numeros = [0,1,2,3,4,5,6,7,8,9,10]\n",
    "numeros[::3]"
   ]
  },
  {
   "cell_type": "code",
   "execution_count": 12,
   "metadata": {},
   "outputs": [
    {
     "data": {
      "text/plain": [
       "[0, 1, 4, 5, 6, 7, 8, 9, 10]"
      ]
     },
     "execution_count": 12,
     "metadata": {},
     "output_type": "execute_result"
    }
   ],
   "source": [
    "# Eliminando mumeros de un slice.\n",
    "numeros = [0,1,2,3,4,5,6,7,8,9,10]\n",
    "del numeros[2:4]\n",
    "numeros"
   ]
  },
  {
   "cell_type": "code",
   "execution_count": 13,
   "metadata": {},
   "outputs": [
    {
     "data": {
      "text/plain": [
       "[9, 10, 6, 5]"
      ]
     },
     "execution_count": 13,
     "metadata": {},
     "output_type": "execute_result"
    }
   ],
   "source": [
    "# Generando Listas en python.\n",
    "# Son mutables y se pueden modificar.\n",
    "lista_calificaciones = [9,10,6,5]\n",
    "\n",
    "lista_calificaciones"
   ]
  },
  {
   "cell_type": "code",
   "execution_count": 14,
   "metadata": {},
   "outputs": [
    {
     "data": {
      "text/plain": [
       "{'Pablo': 9, 'Juan': 10, 'Kevin': 6, 'Oscar': 8}"
      ]
     },
     "execution_count": 14,
     "metadata": {},
     "output_type": "execute_result"
    }
   ],
   "source": [
    "# Diccionarios en python:\n",
    "diccionarios_calificaciones = {\"Pablo\":9, \"Juan\":10, \"Kevin\":6, \"Oscar\":8}\n",
    "diccionarios_calificaciones"
   ]
  },
  {
   "cell_type": "code",
   "execution_count": 15,
   "metadata": {},
   "outputs": [
    {
     "data": {
      "text/plain": [
       "8"
      ]
     },
     "execution_count": 15,
     "metadata": {},
     "output_type": "execute_result"
    }
   ],
   "source": [
    "# consultando diccionarios par la llave.\n",
    "diccionarios_calificaciones[\"Oscar\"]"
   ]
  },
  {
   "cell_type": "code",
   "execution_count": 18,
   "metadata": {},
   "outputs": [
    {
     "data": {
      "text/plain": [
       "{'pepe': 7, 'Maria': 9}"
      ]
     },
     "execution_count": 18,
     "metadata": {},
     "output_type": "execute_result"
    }
   ],
   "source": [
    "# Construccion de diccionarios con la funcion dict.\n",
    "dict([[\"pepe\",7],[\"Maria\",9]])"
   ]
  },
  {
   "cell_type": "code",
   "execution_count": 20,
   "metadata": {},
   "outputs": [
    {
     "data": {
      "text/plain": [
       "{'Lunes': 9, 'Martes': 10, 'Miercoles': 11, 'Jueves': 12}"
      ]
     },
     "execution_count": 20,
     "metadata": {},
     "output_type": "execute_result"
    }
   ],
   "source": [
    "# Añadiendo elementos al diccionario\n",
    "dias_semana = {\"Lunes\": 9, \"Martes\": 10, \"Miercoles\": 11}\n",
    "dias_semana\n",
    "dias_semana[\"Jueves\"] =12\n",
    "dias_semana"
   ]
  },
  {
   "cell_type": "code",
   "execution_count": 21,
   "metadata": {},
   "outputs": [
    {
     "data": {
      "text/plain": [
       "{'Martes': 10, 'Miercoles': 11}"
      ]
     },
     "execution_count": 21,
     "metadata": {},
     "output_type": "execute_result"
    }
   ],
   "source": [
    "#Eliminando elementos del diccionario.\n",
    "dias_semana = {\"Lunes\": 9, \"Martes\": 10, \"Miercoles\": 11}\n",
    "del dias_semana[\"Lunes\"]\n",
    "dias_semana"
   ]
  },
  {
   "cell_type": "code",
   "execution_count": 22,
   "metadata": {},
   "outputs": [
    {
     "data": {
      "text/plain": [
       "{'Lunes': 9, 'Martes': 10, 'Miercoles': 11, 'Viernes': 13, 'Sabado': 14}"
      ]
     },
     "execution_count": 22,
     "metadata": {},
     "output_type": "execute_result"
    }
   ],
   "source": [
    "# Actualizando elementos del diccionario.\n",
    "dias_semana = {\"Lunes\": 9, \"Martes\": 10, \"Miercoles\": 11}\n",
    "dias_semana.update({\"Viernes\":13, \"Sabado\":14})\n",
    "dias_semana"
   ]
  },
  {
   "cell_type": "code",
   "execution_count": 23,
   "metadata": {},
   "outputs": [
    {
     "name": "stdout",
     "output_type": "stream",
     "text": [
      "Lunes\n",
      "Martes\n",
      "Miercoles\n",
      "Viernes\n",
      "Sabado\n"
     ]
    }
   ],
   "source": [
    "# Recorriendo elementos en un diccionario.\n",
    "dias_semana = {'Lunes': 9, 'Martes': 10, 'Miercoles': 11, 'Viernes': 13, 'Sabado': 14}\n",
    "# Imprimiendo las llaves.\n",
    "for dias in dias_semana:\n",
    "    print(dias)"
   ]
  },
  {
   "cell_type": "code",
   "execution_count": 24,
   "metadata": {},
   "outputs": [
    {
     "name": "stdout",
     "output_type": "stream",
     "text": [
      "9\n",
      "10\n",
      "11\n",
      "13\n",
      "14\n"
     ]
    }
   ],
   "source": [
    "# Imprimiendo los valores.\n",
    "for dias in dias_semana:\n",
    "    print(dias_semana[dias])"
   ]
  },
  {
   "cell_type": "code",
   "execution_count": 25,
   "metadata": {},
   "outputs": [
    {
     "name": "stdout",
     "output_type": "stream",
     "text": [
      "Lunes\n",
      "Martes\n",
      "Miercoles\n",
      "Viernes\n",
      "Sabado\n"
     ]
    }
   ],
   "source": [
    "# Accediendo a las llaves de un diccionario.\n",
    "for keys in dias_semana.keys():\n",
    "    print(keys)"
   ]
  },
  {
   "cell_type": "code",
   "execution_count": 26,
   "metadata": {},
   "outputs": [
    {
     "name": "stdout",
     "output_type": "stream",
     "text": [
      "9\n",
      "10\n",
      "11\n",
      "13\n",
      "14\n"
     ]
    }
   ],
   "source": [
    "# Accediendo a los valores  de un diccionario.\n",
    "for value in dias_semana.values():\n",
    "    print(value)"
   ]
  },
  {
   "cell_type": "code",
   "execution_count": 27,
   "metadata": {},
   "outputs": [
    {
     "name": "stdout",
     "output_type": "stream",
     "text": [
      "('Lunes', 9)\n",
      "('Martes', 10)\n",
      "('Miercoles', 11)\n",
      "('Viernes', 13)\n",
      "('Sabado', 14)\n"
     ]
    }
   ],
   "source": [
    "# Accediendo a las llaves y valores de un diccionario.\n",
    "# Esta ocion retorna una tupla\n",
    "for item in dias_semana.items():\n",
    "    print(item)"
   ]
  },
  {
   "cell_type": "code",
   "execution_count": 28,
   "metadata": {},
   "outputs": [
    {
     "data": {
      "text/plain": [
       "(1, 2, 3, 4, 5, 6, 7, 8, 9, 10)"
      ]
     },
     "execution_count": 28,
     "metadata": {},
     "output_type": "execute_result"
    }
   ],
   "source": [
    "# Tupas en python.\n",
    "# Son inmutables y NO se pueden modificar.\n",
    "tupla_1 = (1,2,3,4,5,6,7,8,9,10)\n",
    "tupla_1"
   ]
  }
 ],
 "metadata": {
  "kernelspec": {
   "display_name": "dev-ia",
   "language": "python",
   "name": "python3"
  },
  "language_info": {
   "codemirror_mode": {
    "name": "ipython",
    "version": 3
   },
   "file_extension": ".py",
   "mimetype": "text/x-python",
   "name": "python",
   "nbconvert_exporter": "python",
   "pygments_lexer": "ipython3",
   "version": "3.10.12"
  },
  "orig_nbformat": 4
 },
 "nbformat": 4,
 "nbformat_minor": 2
}
