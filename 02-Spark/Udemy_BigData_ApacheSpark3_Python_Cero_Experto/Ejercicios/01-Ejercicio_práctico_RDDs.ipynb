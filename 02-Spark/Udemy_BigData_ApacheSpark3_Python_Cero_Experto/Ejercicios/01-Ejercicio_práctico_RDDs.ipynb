{
 "cells": [
  {
   "cell_type": "markdown",
   "id": "22bc4d93",
   "metadata": {},
   "source": [
    "# Ejercicio Práctico RDDs"
   ]
  },
  {
   "cell_type": "code",
   "execution_count": 1,
   "id": "c1a214d6",
   "metadata": {},
   "outputs": [],
   "source": [
    "import findspark\n",
    "findspark.init()\n",
    "\n",
    "import pandas as pd\n",
    "import pyspark\n",
    "from pyspark.sql import SparkSession"
   ]
  },
  {
   "cell_type": "code",
   "execution_count": 2,
   "id": "bd8b0d7c",
   "metadata": {},
   "outputs": [],
   "source": [
    "spark = SparkSession.builder.getOrCreate()\n",
    "sc = spark.sparkContext"
   ]
  },
  {
   "cell_type": "code",
   "execution_count": 13,
   "id": "1479e36b",
   "metadata": {},
   "outputs": [
    {
     "data": {
      "text/plain": [
       "[1, 2, 3, 4, 5]"
      ]
     },
     "execution_count": 13,
     "metadata": {},
     "output_type": "execute_result"
    }
   ],
   "source": [
    "## Genera un RDD (newRDD) con la siguiente lista [1, 2, 3, 4, 5]\n",
    "newRDD = [1, 2, 3, 4, 5]\n",
    "list_rdd = sc.parallelize(newRDD)\n",
    "list_rdd.collect()"
   ]
  },
  {
   "cell_type": "code",
   "execution_count": 14,
   "id": "9bc25ae9",
   "metadata": {},
   "outputs": [
    {
     "data": {
      "text/plain": [
       "[2, 4, 6, 8, 10]"
      ]
     },
     "execution_count": 14,
     "metadata": {},
     "output_type": "execute_result"
    }
   ],
   "source": [
    "## Multiplica por 2 todos los elementos del RDD anterior\n",
    "list_rdd_double = list_rdd.map(lambda x : x * 2)\n",
    "list_rdd_double.collect()"
   ]
  },
  {
   "cell_type": "code",
   "execution_count": 15,
   "id": "a047081a",
   "metadata": {},
   "outputs": [
    {
     "data": {
      "text/plain": [
       "[2, 4]"
      ]
     },
     "execution_count": 15,
     "metadata": {},
     "output_type": "execute_result"
    }
   ],
   "source": [
    "## Filtra el RDD anterior por los elementos pares\n",
    "filter_rdd = list_rdd.filter(lambda x : x % 2 == 0)\n",
    "filter_rdd.collect()"
   ]
  },
  {
   "cell_type": "code",
   "execution_count": 16,
   "id": "aeb368f0",
   "metadata": {},
   "outputs": [
    {
     "data": {
      "text/plain": [
       "[1, 2, 3, 4, 5]"
      ]
     },
     "execution_count": 16,
     "metadata": {},
     "output_type": "execute_result"
    }
   ],
   "source": [
    "## Muestra los elementos unicos del RDD\n",
    "unicosRDD = list_rdd.distinct()\n",
    "unicosRDD.collect()"
   ]
  },
  {
   "cell_type": "code",
   "execution_count": 30,
   "id": "787c7986",
   "metadata": {},
   "outputs": [
    {
     "data": {
      "text/plain": [
       "[('b', 1), ('a', 6)]"
      ]
     },
     "execution_count": 30,
     "metadata": {},
     "output_type": "execute_result"
    }
   ],
   "source": [
    "## Obten la suma de los valores agrupados por el key\n",
    "from operator import add\n",
    "\n",
    "myRDD = sc.parallelize([('a', 1), ('a', 2), ('a', 3), ('b', 1)])\n",
    "sumaRDD = myRDD.reduceByKey(add)\n",
    "sumaRDD.collect()"
   ]
  },
  {
   "cell_type": "code",
   "execution_count": 21,
   "id": "5133d6f2",
   "metadata": {},
   "outputs": [
    {
     "data": {
      "text/plain": [
       "[('a', 1), ('a', 2), ('a', 3), ('b', 1)]"
      ]
     },
     "execution_count": 21,
     "metadata": {},
     "output_type": "execute_result"
    }
   ],
   "source": [
    "## Ordena los RDDs en base al key\n",
    "orderRDD = myRDD.sortByKey()\n",
    "orderRDD.collect()"
   ]
  },
  {
   "cell_type": "code",
   "execution_count": 25,
   "id": "bfe2d705",
   "metadata": {},
   "outputs": [
    {
     "data": {
      "text/plain": [
       "120"
      ]
     },
     "execution_count": 25,
     "metadata": {},
     "output_type": "execute_result"
    }
   ],
   "source": [
    "## Toma los elementos del RDD para multiplicarlos entre si y obtener un resultado\n",
    "data= [1, 2, 3, 4, 5]\n",
    "myRDD= sc.parallelize(data)\n",
    "multiplicaRDD = myRDD.reduce(lambda x, y : x * y)\n",
    "multiplicaRDD"
   ]
  },
  {
   "cell_type": "code",
   "execution_count": 27,
   "id": "b6139be0",
   "metadata": {},
   "outputs": [
    {
     "data": {
      "text/plain": [
       "[('Python', 3), ('Java', 1), ('R', 2), ('Scala', 1)]"
      ]
     },
     "execution_count": 27,
     "metadata": {},
     "output_type": "execute_result"
    }
   ],
   "source": [
    "## Cuenta cuantas veces aparece cada valor\n",
    "data= ['Python', 'Scala', 'Python', 'R', 'Python', 'Java', 'R' ]\n",
    "myRDD= sc.parallelize(data)\n",
    "myRDD.count()\n",
    "\n",
    "# Transformar cada elemento en un par clave-valor (elemento, 1)\n",
    "pairRDD = myRDD.map(lambda x: (x, 1))\n",
    "# Reducir por clave para contar las ocurrencias\n",
    "counts = pairRDD.reduceByKey(lambda a, b: a + b)\n",
    "\n",
    "# Opcion2 con la funcion countByvalue().items()\n",
    "#counts.countByvalue().items()\n",
    "\n",
    "counts.collect()"
   ]
  },
  {
   "cell_type": "code",
   "execution_count": 29,
   "id": "633f7716",
   "metadata": {},
   "outputs": [
    {
     "data": {
      "text/plain": [
       "[('b', 1), ('a', 2), ('c', 1)]"
      ]
     },
     "execution_count": 29,
     "metadata": {},
     "output_type": "execute_result"
    }
   ],
   "source": [
    "## Cuenta cuantas veces aparece cada una de las keys\n",
    "data= [('a', 1), ('b', 1), ('c', 1), ('a', 1)]\n",
    "myRDD = sc.parallelize(data)\n",
    "\n",
    "counts = myRDD.reduceByKey(lambda a, b: a + b)\n",
    "\n",
    "# Opcion2 con la funcion countByvalue().items()\n",
    "#counts.countBykey().items()\n",
    "\n",
    "\n",
    "counts.collect()"
   ]
  }
 ],
 "metadata": {
  "kernelspec": {
   "display_name": "Python 3 (ipykernel)",
   "language": "python",
   "name": "python3"
  },
  "language_info": {
   "codemirror_mode": {
    "name": "ipython",
    "version": 3
   },
   "file_extension": ".py",
   "mimetype": "text/x-python",
   "name": "python",
   "nbconvert_exporter": "python",
   "pygments_lexer": "ipython3",
   "version": "3.9.18"
  }
 },
 "nbformat": 4,
 "nbformat_minor": 5
}
