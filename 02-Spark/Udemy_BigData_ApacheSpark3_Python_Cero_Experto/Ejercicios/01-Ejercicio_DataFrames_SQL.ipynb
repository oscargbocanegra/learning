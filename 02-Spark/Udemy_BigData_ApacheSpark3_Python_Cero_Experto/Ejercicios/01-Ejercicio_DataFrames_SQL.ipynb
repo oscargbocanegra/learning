{
 "cells": [
  {
   "cell_type": "markdown",
   "id": "e2c6ce4e",
   "metadata": {},
   "source": [
    "# Ejercicio aplicado de DataFrames y Spark SQL"
   ]
  },
  {
   "cell_type": "code",
   "execution_count": 1,
   "id": "6444aae7",
   "metadata": {},
   "outputs": [],
   "source": [
    "import findspark\n",
    "findspark.init()\n",
    "\n",
    "import pandas as pd\n",
    "import pyspark"
   ]
  },
  {
   "cell_type": "code",
   "execution_count": 2,
   "id": "2a099cd1",
   "metadata": {},
   "outputs": [],
   "source": [
    "from pyspark.sql import SparkSession\n",
    "\n",
    "spark = SparkSession.builder\\\n",
    "        .master(\"local[*]\")\\\n",
    "        .appName('PySpark_Df')\\\n",
    "        .getOrCreate()"
   ]
  },
  {
   "cell_type": "code",
   "execution_count": 1,
   "id": "652d0228",
   "metadata": {},
   "outputs": [],
   "source": [
    "## Importa el csv de \"data/WorldCupPlayers.csv\"\n",
    "## Visualiza los datos"
   ]
  },
  {
   "cell_type": "code",
   "execution_count": 2,
   "id": "74516118",
   "metadata": {},
   "outputs": [],
   "source": [
    "## ¿que tipo de datos contiene cada variable?"
   ]
  },
  {
   "cell_type": "code",
   "execution_count": 3,
   "id": "58248b51",
   "metadata": {},
   "outputs": [],
   "source": [
    "## ¿Cuantos registros hay?"
   ]
  },
  {
   "cell_type": "code",
   "execution_count": 4,
   "id": "514be43a",
   "metadata": {},
   "outputs": [],
   "source": [
    "## Obtén los principales estadísticos de Position"
   ]
  },
  {
   "cell_type": "code",
   "execution_count": 5,
   "id": "c2b86748",
   "metadata": {},
   "outputs": [],
   "source": [
    "## Slecciona y muestra los registros distintos de 'Player Name','Coach Name'"
   ]
  },
  {
   "cell_type": "code",
   "execution_count": 6,
   "id": "74d787f0",
   "metadata": {},
   "outputs": [],
   "source": [
    "## ¿Cuantos partidos con el ID de 1096 ha habido?"
   ]
  },
  {
   "cell_type": "code",
   "execution_count": 7,
   "id": "a4d33331",
   "metadata": {},
   "outputs": [],
   "source": [
    "## Muestra los datos donde la posicion haya sido C y el evento sea G40"
   ]
  },
  {
   "cell_type": "code",
   "execution_count": 8,
   "id": "f4a2c096",
   "metadata": {},
   "outputs": [],
   "source": [
    "## Utiliza Spark SQL para mostras los registros donde el MatchID sea mayor o igual a 20\n"
   ]
  },
  {
   "cell_type": "code",
   "execution_count": null,
   "id": "fa84761c",
   "metadata": {},
   "outputs": [],
   "source": []
  }
 ],
 "metadata": {
  "kernelspec": {
   "display_name": "Python 3 (ipykernel)",
   "language": "python",
   "name": "python3"
  },
  "language_info": {
   "codemirror_mode": {
    "name": "ipython",
    "version": 3
   },
   "file_extension": ".py",
   "mimetype": "text/x-python",
   "name": "python",
   "nbconvert_exporter": "python",
   "pygments_lexer": "ipython3",
   "version": "3.8.12"
  }
 },
 "nbformat": 4,
 "nbformat_minor": 5
}
